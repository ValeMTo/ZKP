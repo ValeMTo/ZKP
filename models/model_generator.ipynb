{
 "cells": [
  {
   "attachments": {},
   "cell_type": "markdown",
   "metadata": {},
   "source": [
    "# Model generator"
   ]
  },
  {
   "attachments": {},
   "cell_type": "markdown",
   "metadata": {},
   "source": [
    "## Imports"
   ]
  },
  {
   "cell_type": "code",
   "execution_count": 3,
   "metadata": {},
   "outputs": [],
   "source": [
    "# list of supported layers\n",
    "from tensorflow.keras.layers import (\n",
    "    Input,\n",
    "    Activation,\n",
    "    AveragePooling2D,\n",
    "    BatchNormalization,\n",
    "    Conv2D,\n",
    "    Dense,\n",
    "    Dropout,\n",
    "    Flatten,\n",
    "    GlobalAveragePooling2D,\n",
    "    GlobalMaxPooling2D,\n",
    "    Lambda, # only for polynomial activation in the form of `Lambda(lambda x: x**2+x)`\n",
    "    MaxPooling2D,\n",
    "    ReLU,\n",
    "    Softmax,\n",
    "    )\n",
    "from tensorflow.keras import Model\n",
    "from tensorflow.keras.datasets import mnist\n",
    "from tensorflow.keras.utils import to_categorical\n",
    "import numpy as np\n",
    "import matplotlib.pyplot as plt\n",
    "import tensorflow as tf\n",
    "import numpy as np\n",
    "import tf2onnx\n",
    "import onnxruntime as ort"
   ]
  },
  {
   "attachments": {},
   "cell_type": "markdown",
   "metadata": {},
   "source": [
    "## Dataset generator"
   ]
  },
  {
   "cell_type": "code",
   "execution_count": 4,
   "metadata": {},
   "outputs": [],
   "source": [
    "X_train = np.random.randint(0, 255, size=(50, 32, 32, 3))\n",
    "X_test = np.random.randint(0, 255, size=(10, 32, 32, 3))\n",
    "\n",
    "y_train = np.random.randint(0, 4, size=(50, 1))\n",
    "y_test = np.random.randint(0, 4, size=(10, 1))\n",
    "\n",
    "y_train = tf.keras.utils.to_categorical(y_train)\n",
    "y_test = tf.keras.utils.to_categorical(y_test)"
   ]
  },
  {
   "cell_type": "code",
   "execution_count": 5,
   "metadata": {},
   "outputs": [
    {
     "data": {
      "text/plain": [
       "((50, 32, 32, 3), (10, 32, 32, 3), (50, 4), (10, 4))"
      ]
     },
     "execution_count": 5,
     "metadata": {},
     "output_type": "execute_result"
    }
   ],
   "source": [
    "X_train.shape, X_test.shape, y_train.shape, y_test.shape"
   ]
  },
  {
   "attachments": {},
   "cell_type": "markdown",
   "metadata": {},
   "source": [
    "## Model definition"
   ]
  },
  {
   "attachments": {},
   "cell_type": "markdown",
   "metadata": {},
   "source": [
    "### Formulation"
   ]
  },
  {
   "cell_type": "code",
   "execution_count": 69,
   "metadata": {},
   "outputs": [],
   "source": [
    "model = tf.keras.Sequential([\n",
    "    tf.keras.layers.Conv2D(filters=30, kernel_size=2, strides=1, use_bias = True,input_shape=(32, 32, 3) ), \n",
    "    tf.keras.layers.MaxPooling2D(pool_size=(1, 1), padding='valid'),\n",
    "    tf.keras.layers.Conv2D(filters=10, kernel_size=2, strides=2, use_bias = False),\n",
    "    tf.keras.layers.Dense(8, activation='relu', kernel_regularizer=tf.keras.regularizers.l2(0.01)),\n",
    "    tf.keras.layers.BatchNormalization(),\n",
    "    tf.keras.layers.Dense(12, activation='relu'),\n",
    "    tf.keras.layers.Dense(4, activation='relu'),\n",
    "    tf.keras.layers.BatchNormalization(),\n",
    "    tf.keras.layers.AveragePooling2D(pool_size=(2, 2), strides = (1,1), padding='valid'),\n",
    "    #tf.keras.layers.GlobalMaxPool2D(),\n",
    "    #tf.keras.layers.GlobalAveragePooling2D(),\n",
    "    tf.keras.layers.Flatten(),\n",
    "    tf.keras.layers.Dense(1500, activation='relu'),\n",
    "    tf.keras.layers.Dense(1200, activation='relu'),\n",
    "    tf.keras.layers.Dense(4, activation='softmax'),\n",
    "])\n"
   ]
  },
  {
   "cell_type": "code",
   "execution_count": 70,
   "metadata": {},
   "outputs": [
    {
     "name": "stdout",
     "output_type": "stream",
     "text": [
      "Model: \"sequential_4\"\n",
      "_________________________________________________________________\n",
      " Layer (type)                Output Shape              Param #   \n",
      "=================================================================\n",
      " conv2d_5 (Conv2D)           (None, 31, 31, 30)        390       \n",
      "                                                                 \n",
      " max_pooling2d_1 (MaxPooling  (None, 31, 31, 30)       0         \n",
      " 2D)                                                             \n",
      "                                                                 \n",
      " conv2d_6 (Conv2D)           (None, 15, 15, 10)        1200      \n",
      "                                                                 \n",
      " dense_10 (Dense)            (None, 15, 15, 8)         88        \n",
      "                                                                 \n",
      " batch_normalization_4 (Batc  (None, 15, 15, 8)        32        \n",
      " hNormalization)                                                 \n",
      "                                                                 \n",
      " dense_11 (Dense)            (None, 15, 15, 12)        108       \n",
      "                                                                 \n",
      " dense_12 (Dense)            (None, 15, 15, 4)         52        \n",
      "                                                                 \n",
      " batch_normalization_5 (Batc  (None, 15, 15, 4)        16        \n",
      " hNormalization)                                                 \n",
      "                                                                 \n",
      " average_pooling2d_1 (Averag  (None, 14, 14, 4)        0         \n",
      " ePooling2D)                                                     \n",
      "                                                                 \n",
      " flatten (Flatten)           (None, 784)               0         \n",
      "                                                                 \n",
      " dense_13 (Dense)            (None, 36)                28260     \n",
      "                                                                 \n",
      " dense_14 (Dense)            (None, 12)                444       \n",
      "                                                                 \n",
      " dense_15 (Dense)            (None, 4)                 52        \n",
      "                                                                 \n",
      "=================================================================\n",
      "Total params: 30,642\n",
      "Trainable params: 30,618\n",
      "Non-trainable params: 24\n",
      "_________________________________________________________________\n"
     ]
    }
   ],
   "source": [
    "model.summary()"
   ]
  },
  {
   "cell_type": "code",
   "execution_count": 71,
   "metadata": {},
   "outputs": [
    {
     "data": {
      "text/plain": [
       "('conv2d_6',\n",
       " 1,\n",
       " [<tf.Variable 'conv2d_6/kernel:0' shape=(2, 2, 30, 10) dtype=float32, numpy=\n",
       "  array([[[[ 0.151755  ,  0.02965891,  0.11027792, ..., -0.07940943,\n",
       "             0.0450602 , -0.06026942],\n",
       "           [ 0.06969878,  0.17508283, -0.19216797, ..., -0.18597053,\n",
       "            -0.16191572,  0.08852878],\n",
       "           [ 0.14598835,  0.08625799, -0.04200442, ...,  0.07254735,\n",
       "             0.11810941,  0.09656203],\n",
       "           ...,\n",
       "           [-0.18034564, -0.17960891, -0.17029476, ..., -0.18624519,\n",
       "            -0.14101855, -0.13976574],\n",
       "           [ 0.1872369 ,  0.13522726,  0.16895595, ..., -0.15175575,\n",
       "             0.02538882, -0.02522728],\n",
       "           [-0.00817746,  0.03266709, -0.08084045, ...,  0.04074501,\n",
       "             0.13202065, -0.18967809]],\n",
       "  \n",
       "          [[ 0.0248781 , -0.13570522,  0.11865121, ..., -0.06770051,\n",
       "             0.17224339, -0.07759344],\n",
       "           [-0.13546255, -0.1461629 ,  0.0968166 , ..., -0.13745408,\n",
       "             0.1389429 ,  0.14482135],\n",
       "           [ 0.12818208, -0.10917757, -0.16312186, ...,  0.10933676,\n",
       "            -0.096126  ,  0.16477007],\n",
       "           ...,\n",
       "           [-0.08985367, -0.02877666, -0.06405348, ..., -0.14264944,\n",
       "            -0.13081282, -0.08604035],\n",
       "           [ 0.15234601, -0.03653055, -0.11187771, ...,  0.13577452,\n",
       "             0.18350637, -0.07078597],\n",
       "           [ 0.01033524,  0.03979886,  0.146126  , ..., -0.04066311,\n",
       "             0.11701316,  0.18957984]]],\n",
       "  \n",
       "  \n",
       "         [[[ 0.10448015, -0.17244598,  0.13131136, ...,  0.18903756,\n",
       "             0.02402899,  0.07802883],\n",
       "           [-0.10640015, -0.05228449, -0.17962882, ..., -0.17645946,\n",
       "             0.14369643,  0.19177303],\n",
       "           [ 0.12973711, -0.06659986,  0.167029  , ..., -0.02362625,\n",
       "            -0.04115379,  0.18913305],\n",
       "           ...,\n",
       "           [-0.189004  ,  0.09278858, -0.0275003 , ..., -0.04580602,\n",
       "             0.09499106,  0.18131575],\n",
       "           [ 0.1643207 , -0.03907348, -0.1271748 , ..., -0.06404337,\n",
       "            -0.01608349,  0.14084652],\n",
       "           [ 0.01952562,  0.11336571, -0.19191454, ..., -0.06508902,\n",
       "            -0.06079844,  0.11139464]],\n",
       "  \n",
       "          [[-0.01098096,  0.10684824,  0.07866153, ...,  0.14279914,\n",
       "            -0.10475199,  0.01021668],\n",
       "           [-0.17508352, -0.04138283, -0.13469905, ..., -0.04851885,\n",
       "             0.12283531, -0.13879766],\n",
       "           [ 0.15016446, -0.11761081, -0.13128997, ...,  0.1050899 ,\n",
       "            -0.05647165, -0.03528731],\n",
       "           ...,\n",
       "           [ 0.07994533, -0.05034034,  0.05465207, ...,  0.01476115,\n",
       "             0.02223489, -0.01069619],\n",
       "           [-0.02141501, -0.04708506, -0.05826737, ...,  0.03679146,\n",
       "             0.12167391,  0.07700664],\n",
       "           [ 0.03427023,  0.10180587,  0.12307104, ..., -0.0221342 ,\n",
       "             0.13089344,  0.08421546]]]], dtype=float32)>])"
      ]
     },
     "execution_count": 71,
     "metadata": {},
     "output_type": "execute_result"
    }
   ],
   "source": [
    "num = 2\n",
    "model.layers[num].name, len(model.layers[num].weights), model.layers[num].weights"
   ]
  },
  {
   "attachments": {},
   "cell_type": "markdown",
   "metadata": {},
   "source": [
    "### Training"
   ]
  },
  {
   "cell_type": "code",
   "execution_count": 72,
   "metadata": {},
   "outputs": [],
   "source": [
    "model.compile(\n",
    "    loss='categorical_crossentropy',\n",
    "    optimizer='adam',\n",
    "    metrics=['acc']\n",
    "    )"
   ]
  },
  {
   "cell_type": "code",
   "execution_count": 73,
   "metadata": {},
   "outputs": [
    {
     "name": "stdout",
     "output_type": "stream",
     "text": [
      "Epoch 1/15\n"
     ]
    },
    {
     "name": "stdout",
     "output_type": "stream",
     "text": [
      "4/4 [==============================] - 1s 136ms/step - loss: 1.8046 - acc: 0.3000 - val_loss: 8.7168 - val_acc: 0.0000e+00\n",
      "Epoch 2/15\n",
      "4/4 [==============================] - 0s 32ms/step - loss: 1.3488 - acc: 0.4000 - val_loss: 6.9429 - val_acc: 0.0000e+00\n",
      "Epoch 3/15\n",
      "4/4 [==============================] - 0s 58ms/step - loss: 1.1548 - acc: 0.4600 - val_loss: 6.6057 - val_acc: 0.0000e+00\n",
      "Epoch 4/15\n",
      "4/4 [==============================] - 0s 30ms/step - loss: 1.0575 - acc: 0.6200 - val_loss: 5.9271 - val_acc: 0.0000e+00\n",
      "Epoch 5/15\n",
      "4/4 [==============================] - 0s 43ms/step - loss: 0.9802 - acc: 0.7400 - val_loss: 5.0733 - val_acc: 0.0000e+00\n",
      "Epoch 6/15\n",
      "4/4 [==============================] - 0s 43ms/step - loss: 0.9042 - acc: 0.7400 - val_loss: 4.4517 - val_acc: 0.0000e+00\n",
      "Epoch 7/15\n",
      "4/4 [==============================] - 0s 40ms/step - loss: 0.8396 - acc: 0.8000 - val_loss: 4.0562 - val_acc: 0.0000e+00\n",
      "Epoch 8/15\n",
      "4/4 [==============================] - 0s 40ms/step - loss: 0.7777 - acc: 0.8400 - val_loss: 3.7547 - val_acc: 0.0000e+00\n",
      "Epoch 9/15\n",
      "4/4 [==============================] - 0s 38ms/step - loss: 0.7163 - acc: 0.8400 - val_loss: 3.5686 - val_acc: 0.0000e+00\n",
      "Epoch 10/15\n",
      "4/4 [==============================] - 0s 36ms/step - loss: 0.6702 - acc: 0.8400 - val_loss: 3.5532 - val_acc: 0.0000e+00\n",
      "Epoch 11/15\n",
      "4/4 [==============================] - 0s 37ms/step - loss: 0.6297 - acc: 0.9000 - val_loss: 3.4444 - val_acc: 0.0000e+00\n",
      "Epoch 12/15\n",
      "4/4 [==============================] - 0s 36ms/step - loss: 0.6080 - acc: 0.8800 - val_loss: 3.2284 - val_acc: 0.0000e+00\n",
      "Epoch 13/15\n",
      "4/4 [==============================] - 0s 41ms/step - loss: 0.5652 - acc: 0.9000 - val_loss: 2.9607 - val_acc: 0.0000e+00\n",
      "Epoch 14/15\n",
      "4/4 [==============================] - 0s 34ms/step - loss: 0.5126 - acc: 0.8800 - val_loss: 2.8442 - val_acc: 0.1000\n",
      "Epoch 15/15\n",
      "4/4 [==============================] - 0s 29ms/step - loss: 0.4876 - acc: 0.8800 - val_loss: 2.7727 - val_acc: 0.1000\n"
     ]
    },
    {
     "data": {
      "text/plain": [
       "<keras.callbacks.History at 0x20a2e17d250>"
      ]
     },
     "execution_count": 73,
     "metadata": {},
     "output_type": "execute_result"
    }
   ],
   "source": [
    "model.fit(X_train, y_train, epochs=15, batch_size=16,  validation_data=(X_test, y_test))"
   ]
  },
  {
   "attachments": {},
   "cell_type": "markdown",
   "metadata": {},
   "source": [
    "## Save"
   ]
  },
  {
   "attachments": {},
   "cell_type": "markdown",
   "metadata": {},
   "source": [
    "### Tensorflow model - h5"
   ]
  },
  {
   "cell_type": "code",
   "execution_count": 84,
   "metadata": {},
   "outputs": [],
   "source": [
    "# Save tensorflow model\n",
    "model.save('model_dense.h5')"
   ]
  },
  {
   "cell_type": "code",
   "execution_count": 75,
   "metadata": {},
   "outputs": [
    {
     "data": {
      "text/plain": [
       "[<keras.layers.convolutional.conv2d.Conv2D at 0x20a33aec910>,\n",
       " <keras.layers.pooling.max_pooling2d.MaxPooling2D at 0x20a33aec8e0>,\n",
       " <keras.layers.convolutional.conv2d.Conv2D at 0x20a33aec970>,\n",
       " <keras.layers.core.dense.Dense at 0x20a33ae40d0>,\n",
       " <keras.layers.normalization.batch_normalization.BatchNormalization at 0x20a33ae4100>,\n",
       " <keras.layers.core.dense.Dense at 0x20a33ae4310>,\n",
       " <keras.layers.core.dense.Dense at 0x20a33ae47f0>,\n",
       " <keras.layers.normalization.batch_normalization.BatchNormalization at 0x20a33ae4a30>,\n",
       " <keras.layers.pooling.average_pooling2d.AveragePooling2D at 0x20a33ae4e50>,\n",
       " <keras.layers.reshaping.flatten.Flatten at 0x20a33ada190>,\n",
       " <keras.layers.core.dense.Dense at 0x20a33ada910>,\n",
       " <keras.layers.core.dense.Dense at 0x20a33ada9d0>,\n",
       " <keras.layers.core.dense.Dense at 0x20a33adaa90>]"
      ]
     },
     "execution_count": 75,
     "metadata": {},
     "output_type": "execute_result"
    }
   ],
   "source": [
    "model.layers"
   ]
  },
  {
   "cell_type": "code",
   "execution_count": 76,
   "metadata": {},
   "outputs": [],
   "source": [
    "model.load_weights('model_dense.h5')"
   ]
  },
  {
   "cell_type": "code",
   "execution_count": 77,
   "metadata": {},
   "outputs": [
    {
     "data": {
      "text/plain": [
       "('max_pooling2d_1', 0, [])"
      ]
     },
     "execution_count": 77,
     "metadata": {},
     "output_type": "execute_result"
    }
   ],
   "source": [
    "num = 1\n",
    "model.layers[num].name, len(model.layers[num].weights), model.layers[num].weights"
   ]
  },
  {
   "cell_type": "code",
   "execution_count": 78,
   "metadata": {},
   "outputs": [
    {
     "name": "stdout",
     "output_type": "stream",
     "text": [
      "Conv2D {'name': 'conv2d_5', 'trainable': True, 'batch_input_shape': (None, 32, 32, 3), 'dtype': 'float32', 'filters': 30, 'kernel_size': (2, 2), 'strides': (1, 1), 'padding': 'valid', 'data_format': 'channels_last', 'dilation_rate': (1, 1), 'groups': 1, 'activation': 'linear', 'use_bias': True, 'kernel_initializer': {'class_name': 'GlorotUniform', 'config': {'seed': None}}, 'bias_initializer': {'class_name': 'Zeros', 'config': {}}, 'kernel_regularizer': None, 'bias_regularizer': None, 'activity_regularizer': None, 'kernel_constraint': None, 'bias_constraint': None}\n",
      "(None, 32, 32, 3) (None, 31, 31, 30)\n",
      "output: KerasTensor(type_spec=TensorSpec(shape=(None, 31, 31, 30), dtype=tf.float32, name=None), name='conv2d_5/BiasAdd:0', description=\"created by layer 'conv2d_5'\")\n",
      "(2, 2, 3, 30)\n",
      "(30,)\n",
      "MaxPooling2D {'name': 'max_pooling2d_1', 'trainable': True, 'dtype': 'float32', 'pool_size': (1, 1), 'padding': 'valid', 'strides': (1, 1), 'data_format': 'channels_last'}\n",
      "(None, 31, 31, 30) (None, 31, 31, 30)\n",
      "output: KerasTensor(type_spec=TensorSpec(shape=(None, 31, 31, 30), dtype=tf.float32, name=None), name='max_pooling2d_1/MaxPool:0', description=\"created by layer 'max_pooling2d_1'\")\n",
      "Conv2D {'name': 'conv2d_6', 'trainable': True, 'dtype': 'float32', 'filters': 10, 'kernel_size': (2, 2), 'strides': (2, 2), 'padding': 'valid', 'data_format': 'channels_last', 'dilation_rate': (1, 1), 'groups': 1, 'activation': 'linear', 'use_bias': False, 'kernel_initializer': {'class_name': 'GlorotUniform', 'config': {'seed': None}}, 'bias_initializer': {'class_name': 'Zeros', 'config': {}}, 'kernel_regularizer': None, 'bias_regularizer': None, 'activity_regularizer': None, 'kernel_constraint': None, 'bias_constraint': None}\n",
      "(None, 31, 31, 30) (None, 15, 15, 10)\n",
      "output: KerasTensor(type_spec=TensorSpec(shape=(None, 15, 15, 10), dtype=tf.float32, name=None), name='conv2d_6/Conv2D:0', description=\"created by layer 'conv2d_6'\")\n",
      "(2, 2, 30, 10)\n",
      "Dense {'name': 'dense_10', 'trainable': True, 'dtype': 'float32', 'units': 8, 'activation': 'relu', 'use_bias': True, 'kernel_initializer': {'class_name': 'GlorotUniform', 'config': {'seed': None}}, 'bias_initializer': {'class_name': 'Zeros', 'config': {}}, 'kernel_regularizer': {'class_name': 'L2', 'config': {'l2': 0.009999999776482582}}, 'bias_regularizer': None, 'activity_regularizer': None, 'kernel_constraint': None, 'bias_constraint': None}\n",
      "(None, 15, 15, 10) (None, 15, 15, 8)\n",
      "output: KerasTensor(type_spec=TensorSpec(shape=(None, 15, 15, 8), dtype=tf.float32, name=None), name='dense_10/Relu:0', description=\"created by layer 'dense_10'\")\n",
      "(10, 8)\n",
      "(8,)\n",
      "BatchNormalization {'name': 'batch_normalization_4', 'trainable': True, 'dtype': 'float32', 'axis': ListWrapper([3]), 'momentum': 0.99, 'epsilon': 0.001, 'center': True, 'scale': True, 'beta_initializer': {'class_name': 'Zeros', 'config': {}}, 'gamma_initializer': {'class_name': 'Ones', 'config': {}}, 'moving_mean_initializer': {'class_name': 'Zeros', 'config': {}}, 'moving_variance_initializer': {'class_name': 'Ones', 'config': {}}, 'beta_regularizer': None, 'gamma_regularizer': None, 'beta_constraint': None, 'gamma_constraint': None}\n",
      "(None, 15, 15, 8) (None, 15, 15, 8)\n",
      "output: KerasTensor(type_spec=TensorSpec(shape=(None, 15, 15, 8), dtype=tf.float32, name=None), name='batch_normalization_4/FusedBatchNormV3:0', description=\"created by layer 'batch_normalization_4'\")\n",
      "(8,)\n",
      "(8,)\n",
      "Dense {'name': 'dense_11', 'trainable': True, 'dtype': 'float32', 'units': 12, 'activation': 'relu', 'use_bias': True, 'kernel_initializer': {'class_name': 'GlorotUniform', 'config': {'seed': None}}, 'bias_initializer': {'class_name': 'Zeros', 'config': {}}, 'kernel_regularizer': None, 'bias_regularizer': None, 'activity_regularizer': None, 'kernel_constraint': None, 'bias_constraint': None}\n",
      "(None, 15, 15, 8) (None, 15, 15, 12)\n",
      "output: KerasTensor(type_spec=TensorSpec(shape=(None, 15, 15, 12), dtype=tf.float32, name=None), name='dense_11/Relu:0', description=\"created by layer 'dense_11'\")\n",
      "(8, 12)\n",
      "(12,)\n",
      "Dense {'name': 'dense_12', 'trainable': True, 'dtype': 'float32', 'units': 4, 'activation': 'relu', 'use_bias': True, 'kernel_initializer': {'class_name': 'GlorotUniform', 'config': {'seed': None}}, 'bias_initializer': {'class_name': 'Zeros', 'config': {}}, 'kernel_regularizer': None, 'bias_regularizer': None, 'activity_regularizer': None, 'kernel_constraint': None, 'bias_constraint': None}\n",
      "(None, 15, 15, 12) (None, 15, 15, 4)\n",
      "output: KerasTensor(type_spec=TensorSpec(shape=(None, 15, 15, 4), dtype=tf.float32, name=None), name='dense_12/Relu:0', description=\"created by layer 'dense_12'\")\n",
      "(12, 4)\n",
      "(4,)\n",
      "BatchNormalization {'name': 'batch_normalization_5', 'trainable': True, 'dtype': 'float32', 'axis': ListWrapper([3]), 'momentum': 0.99, 'epsilon': 0.001, 'center': True, 'scale': True, 'beta_initializer': {'class_name': 'Zeros', 'config': {}}, 'gamma_initializer': {'class_name': 'Ones', 'config': {}}, 'moving_mean_initializer': {'class_name': 'Zeros', 'config': {}}, 'moving_variance_initializer': {'class_name': 'Ones', 'config': {}}, 'beta_regularizer': None, 'gamma_regularizer': None, 'beta_constraint': None, 'gamma_constraint': None}\n",
      "(None, 15, 15, 4) (None, 15, 15, 4)\n",
      "output: KerasTensor(type_spec=TensorSpec(shape=(None, 15, 15, 4), dtype=tf.float32, name=None), name='batch_normalization_5/FusedBatchNormV3:0', description=\"created by layer 'batch_normalization_5'\")\n",
      "(4,)\n",
      "(4,)\n",
      "AveragePooling2D {'name': 'average_pooling2d_1', 'trainable': True, 'dtype': 'float32', 'pool_size': (2, 2), 'padding': 'valid', 'strides': (1, 1), 'data_format': 'channels_last'}\n",
      "(None, 15, 15, 4) (None, 14, 14, 4)\n",
      "output: KerasTensor(type_spec=TensorSpec(shape=(None, 14, 14, 4), dtype=tf.float32, name=None), name='average_pooling2d_1/AvgPool:0', description=\"created by layer 'average_pooling2d_1'\")\n",
      "Flatten {'name': 'flatten', 'trainable': True, 'dtype': 'float32', 'data_format': 'channels_last'}\n",
      "(None, 14, 14, 4) (None, 784)\n",
      "output: KerasTensor(type_spec=TensorSpec(shape=(None, 784), dtype=tf.float32, name=None), name='flatten/Reshape:0', description=\"created by layer 'flatten'\")\n",
      "Dense {'name': 'dense_13', 'trainable': True, 'dtype': 'float32', 'units': 36, 'activation': 'relu', 'use_bias': True, 'kernel_initializer': {'class_name': 'GlorotUniform', 'config': {'seed': None}}, 'bias_initializer': {'class_name': 'Zeros', 'config': {}}, 'kernel_regularizer': None, 'bias_regularizer': None, 'activity_regularizer': None, 'kernel_constraint': None, 'bias_constraint': None}\n",
      "(None, 784) (None, 36)\n",
      "output: KerasTensor(type_spec=TensorSpec(shape=(None, 36), dtype=tf.float32, name=None), name='dense_13/Relu:0', description=\"created by layer 'dense_13'\")\n",
      "(784, 36)\n",
      "(36,)\n",
      "Dense {'name': 'dense_14', 'trainable': True, 'dtype': 'float32', 'units': 12, 'activation': 'relu', 'use_bias': True, 'kernel_initializer': {'class_name': 'GlorotUniform', 'config': {'seed': None}}, 'bias_initializer': {'class_name': 'Zeros', 'config': {}}, 'kernel_regularizer': None, 'bias_regularizer': None, 'activity_regularizer': None, 'kernel_constraint': None, 'bias_constraint': None}\n",
      "(None, 36) (None, 12)\n",
      "output: KerasTensor(type_spec=TensorSpec(shape=(None, 12), dtype=tf.float32, name=None), name='dense_14/Relu:0', description=\"created by layer 'dense_14'\")\n",
      "(36, 12)\n",
      "(12,)\n",
      "Dense {'name': 'dense_15', 'trainable': True, 'dtype': 'float32', 'units': 4, 'activation': 'softmax', 'use_bias': True, 'kernel_initializer': {'class_name': 'GlorotUniform', 'config': {'seed': None}}, 'bias_initializer': {'class_name': 'Zeros', 'config': {}}, 'kernel_regularizer': None, 'bias_regularizer': None, 'activity_regularizer': None, 'kernel_constraint': None, 'bias_constraint': None}\n",
      "(None, 12) (None, 4)\n",
      "output: KerasTensor(type_spec=TensorSpec(shape=(None, 4), dtype=tf.float32, name=None), name='dense_15/Softmax:0', description=\"created by layer 'dense_15'\")\n",
      "(12, 4)\n",
      "(4,)\n"
     ]
    }
   ],
   "source": [
    "for layer in model.layers:\n",
    "    print(layer.__class__.__name__, layer.get_config())\n",
    "    try:\n",
    "        print(layer.get_config()['function'])\n",
    "    except:\n",
    "        pass\n",
    "    print(layer.get_input_shape_at(0),layer.get_output_shape_at(0))\n",
    "    print(\"output:\", layer.output)\n",
    "    try:\n",
    "        print(layer.get_weights()[0].shape)\n",
    "        print(layer.get_weights()[1].shape)\n",
    "    except:\n",
    "        pass"
   ]
  },
  {
   "attachments": {},
   "cell_type": "markdown",
   "metadata": {},
   "source": [
    "### Onnx model - onnx"
   ]
  },
  {
   "cell_type": "code",
   "execution_count": 79,
   "metadata": {},
   "outputs": [],
   "source": [
    "#Convert to Onnx\n",
    "# Define the input signature for the conversion\n",
    "input_signature = [tf.TensorSpec([None, 32, 32, 3], tf.float32, name=\"input\")]\n",
    "\n",
    "# Convert the model to ONNX\n",
    "onnx_model, _ = tf2onnx.convert.from_keras(model, input_signature=input_signature, opset=13)\n",
    "\n",
    "# Save the ONNX model to a file\n",
    "with open(\"model_dense.onnx\", \"wb\") as f:\n",
    "    f.write(onnx_model.SerializeToString())"
   ]
  },
  {
   "cell_type": "code",
   "execution_count": 80,
   "metadata": {},
   "outputs": [],
   "source": [
    "for node in onnx_model.graph.node:\n",
    "    if 'global' in node.name:\n",
    "        print(node.attribute)"
   ]
  },
  {
   "attachments": {},
   "cell_type": "markdown",
   "metadata": {},
   "source": [
    "## Input Json generator"
   ]
  },
  {
   "cell_type": "code",
   "execution_count": 81,
   "metadata": {},
   "outputs": [],
   "source": [
    "import json\n"
   ]
  },
  {
   "cell_type": "code",
   "execution_count": 82,
   "metadata": {},
   "outputs": [
    {
     "name": "stdout",
     "output_type": "stream",
     "text": [
      "1/1 [==============================] - 1s 577ms/step\n"
     ]
    },
    {
     "data": {
      "text/plain": [
       "array([[0.03742743, 0.06317029, 0.89477825, 0.00462401]], dtype=float32)"
      ]
     },
     "execution_count": 82,
     "metadata": {},
     "output_type": "execute_result"
    }
   ],
   "source": [
    "X = X_test[[0]]\n",
    "y = model.predict(X)\n",
    "y"
   ]
  },
  {
   "cell_type": "code",
   "execution_count": 83,
   "metadata": {},
   "outputs": [],
   "source": [
    "with open(\"input.json\", \"w\") as f:\n",
    "    json.dump({'in': X.flatten().tolist()}, f)"
   ]
  }
 ],
 "metadata": {
  "kernelspec": {
   "display_name": "keras2circom",
   "language": "python",
   "name": "python3"
  },
  "language_info": {
   "codemirror_mode": {
    "name": "ipython",
    "version": 3
   },
   "file_extension": ".py",
   "mimetype": "text/x-python",
   "name": "python",
   "nbconvert_exporter": "python",
   "pygments_lexer": "ipython3",
   "version": "3.8.16"
  },
  "orig_nbformat": 4,
  "vscode": {
   "interpreter": {
    "hash": "71414dc221f26c27f268040756e42b4f7499507456a67f7434828e3314a20678"
   }
  }
 },
 "nbformat": 4,
 "nbformat_minor": 2
}
