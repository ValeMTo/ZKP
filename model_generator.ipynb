{
 "cells": [
  {
   "attachments": {},
   "cell_type": "markdown",
   "metadata": {},
   "source": [
    "# Model generator"
   ]
  },
  {
   "attachments": {},
   "cell_type": "markdown",
   "metadata": {},
   "source": [
    "## Imports"
   ]
  },
  {
   "cell_type": "code",
   "execution_count": 1,
   "metadata": {},
   "outputs": [],
   "source": [
    "# list of supported layers\n",
    "from tensorflow.keras.layers import (\n",
    "    Input,\n",
    "    Activation,\n",
    "    AveragePooling2D,\n",
    "    BatchNormalization,\n",
    "    Conv2D,\n",
    "    Dense,\n",
    "    Dropout,\n",
    "    Flatten,\n",
    "    GlobalAveragePooling2D,\n",
    "    GlobalMaxPooling2D,\n",
    "    Lambda, # only for polynomial activation in the form of `Lambda(lambda x: x**2+x)`\n",
    "    MaxPooling2D,\n",
    "    ReLU,\n",
    "    Softmax,\n",
    "    )\n",
    "from tensorflow.keras import Model\n",
    "from tensorflow.keras.datasets import mnist\n",
    "from tensorflow.keras.utils import to_categorical\n",
    "import numpy as np\n",
    "import matplotlib.pyplot as plt\n",
    "import tensorflow as tf\n",
    "import numpy as np\n",
    "import tf2onnx\n",
    "import onnxruntime as ort"
   ]
  },
  {
   "attachments": {},
   "cell_type": "markdown",
   "metadata": {},
   "source": [
    "## Dataset generator"
   ]
  },
  {
   "cell_type": "code",
   "execution_count": 2,
   "metadata": {},
   "outputs": [],
   "source": [
    "X_train = np.random.randint(0, 255, size=(50, 32, 32, 3))\n",
    "X_test = np.random.randint(0, 255, size=(10, 32, 32, 3))\n",
    "\n",
    "y_train = np.random.randint(0, 4, size=(50, 1))\n",
    "y_test = np.random.randint(0, 4, size=(10, 1))\n",
    "\n",
    "y_train = tf.keras.utils.to_categorical(y_train)\n",
    "y_test = tf.keras.utils.to_categorical(y_test)"
   ]
  },
  {
   "cell_type": "code",
   "execution_count": 3,
   "metadata": {},
   "outputs": [
    {
     "data": {
      "text/plain": [
       "((50, 32, 32, 3), (10, 32, 32, 3), (50, 4), (10, 4))"
      ]
     },
     "execution_count": 3,
     "metadata": {},
     "output_type": "execute_result"
    }
   ],
   "source": [
    "X_train.shape, X_test.shape, y_train.shape, y_test.shape"
   ]
  },
  {
   "attachments": {},
   "cell_type": "markdown",
   "metadata": {},
   "source": [
    "## Model definition"
   ]
  },
  {
   "attachments": {},
   "cell_type": "markdown",
   "metadata": {},
   "source": [
    "### Formulation"
   ]
  },
  {
   "cell_type": "code",
   "execution_count": 4,
   "metadata": {},
   "outputs": [],
   "source": [
    "model = tf.keras.Sequential([\n",
    "    tf.keras.layers.Conv1D(filters=5, kernel_size=3, input_shape=(32, 32, 3)),\n",
    "    tf.keras.layers.BatchNormalization(),\n",
    "    tf.keras.layers.Conv2D(filters=30, kernel_size=2, ), \n",
    "    tf.keras.layers.BatchNormalization(),\n",
    "    tf.keras.layers.Dense(8, activation='relu', kernel_regularizer=tf.keras.regularizers.l2(0.01)),\n",
    "    tf.keras.layers.Dense(12, activation='relu'),\n",
    "    tf.keras.layers.Dense(4, activation='relu'),\n",
    "    tf.keras.layers.AveragePooling2D(),\n",
    "    tf.keras.layers.MaxPooling2D(pool_size=(1, 1)),\n",
    "    #tf.keras.layers.GlobalMaxPool2D(),\n",
    "    #tf.keras.layers.GlobalAveragePooling2D(),\n",
    "    tf.keras.layers.Flatten(name='layer_6'),\n",
    "    tf.keras.layers.Dense(4, activation='softmax'),\n",
    "])\n"
   ]
  },
  {
   "cell_type": "code",
   "execution_count": 5,
   "metadata": {},
   "outputs": [
    {
     "name": "stdout",
     "output_type": "stream",
     "text": [
      "Model: \"sequential\"\n",
      "_________________________________________________________________\n",
      " Layer (type)                Output Shape              Param #   \n",
      "=================================================================\n",
      " conv1d (Conv1D)             (None, 32, 30, 5)         50        \n",
      "                                                                 \n",
      " batch_normalization (BatchN  (None, 32, 30, 5)        20        \n",
      " ormalization)                                                   \n",
      "                                                                 \n",
      " conv2d (Conv2D)             (None, 31, 29, 30)        630       \n",
      "                                                                 \n",
      " batch_normalization_1 (Batc  (None, 31, 29, 30)       120       \n",
      " hNormalization)                                                 \n",
      "                                                                 \n",
      " dense (Dense)               (None, 31, 29, 8)         248       \n",
      "                                                                 \n",
      " dense_1 (Dense)             (None, 31, 29, 12)        108       \n",
      "                                                                 \n",
      " dense_2 (Dense)             (None, 31, 29, 4)         52        \n",
      "                                                                 \n",
      " average_pooling2d (AverageP  (None, 15, 14, 4)        0         \n",
      " ooling2D)                                                       \n",
      "                                                                 \n",
      " max_pooling2d (MaxPooling2D  (None, 15, 14, 4)        0         \n",
      " )                                                               \n",
      "                                                                 \n",
      " layer_6 (Flatten)           (None, 840)               0         \n",
      "                                                                 \n",
      " dense_3 (Dense)             (None, 4)                 3364      \n",
      "                                                                 \n",
      "=================================================================\n",
      "Total params: 4,592\n",
      "Trainable params: 4,522\n",
      "Non-trainable params: 70\n",
      "_________________________________________________________________\n"
     ]
    }
   ],
   "source": [
    "model.summary()"
   ]
  },
  {
   "attachments": {},
   "cell_type": "markdown",
   "metadata": {},
   "source": [
    "### Training"
   ]
  },
  {
   "cell_type": "code",
   "execution_count": 6,
   "metadata": {},
   "outputs": [],
   "source": [
    "model.compile(\n",
    "    loss='categorical_crossentropy',\n",
    "    optimizer='adam',\n",
    "    metrics=['acc']\n",
    "    )"
   ]
  },
  {
   "cell_type": "code",
   "execution_count": 7,
   "metadata": {},
   "outputs": [
    {
     "name": "stdout",
     "output_type": "stream",
     "text": [
      "Epoch 1/15\n",
      "4/4 [==============================] - 3s 176ms/step - loss: 1.6222 - acc: 0.2400 - val_loss: 1.3299 - val_acc: 0.5000\n",
      "Epoch 2/15\n",
      "4/4 [==============================] - 0s 19ms/step - loss: 1.4727 - acc: 0.3400 - val_loss: 2.2548 - val_acc: 0.1000\n",
      "Epoch 3/15\n",
      "4/4 [==============================] - 0s 19ms/step - loss: 1.4493 - acc: 0.3600 - val_loss: 2.7830 - val_acc: 0.1000\n",
      "Epoch 4/15\n",
      "4/4 [==============================] - 0s 19ms/step - loss: 1.4486 - acc: 0.3400 - val_loss: 2.5213 - val_acc: 0.1000\n",
      "Epoch 5/15\n",
      "4/4 [==============================] - 0s 18ms/step - loss: 1.4214 - acc: 0.3400 - val_loss: 1.9311 - val_acc: 0.1000\n",
      "Epoch 6/15\n",
      "4/4 [==============================] - 0s 18ms/step - loss: 1.3890 - acc: 0.3600 - val_loss: 1.5533 - val_acc: 0.1000\n",
      "Epoch 7/15\n",
      "4/4 [==============================] - 0s 17ms/step - loss: 1.3718 - acc: 0.4200 - val_loss: 1.4014 - val_acc: 0.4000\n",
      "Epoch 8/15\n",
      "4/4 [==============================] - 0s 19ms/step - loss: 1.3741 - acc: 0.4800 - val_loss: 1.3319 - val_acc: 0.4000\n",
      "Epoch 9/15\n",
      "4/4 [==============================] - 0s 20ms/step - loss: 1.3568 - acc: 0.4800 - val_loss: 1.3425 - val_acc: 0.4000\n",
      "Epoch 10/15\n",
      "4/4 [==============================] - 0s 21ms/step - loss: 1.3377 - acc: 0.4800 - val_loss: 1.3973 - val_acc: 0.3000\n",
      "Epoch 11/15\n",
      "4/4 [==============================] - 0s 21ms/step - loss: 1.3197 - acc: 0.6400 - val_loss: 1.4027 - val_acc: 0.5000\n",
      "Epoch 12/15\n",
      "4/4 [==============================] - 0s 20ms/step - loss: 1.2962 - acc: 0.6600 - val_loss: 1.3973 - val_acc: 0.5000\n",
      "Epoch 13/15\n",
      "4/4 [==============================] - 0s 20ms/step - loss: 1.2614 - acc: 0.7400 - val_loss: 1.4108 - val_acc: 0.4000\n",
      "Epoch 14/15\n",
      "4/4 [==============================] - 0s 19ms/step - loss: 1.2320 - acc: 0.8200 - val_loss: 1.4292 - val_acc: 0.3000\n",
      "Epoch 15/15\n",
      "4/4 [==============================] - 0s 19ms/step - loss: 1.2004 - acc: 0.8000 - val_loss: 1.4111 - val_acc: 0.3000\n"
     ]
    },
    {
     "data": {
      "text/plain": [
       "<keras.callbacks.History at 0x14576d22340>"
      ]
     },
     "execution_count": 7,
     "metadata": {},
     "output_type": "execute_result"
    }
   ],
   "source": [
    "model.fit(X_train, y_train, epochs=15, batch_size=16,  validation_data=(X_test, y_test))"
   ]
  },
  {
   "attachments": {},
   "cell_type": "markdown",
   "metadata": {},
   "source": [
    "## Save"
   ]
  },
  {
   "attachments": {},
   "cell_type": "markdown",
   "metadata": {},
   "source": [
    "### Tensorflow model - h5"
   ]
  },
  {
   "cell_type": "code",
   "execution_count": 8,
   "metadata": {},
   "outputs": [],
   "source": [
    "# Save tensorflow model\n",
    "model.save('model.h5')"
   ]
  },
  {
   "cell_type": "code",
   "execution_count": 9,
   "metadata": {},
   "outputs": [
    {
     "name": "stdout",
     "output_type": "stream",
     "text": [
      "Conv1D {'name': 'conv1d', 'trainable': True, 'batch_input_shape': (None, 32, 32, 3), 'dtype': 'float32', 'filters': 5, 'kernel_size': (3,), 'strides': (1,), 'padding': 'valid', 'data_format': 'channels_last', 'dilation_rate': (1,), 'groups': 1, 'activation': 'linear', 'use_bias': True, 'kernel_initializer': {'class_name': 'GlorotUniform', 'config': {'seed': None}}, 'bias_initializer': {'class_name': 'Zeros', 'config': {}}, 'kernel_regularizer': None, 'bias_regularizer': None, 'activity_regularizer': None, 'kernel_constraint': None, 'bias_constraint': None}\n",
      "(None, 32, 32, 3) (None, 32, 30, 5)\n",
      "(3, 3, 5)\n",
      "(5,)\n",
      "BatchNormalization {'name': 'batch_normalization', 'trainable': True, 'dtype': 'float32', 'axis': ListWrapper([3]), 'momentum': 0.99, 'epsilon': 0.001, 'center': True, 'scale': True, 'beta_initializer': {'class_name': 'Zeros', 'config': {}}, 'gamma_initializer': {'class_name': 'Ones', 'config': {}}, 'moving_mean_initializer': {'class_name': 'Zeros', 'config': {}}, 'moving_variance_initializer': {'class_name': 'Ones', 'config': {}}, 'beta_regularizer': None, 'gamma_regularizer': None, 'beta_constraint': None, 'gamma_constraint': None}\n",
      "(None, 32, 30, 5) (None, 32, 30, 5)\n",
      "(5,)\n",
      "(5,)\n",
      "Conv2D {'name': 'conv2d', 'trainable': True, 'dtype': 'float32', 'filters': 30, 'kernel_size': (2, 2), 'strides': (1, 1), 'padding': 'valid', 'data_format': 'channels_last', 'dilation_rate': (1, 1), 'groups': 1, 'activation': 'linear', 'use_bias': True, 'kernel_initializer': {'class_name': 'GlorotUniform', 'config': {'seed': None}}, 'bias_initializer': {'class_name': 'Zeros', 'config': {}}, 'kernel_regularizer': None, 'bias_regularizer': None, 'activity_regularizer': None, 'kernel_constraint': None, 'bias_constraint': None}\n",
      "(None, 32, 30, 5) (None, 31, 29, 30)\n",
      "(2, 2, 5, 30)\n",
      "(30,)\n",
      "BatchNormalization {'name': 'batch_normalization_1', 'trainable': True, 'dtype': 'float32', 'axis': ListWrapper([3]), 'momentum': 0.99, 'epsilon': 0.001, 'center': True, 'scale': True, 'beta_initializer': {'class_name': 'Zeros', 'config': {}}, 'gamma_initializer': {'class_name': 'Ones', 'config': {}}, 'moving_mean_initializer': {'class_name': 'Zeros', 'config': {}}, 'moving_variance_initializer': {'class_name': 'Ones', 'config': {}}, 'beta_regularizer': None, 'gamma_regularizer': None, 'beta_constraint': None, 'gamma_constraint': None}\n",
      "(None, 31, 29, 30) (None, 31, 29, 30)\n",
      "(30,)\n",
      "(30,)\n",
      "Dense {'name': 'dense', 'trainable': True, 'dtype': 'float32', 'units': 8, 'activation': 'relu', 'use_bias': True, 'kernel_initializer': {'class_name': 'GlorotUniform', 'config': {'seed': None}}, 'bias_initializer': {'class_name': 'Zeros', 'config': {}}, 'kernel_regularizer': {'class_name': 'L2', 'config': {'l2': 0.009999999776482582}}, 'bias_regularizer': None, 'activity_regularizer': None, 'kernel_constraint': None, 'bias_constraint': None}\n",
      "(None, 31, 29, 30) (None, 31, 29, 8)\n",
      "(30, 8)\n",
      "(8,)\n",
      "Dense {'name': 'dense_1', 'trainable': True, 'dtype': 'float32', 'units': 12, 'activation': 'relu', 'use_bias': True, 'kernel_initializer': {'class_name': 'GlorotUniform', 'config': {'seed': None}}, 'bias_initializer': {'class_name': 'Zeros', 'config': {}}, 'kernel_regularizer': None, 'bias_regularizer': None, 'activity_regularizer': None, 'kernel_constraint': None, 'bias_constraint': None}\n",
      "(None, 31, 29, 8) (None, 31, 29, 12)\n",
      "(8, 12)\n",
      "(12,)\n",
      "Dense {'name': 'dense_2', 'trainable': True, 'dtype': 'float32', 'units': 4, 'activation': 'relu', 'use_bias': True, 'kernel_initializer': {'class_name': 'GlorotUniform', 'config': {'seed': None}}, 'bias_initializer': {'class_name': 'Zeros', 'config': {}}, 'kernel_regularizer': None, 'bias_regularizer': None, 'activity_regularizer': None, 'kernel_constraint': None, 'bias_constraint': None}\n",
      "(None, 31, 29, 12) (None, 31, 29, 4)\n",
      "(12, 4)\n",
      "(4,)\n",
      "AveragePooling2D {'name': 'average_pooling2d', 'trainable': True, 'dtype': 'float32', 'pool_size': (2, 2), 'padding': 'valid', 'strides': (2, 2), 'data_format': 'channels_last'}\n",
      "(None, 31, 29, 4) (None, 15, 14, 4)\n",
      "MaxPooling2D {'name': 'max_pooling2d', 'trainable': True, 'dtype': 'float32', 'pool_size': (1, 1), 'padding': 'valid', 'strides': (1, 1), 'data_format': 'channels_last'}\n",
      "(None, 15, 14, 4) (None, 15, 14, 4)\n",
      "Flatten {'name': 'layer_6', 'trainable': True, 'dtype': 'float32', 'data_format': 'channels_last'}\n",
      "(None, 15, 14, 4) (None, 840)\n",
      "Dense {'name': 'dense_3', 'trainable': True, 'dtype': 'float32', 'units': 4, 'activation': 'softmax', 'use_bias': True, 'kernel_initializer': {'class_name': 'GlorotUniform', 'config': {'seed': None}}, 'bias_initializer': {'class_name': 'Zeros', 'config': {}}, 'kernel_regularizer': None, 'bias_regularizer': None, 'activity_regularizer': None, 'kernel_constraint': None, 'bias_constraint': None}\n",
      "(None, 840) (None, 4)\n",
      "(840, 4)\n",
      "(4,)\n"
     ]
    }
   ],
   "source": [
    "for layer in model.layers:\n",
    "    print(layer.__class__.__name__, layer.get_config())\n",
    "    try:\n",
    "        print(layer.get_config()['function'])\n",
    "    except:\n",
    "        pass\n",
    "    print(layer.get_input_shape_at(0),layer.get_output_shape_at(0))\n",
    "    try:\n",
    "        print(layer.get_weights()[0].shape)\n",
    "        print(layer.get_weights()[1].shape)\n",
    "    except:\n",
    "        pass"
   ]
  },
  {
   "attachments": {},
   "cell_type": "markdown",
   "metadata": {},
   "source": [
    "### Onnx model - onnx"
   ]
  },
  {
   "cell_type": "code",
   "execution_count": 10,
   "metadata": {},
   "outputs": [],
   "source": [
    "#Convert to Onnx\n",
    "# Define the input signature for the conversion\n",
    "input_signature = [tf.TensorSpec([None, 32, 32, 3], tf.float32, name=\"input\")]\n",
    "\n",
    "# Convert the model to ONNX\n",
    "onnx_model, _ = tf2onnx.convert.from_keras(model, input_signature=input_signature, opset=13)\n",
    "\n",
    "# Save the ONNX model to a file\n",
    "with open(\"model.onnx\", \"wb\") as f:\n",
    "    f.write(onnx_model.SerializeToString())"
   ]
  },
  {
   "attachments": {},
   "cell_type": "markdown",
   "metadata": {},
   "source": [
    "## Input Json generator"
   ]
  },
  {
   "cell_type": "code",
   "execution_count": 11,
   "metadata": {},
   "outputs": [],
   "source": [
    "import json\n"
   ]
  },
  {
   "cell_type": "code",
   "execution_count": 12,
   "metadata": {},
   "outputs": [
    {
     "name": "stdout",
     "output_type": "stream",
     "text": [
      "1/1 [==============================] - 0s 291ms/step\n"
     ]
    },
    {
     "data": {
      "text/plain": [
       "array([[0.37830344, 0.3534843 , 0.12240438, 0.14580785]], dtype=float32)"
      ]
     },
     "execution_count": 12,
     "metadata": {},
     "output_type": "execute_result"
    }
   ],
   "source": [
    "X = X_test[[0]]\n",
    "y = model.predict(X)\n",
    "y"
   ]
  },
  {
   "cell_type": "code",
   "execution_count": 13,
   "metadata": {},
   "outputs": [],
   "source": [
    "with open(\"input.json\", \"w\") as f:\n",
    "    json.dump({'in': X.flatten().tolist()}, f)"
   ]
  }
 ],
 "metadata": {
  "kernelspec": {
   "display_name": "keras2circom",
   "language": "python",
   "name": "python3"
  },
  "language_info": {
   "codemirror_mode": {
    "name": "ipython",
    "version": 3
   },
   "file_extension": ".py",
   "mimetype": "text/x-python",
   "name": "python",
   "nbconvert_exporter": "python",
   "pygments_lexer": "ipython3",
   "version": "3.8.16"
  },
  "orig_nbformat": 4,
  "vscode": {
   "interpreter": {
    "hash": "71414dc221f26c27f268040756e42b4f7499507456a67f7434828e3314a20678"
   }
  }
 },
 "nbformat": 4,
 "nbformat_minor": 2
}
