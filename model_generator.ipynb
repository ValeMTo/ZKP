{
 "cells": [
  {
   "attachments": {},
   "cell_type": "markdown",
   "metadata": {},
   "source": [
    "# Model generator"
   ]
  },
  {
   "attachments": {},
   "cell_type": "markdown",
   "metadata": {},
   "source": [
    "## Imports"
   ]
  },
  {
   "cell_type": "code",
   "execution_count": 2,
   "metadata": {},
   "outputs": [],
   "source": [
    "# list of supported layers\n",
    "from tensorflow.keras.layers import (\n",
    "    Input,\n",
    "    Activation,\n",
    "    AveragePooling2D,\n",
    "    BatchNormalization,\n",
    "    Conv2D,\n",
    "    Dense,\n",
    "    Dropout,\n",
    "    Flatten,\n",
    "    GlobalAveragePooling2D,\n",
    "    GlobalMaxPooling2D,\n",
    "    Lambda, # only for polynomial activation in the form of `Lambda(lambda x: x**2+x)`\n",
    "    MaxPooling2D,\n",
    "    ReLU,\n",
    "    Softmax,\n",
    "    )\n",
    "from tensorflow.keras import Model\n",
    "from tensorflow.keras.datasets import mnist\n",
    "from tensorflow.keras.utils import to_categorical\n",
    "import numpy as np\n",
    "import matplotlib.pyplot as plt\n",
    "import tensorflow as tf\n",
    "import numpy as np\n",
    "import tf2onnx\n",
    "import onnxruntime as ort"
   ]
  },
  {
   "attachments": {},
   "cell_type": "markdown",
   "metadata": {},
   "source": [
    "## Dataset generator"
   ]
  },
  {
   "cell_type": "code",
   "execution_count": 20,
   "metadata": {},
   "outputs": [],
   "source": [
    "X_train = np.random.randint(0, 255, size=(50, 32, 32, 3))\n",
    "X_test = np.random.randint(0, 255, size=(10, 32, 32, 3))\n",
    "\n",
    "y_train = np.random.randint(0, 4, size=(50, 1))\n",
    "y_test = np.random.randint(0, 4, size=(10, 1))\n",
    "\n",
    "y_train = tf.keras.utils.to_categorical(y_train)\n",
    "y_test = tf.keras.utils.to_categorical(y_test)"
   ]
  },
  {
   "cell_type": "code",
   "execution_count": 21,
   "metadata": {},
   "outputs": [
    {
     "data": {
      "text/plain": [
       "((50, 32, 32, 3), (10, 32, 32, 3), (50, 4), (10, 4))"
      ]
     },
     "execution_count": 21,
     "metadata": {},
     "output_type": "execute_result"
    }
   ],
   "source": [
    "X_train.shape, X_test.shape, y_train.shape, y_test.shape"
   ]
  },
  {
   "attachments": {},
   "cell_type": "markdown",
   "metadata": {},
   "source": [
    "## Model definition"
   ]
  },
  {
   "attachments": {},
   "cell_type": "markdown",
   "metadata": {},
   "source": [
    "### Formulation"
   ]
  },
  {
   "cell_type": "code",
   "execution_count": 26,
   "metadata": {},
   "outputs": [],
   "source": [
    "model = tf.keras.Sequential([\n",
    "    #tf.keras.layers.Conv1D(filters=5, kernel_size=3, input_shape=(32, 32, 3)),\n",
    "    #tf.keras.layers.BatchNormalization(),\n",
    "    #tf.keras.layers.Conv2D(filters=30, kernel_size=2, ), \n",
    "    #tf.keras.layers.BatchNormalization(),\n",
    "    tf.keras.layers.Dense(8, activation='relu', kernel_regularizer=tf.keras.regularizers.l2(0.01), input_shape=(32, 32, 3)),\n",
    "    tf.keras.layers.BatchNormalization(),\n",
    "    #tf.keras.layers.Dense(12, activation='relu'),\n",
    "    #tf.keras.layers.Dense(4, activation='relu'),\n",
    "    #tf.keras.layers.AveragePooling2D(),\n",
    "    #tf.keras.layers.MaxPooling2D(pool_size=(1, 1)),\n",
    "    #tf.keras.layers.GlobalMaxPool2D(),\n",
    "    #tf.keras.layers.GlobalAveragePooling2D(),\n",
    "    tf.keras.layers.Flatten(name='layer_6'),\n",
    "    tf.keras.layers.Dense(4, activation='softmax'),\n",
    "])\n"
   ]
  },
  {
   "cell_type": "code",
   "execution_count": 27,
   "metadata": {},
   "outputs": [
    {
     "name": "stdout",
     "output_type": "stream",
     "text": [
      "Model: \"sequential_3\"\n",
      "_________________________________________________________________\n",
      " Layer (type)                Output Shape              Param #   \n",
      "=================================================================\n",
      " dense_7 (Dense)             (None, 32, 32, 8)         32        \n",
      "                                                                 \n",
      " batch_normalization_3 (Batc  (None, 32, 32, 8)        32        \n",
      " hNormalization)                                                 \n",
      "                                                                 \n",
      " layer_6 (Flatten)           (None, 8192)              0         \n",
      "                                                                 \n",
      " dense_8 (Dense)             (None, 4)                 32772     \n",
      "                                                                 \n",
      "=================================================================\n",
      "Total params: 32,836\n",
      "Trainable params: 32,820\n",
      "Non-trainable params: 16\n",
      "_________________________________________________________________\n"
     ]
    }
   ],
   "source": [
    "model.summary()"
   ]
  },
  {
   "attachments": {},
   "cell_type": "markdown",
   "metadata": {},
   "source": [
    "### Training"
   ]
  },
  {
   "cell_type": "code",
   "execution_count": 28,
   "metadata": {},
   "outputs": [],
   "source": [
    "model.compile(\n",
    "    loss='categorical_crossentropy',\n",
    "    optimizer='adam',\n",
    "    metrics=['acc']\n",
    "    )"
   ]
  },
  {
   "cell_type": "code",
   "execution_count": 29,
   "metadata": {},
   "outputs": [
    {
     "name": "stdout",
     "output_type": "stream",
     "text": [
      "Epoch 1/15\n",
      "4/4 [==============================] - 3s 119ms/step - loss: 2.0006 - acc: 0.3000 - val_loss: 7.2763 - val_acc: 0.1000\n",
      "Epoch 2/15\n",
      "4/4 [==============================] - 0s 30ms/step - loss: 0.2165 - acc: 0.9800 - val_loss: 9.1187 - val_acc: 0.0000e+00\n",
      "Epoch 3/15\n",
      "4/4 [==============================] - 0s 28ms/step - loss: 0.0598 - acc: 1.0000 - val_loss: 9.4263 - val_acc: 0.0000e+00\n",
      "Epoch 4/15\n",
      "4/4 [==============================] - 0s 33ms/step - loss: 0.0435 - acc: 1.0000 - val_loss: 9.1949 - val_acc: 0.0000e+00\n",
      "Epoch 5/15\n",
      "4/4 [==============================] - 0s 28ms/step - loss: 0.0404 - acc: 1.0000 - val_loss: 8.7490 - val_acc: 0.0000e+00\n",
      "Epoch 6/15\n",
      "4/4 [==============================] - 0s 26ms/step - loss: 0.0390 - acc: 1.0000 - val_loss: 8.2382 - val_acc: 0.0000e+00\n",
      "Epoch 7/15\n",
      "4/4 [==============================] - 0s 27ms/step - loss: 0.0384 - acc: 1.0000 - val_loss: 7.7115 - val_acc: 0.0000e+00\n",
      "Epoch 8/15\n",
      "4/4 [==============================] - 0s 27ms/step - loss: 0.0379 - acc: 1.0000 - val_loss: 7.2042 - val_acc: 0.0000e+00\n",
      "Epoch 9/15\n",
      "4/4 [==============================] - 0s 29ms/step - loss: 0.0376 - acc: 1.0000 - val_loss: 6.7296 - val_acc: 0.0000e+00\n",
      "Epoch 10/15\n",
      "4/4 [==============================] - 0s 25ms/step - loss: 0.0374 - acc: 1.0000 - val_loss: 6.2927 - val_acc: 0.0000e+00\n",
      "Epoch 11/15\n",
      "4/4 [==============================] - 0s 25ms/step - loss: 0.0372 - acc: 1.0000 - val_loss: 5.8949 - val_acc: 0.0000e+00\n",
      "Epoch 12/15\n",
      "4/4 [==============================] - 0s 27ms/step - loss: 0.0370 - acc: 1.0000 - val_loss: 5.5346 - val_acc: 0.0000e+00\n",
      "Epoch 13/15\n",
      "4/4 [==============================] - 0s 31ms/step - loss: 0.0368 - acc: 1.0000 - val_loss: 5.2120 - val_acc: 0.0000e+00\n",
      "Epoch 14/15\n",
      "4/4 [==============================] - 0s 77ms/step - loss: 0.0367 - acc: 1.0000 - val_loss: 4.9204 - val_acc: 0.0000e+00\n",
      "Epoch 15/15\n",
      "4/4 [==============================] - 0s 76ms/step - loss: 0.0365 - acc: 1.0000 - val_loss: 4.6545 - val_acc: 0.0000e+00\n"
     ]
    },
    {
     "data": {
      "text/plain": [
       "<keras.callbacks.History at 0x15155f07670>"
      ]
     },
     "execution_count": 29,
     "metadata": {},
     "output_type": "execute_result"
    }
   ],
   "source": [
    "model.fit(X_train, y_train, epochs=15, batch_size=16,  validation_data=(X_test, y_test))"
   ]
  },
  {
   "attachments": {},
   "cell_type": "markdown",
   "metadata": {},
   "source": [
    "## Save"
   ]
  },
  {
   "attachments": {},
   "cell_type": "markdown",
   "metadata": {},
   "source": [
    "### Tensorflow model - h5"
   ]
  },
  {
   "cell_type": "code",
   "execution_count": 36,
   "metadata": {},
   "outputs": [],
   "source": [
    "# Save tensorflow model\n",
    "model.save('model.h5')"
   ]
  },
  {
   "cell_type": "code",
   "execution_count": 13,
   "metadata": {},
   "outputs": [
    {
     "name": "stdout",
     "output_type": "stream",
     "text": [
      "Dense {'name': 'dense_3', 'trainable': True, 'batch_input_shape': (None, 20), 'dtype': 'float32', 'units': 8, 'activation': 'relu', 'use_bias': True, 'kernel_initializer': {'class_name': 'GlorotUniform', 'config': {'seed': None}}, 'bias_initializer': {'class_name': 'Zeros', 'config': {}}, 'kernel_regularizer': {'class_name': 'L2', 'config': {'l2': 0.009999999776482582}}, 'bias_regularizer': None, 'activity_regularizer': None, 'kernel_constraint': None, 'bias_constraint': None}\n",
      "(None, 20) (None, 8)\n",
      "(20, 8)\n",
      "(8,)\n",
      "BatchNormalization {'name': 'batch_normalization_1', 'trainable': True, 'dtype': 'float32', 'axis': ListWrapper([1]), 'momentum': 0.99, 'epsilon': 0.001, 'center': True, 'scale': True, 'beta_initializer': {'class_name': 'Zeros', 'config': {}}, 'gamma_initializer': {'class_name': 'Ones', 'config': {}}, 'moving_mean_initializer': {'class_name': 'Zeros', 'config': {}}, 'moving_variance_initializer': {'class_name': 'Ones', 'config': {}}, 'beta_regularizer': None, 'gamma_regularizer': None, 'beta_constraint': None, 'gamma_constraint': None}\n",
      "(None, 8) (None, 8)\n",
      "(8,)\n",
      "(8,)\n",
      "Dense {'name': 'dense_4', 'trainable': True, 'dtype': 'float32', 'units': 4, 'activation': 'softmax', 'use_bias': True, 'kernel_initializer': {'class_name': 'GlorotUniform', 'config': {'seed': None}}, 'bias_initializer': {'class_name': 'Zeros', 'config': {}}, 'kernel_regularizer': None, 'bias_regularizer': None, 'activity_regularizer': None, 'kernel_constraint': None, 'bias_constraint': None}\n",
      "(None, 8) (None, 4)\n",
      "(8, 4)\n",
      "(4,)\n"
     ]
    }
   ],
   "source": [
    "for layer in model.layers:\n",
    "    print(layer.__class__.__name__, layer.get_config())\n",
    "    try:\n",
    "        print(layer.get_config()['function'])\n",
    "    except:\n",
    "        pass\n",
    "    print(layer.get_input_shape_at(0),layer.get_output_shape_at(0))\n",
    "    try:\n",
    "        print(layer.get_weights()[0].shape)\n",
    "        print(layer.get_weights()[1].shape)\n",
    "    except:\n",
    "        pass"
   ]
  },
  {
   "attachments": {},
   "cell_type": "markdown",
   "metadata": {},
   "source": [
    "### Onnx model - onnx"
   ]
  },
  {
   "cell_type": "code",
   "execution_count": 31,
   "metadata": {},
   "outputs": [],
   "source": [
    "#Convert to Onnx\n",
    "# Define the input signature for the conversion\n",
    "input_signature = [tf.TensorSpec([None, 32, 32, 3], tf.float32, name=\"input\")]\n",
    "\n",
    "# Convert the model to ONNX\n",
    "onnx_model, _ = tf2onnx.convert.from_keras(model, input_signature=input_signature, opset=13)\n",
    "\n",
    "# Save the ONNX model to a file\n",
    "with open(\"model.onnx\", \"wb\") as f:\n",
    "    f.write(onnx_model.SerializeToString())"
   ]
  },
  {
   "attachments": {},
   "cell_type": "markdown",
   "metadata": {},
   "source": [
    "## Input Json generator"
   ]
  },
  {
   "cell_type": "code",
   "execution_count": 32,
   "metadata": {},
   "outputs": [],
   "source": [
    "import json\n"
   ]
  },
  {
   "cell_type": "code",
   "execution_count": 33,
   "metadata": {},
   "outputs": [
    {
     "name": "stdout",
     "output_type": "stream",
     "text": [
      "1/1 [==============================] - 0s 129ms/step\n"
     ]
    },
    {
     "data": {
      "text/plain": [
       "array([[9.6215487e-01, 1.1055118e-03, 3.6557816e-02, 1.8187548e-04]],\n",
       "      dtype=float32)"
      ]
     },
     "execution_count": 33,
     "metadata": {},
     "output_type": "execute_result"
    }
   ],
   "source": [
    "X = X_test[[0]]\n",
    "y = model.predict(X)\n",
    "y"
   ]
  },
  {
   "cell_type": "code",
   "execution_count": 35,
   "metadata": {},
   "outputs": [],
   "source": [
    "with open(\"input.json\", \"w\") as f:\n",
    "    json.dump({'in': X.flatten().tolist()}, f)"
   ]
  }
 ],
 "metadata": {
  "kernelspec": {
   "display_name": "keras2circom",
   "language": "python",
   "name": "python3"
  },
  "language_info": {
   "codemirror_mode": {
    "name": "ipython",
    "version": 3
   },
   "file_extension": ".py",
   "mimetype": "text/x-python",
   "name": "python",
   "nbconvert_exporter": "python",
   "pygments_lexer": "ipython3",
   "version": "3.8.16"
  },
  "orig_nbformat": 4,
  "vscode": {
   "interpreter": {
    "hash": "71414dc221f26c27f268040756e42b4f7499507456a67f7434828e3314a20678"
   }
  }
 },
 "nbformat": 4,
 "nbformat_minor": 2
}
