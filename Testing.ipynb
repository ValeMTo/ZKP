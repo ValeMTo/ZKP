{
 "cells": [
  {
   "attachments": {},
   "cell_type": "markdown",
   "metadata": {},
   "source": [
    "# Onnx to Circom"
   ]
  },
  {
   "attachments": {},
   "cell_type": "markdown",
   "metadata": {},
   "source": [
    " ## Imports"
   ]
  },
  {
   "cell_type": "code",
   "execution_count": 55,
   "metadata": {},
   "outputs": [],
   "source": [
    "import onnx\n",
    "import tensorflow as tf"
   ]
  },
  {
   "attachments": {},
   "cell_type": "markdown",
   "metadata": {},
   "source": [
    "## Parameters extraction"
   ]
  },
  {
   "attachments": {},
   "cell_type": "markdown",
   "metadata": {},
   "source": [
    "### Onnx model"
   ]
  },
  {
   "cell_type": "code",
   "execution_count": 56,
   "metadata": {},
   "outputs": [],
   "source": [
    "useful_operations = [\n",
    "    \"Conv\",\n",
    "    \"BatchNormalization\",\n",
    "    \"MatMul\",\n",
    "    \"Relu\",\n",
    "    \"AveragePool\",\n",
    "    \"MaxPool\",\n",
    "    \"GlobalMaxPool\",\n",
    "    \"GlobalAveragePool\",\n",
    "    \"Softmax\"\n",
    "]"
   ]
  },
  {
   "cell_type": "code",
   "execution_count": 57,
   "metadata": {},
   "outputs": [],
   "source": [
    "# Load the ONNX model\n",
    "model = onnx.load('model.onnx')\n"
   ]
  },
  {
   "cell_type": "code",
   "execution_count": 58,
   "metadata": {},
   "outputs": [
    {
     "data": {
      "text/plain": [
       "onnx.onnx_ml_pb2.NodeProto"
      ]
     },
     "execution_count": 58,
     "metadata": {},
     "output_type": "execute_result"
    }
   ],
   "source": [
    "type(model.graph.node[0])"
   ]
  },
  {
   "cell_type": "code",
   "execution_count": 59,
   "metadata": {},
   "outputs": [
    {
     "name": "stdout",
     "output_type": "stream",
     "text": [
      "Shape\n",
      "Cast\n",
      "Gather\n",
      "Concat\n",
      "Cast\n",
      "Reshape\n",
      "MatMul\n",
      "7\n",
      "Reshape\n",
      "Add\n",
      "Relu\n",
      "10\n",
      "Transpose\n",
      "BatchNormalization\n",
      "12\n",
      "Transpose\n",
      "Shape\n",
      "Gather\n",
      "Cast\n",
      "Gather\n",
      "ReduceProd\n",
      "Unsqueeze\n",
      "Gather\n",
      "Concat\n",
      "Cast\n",
      "ReduceProd\n",
      "Unsqueeze\n",
      "Concat\n",
      "Cast\n",
      "Reshape\n",
      "MatMul\n",
      "28\n",
      "Reshape\n",
      "Add\n",
      "Relu\n",
      "31\n",
      "Reshape\n",
      "MatMul\n",
      "33\n",
      "Add\n",
      "Softmax\n",
      "35\n"
     ]
    }
   ],
   "source": [
    "# Iterate over the nodes\n",
    "num = 0\n",
    "for node in model.graph.node:\n",
    "    num+=1\n",
    "    print(node.op_type)\n",
    "    if node.op_type in useful_operations:\n",
    "        print(num)\n",
    "        \n"
   ]
  },
  {
   "attachments": {},
   "cell_type": "markdown",
   "metadata": {},
   "source": [
    "### Tensorflow model"
   ]
  },
  {
   "cell_type": "code",
   "execution_count": 63,
   "metadata": {},
   "outputs": [],
   "source": [
    "model_tf = tf.keras.models.load_model('model.h5')"
   ]
  },
  {
   "cell_type": "code",
   "execution_count": 64,
   "metadata": {},
   "outputs": [
    {
     "name": "stdout",
     "output_type": "stream",
     "text": [
      "dense_3 True\n",
      "batch_normalization_1 True\n",
      "dense_4 True\n",
      "layer_6 True\n",
      "dense_5 True\n"
     ]
    }
   ],
   "source": [
    "for layer in model_tf.layers:\n",
    "    print(layer.name, layer.trainable)"
   ]
  },
  {
   "attachments": {},
   "cell_type": "markdown",
   "metadata": {},
   "source": [
    "### Layer Traslation"
   ]
  },
  {
   "attachments": {},
   "cell_type": "markdown",
   "metadata": {},
   "source": [
    "#### Conv layer"
   ]
  },
  {
   "cell_type": "code",
   "execution_count": 9,
   "metadata": {},
   "outputs": [],
   "source": [
    "layer = model_tf.layers[0]\n",
    "node = model.graph.node[8]"
   ]
  },
  {
   "attachments": {},
   "cell_type": "markdown",
   "metadata": {},
   "source": [
    "##### Layer name"
   ]
  },
  {
   "cell_type": "code",
   "execution_count": 65,
   "metadata": {},
   "outputs": [
    {
     "data": {
      "text/plain": [
       "('conv1d', 'Conv')"
      ]
     },
     "execution_count": 65,
     "metadata": {},
     "output_type": "execute_result"
    }
   ],
   "source": [
    "layer.name, node.op_type"
   ]
  },
  {
   "attachments": {},
   "cell_type": "markdown",
   "metadata": {},
   "source": [
    "##### Input\n",
    "The input shape is the same of the previous layer's output shape or the first input calculated above"
   ]
  },
  {
   "cell_type": "code",
   "execution_count": 48,
   "metadata": {},
   "outputs": [
    {
     "data": {
      "text/plain": [
       "<KerasTensor: shape=(None, 32, 32, 3) dtype=float32 (created by layer 'conv1d_input')>"
      ]
     },
     "execution_count": 48,
     "metadata": {},
     "output_type": "execute_result"
    }
   ],
   "source": [
    "# It is the shape of the input tensor\n",
    "layer.input"
   ]
  },
  {
   "attachments": {},
   "cell_type": "markdown",
   "metadata": {},
   "source": [
    "##### Weights (Shape and values)\n",
    "To be given thanks to json file"
   ]
  },
  {
   "cell_type": "code",
   "execution_count": 49,
   "metadata": {},
   "outputs": [
    {
     "data": {
      "text/plain": [
       "TensorShape([3, 3, 5])"
      ]
     },
     "execution_count": 49,
     "metadata": {},
     "output_type": "execute_result"
    }
   ],
   "source": [
    "layer.weights[0].shape\n",
    "\n",
    "#ONNX: load from json to security reasons"
   ]
  },
  {
   "attachments": {},
   "cell_type": "markdown",
   "metadata": {},
   "source": [
    "##### Bias (bias) (Shapes and values)\n",
    "To be given thanks to json file"
   ]
  },
  {
   "cell_type": "code",
   "execution_count": 17,
   "metadata": {},
   "outputs": [
    {
     "data": {
      "text/plain": [
       "TensorShape([5])"
      ]
     },
     "execution_count": 17,
     "metadata": {},
     "output_type": "execute_result"
    }
   ],
   "source": [
    "layer.weights[1].shape\n",
    "\n",
    "#ONNX: load from json to security reasons"
   ]
  },
  {
   "cell_type": "code",
   "execution_count": 18,
   "metadata": {},
   "outputs": [
    {
     "data": {
      "text/plain": [
       "[<tf.Variable 'conv1d/kernel:0' shape=(3, 3, 5) dtype=float32, numpy=\n",
       " array([[[ 0.10489794,  0.02674789,  0.22496808, -0.13555515,\n",
       "           0.32511517],\n",
       "         [ 0.01517793,  0.33708185, -0.19704996, -0.31072298,\n",
       "          -0.02127604],\n",
       "         [-0.1836963 , -0.28111267,  0.01842831,  0.05202194,\n",
       "          -0.20682344]],\n",
       " \n",
       "        [[-0.46488547,  0.39390826, -0.04661333,  0.12807512,\n",
       "          -0.27943522],\n",
       "         [-0.00076935,  0.28162053,  0.32568017,  0.35260952,\n",
       "           0.3902165 ],\n",
       "         [-0.49525642, -0.11718595, -0.41158077, -0.02413559,\n",
       "           0.23505296]],\n",
       " \n",
       "        [[ 0.33310878, -0.2687955 , -0.25753167, -0.06768823,\n",
       "           0.18005817],\n",
       "         [ 0.45210898,  0.11931844, -0.45146644,  0.15307127,\n",
       "          -0.331387  ],\n",
       "         [-0.2640147 , -0.2364319 , -0.49394742,  0.386068  ,\n",
       "          -0.48843566]]], dtype=float32)>,\n",
       " <tf.Variable 'conv1d/bias:0' shape=(5,) dtype=float32, numpy=\n",
       " array([ 1.1342889e-06,  6.9391881e-06, -1.3836824e-06,  2.6138882e-06,\n",
       "        -2.5960611e-07], dtype=float32)>]"
      ]
     },
     "execution_count": 18,
     "metadata": {},
     "output_type": "execute_result"
    }
   ],
   "source": [
    "layer.weights"
   ]
  },
  {
   "attachments": {},
   "cell_type": "markdown",
   "metadata": {},
   "source": [
    "##### Layer output\n",
    "To be calculated, in case of Conv layer:\n",
    "\n",
    "- H_out = [(H_in - F_height + 2 * Padding) / S_height] + 1\n",
    "\n",
    "- W_out = [(W_in - F_width + 2 * Padding) / S_width] + 1\n",
    "\n",
    "- C_out = Number of filters in the convolutional layer"
   ]
  },
  {
   "cell_type": "code",
   "execution_count": 51,
   "metadata": {},
   "outputs": [
    {
     "data": {
      "text/plain": [
       "<KerasTensor: shape=(None, 32, 30, 5) dtype=float32 (created by layer 'conv1d')>"
      ]
     },
     "execution_count": 51,
     "metadata": {},
     "output_type": "execute_result"
    }
   ],
   "source": [
    "layer.output #input: 4, 10, 32"
   ]
  },
  {
   "cell_type": "code",
   "execution_count": 189,
   "metadata": {},
   "outputs": [
    {
     "name": "stdout",
     "output_type": "stream",
     "text": [
      "Kernel shape:  [3, 3]\n"
     ]
    }
   ],
   "source": [
    "# (filter dim1, filter dim2, input channels, output channels)\n",
    "layer.get_weights()[0].shape, layer.padding"
   ]
  },
  {
   "cell_type": "code",
   "execution_count": 190,
   "metadata": {},
   "outputs": [
    {
     "name": "stdout",
     "output_type": "stream",
     "text": [
      "Kernel shape:  [3, 3]\n"
     ]
    }
   ],
   "source": [
    "# filter dim1, filter dim2\n",
    "for attribute in node.attribute:\n",
    "    if attribute.name == 'kernel_shape':\n",
    "        kernel_shape = attribute.ints[1]\n",
    "        print('Kernel shape: ', [kernel_shape, kernel_shape])"
   ]
  },
  {
   "attachments": {},
   "cell_type": "markdown",
   "metadata": {},
   "source": [
    "##### nRows"
   ]
  },
  {
   "cell_type": "code",
   "execution_count": 186,
   "metadata": {},
   "outputs": [
    {
     "data": {
      "text/plain": [
       "<KerasTensor: shape=(4, 10, 32) dtype=float32 (created by layer 'tf.__operators__.getitem_18')>"
      ]
     },
     "execution_count": 186,
     "metadata": {},
     "output_type": "execute_result"
    }
   ],
   "source": [
    "layer.input[0] # 4"
   ]
  },
  {
   "attachments": {},
   "cell_type": "markdown",
   "metadata": {},
   "source": [
    "##### nCol"
   ]
  },
  {
   "cell_type": "code",
   "execution_count": 146,
   "metadata": {},
   "outputs": [
    {
     "data": {
      "text/plain": [
       "<KerasTensor: shape=(4, 10, 32) dtype=float32 (created by layer 'tf.__operators__.getitem_16')>"
      ]
     },
     "execution_count": 146,
     "metadata": {},
     "output_type": "execute_result"
    }
   ],
   "source": [
    "layer.input[1] # 10"
   ]
  },
  {
   "attachments": {},
   "cell_type": "markdown",
   "metadata": {},
   "source": [
    "##### nChannels & nFilters"
   ]
  },
  {
   "cell_type": "code",
   "execution_count": 166,
   "metadata": {},
   "outputs": [
    {
     "data": {
      "text/plain": [
       "(5, 5)"
      ]
     },
     "execution_count": 166,
     "metadata": {},
     "output_type": "execute_result"
    }
   ],
   "source": [
    "# The number of channels is egual to the number of filters, \n",
    "# and it's egual to the number of dimensione 3 of wheits array\n",
    "layer.filters, layer.weights[0].shape[3]"
   ]
  },
  {
   "cell_type": "code",
   "execution_count": 528,
   "metadata": {},
   "outputs": [
    {
     "data": {
      "text/plain": [
       "[32, 32, 3]"
      ]
     },
     "execution_count": 528,
     "metadata": {},
     "output_type": "execute_result"
    }
   ],
   "source": [
    "input_shape"
   ]
  },
  {
   "cell_type": "code",
   "execution_count": 529,
   "metadata": {},
   "outputs": [
    {
     "data": {
      "text/plain": [
       "[32, 32]"
      ]
     },
     "execution_count": 529,
     "metadata": {},
     "output_type": "execute_result"
    }
   ],
   "source": [
    "input_shape[-1]"
   ]
  },
  {
   "cell_type": "code",
   "execution_count": 520,
   "metadata": {},
   "outputs": [],
   "source": [
    "for node in model.graph.node:\n",
    "    if node.op_type == 'Conv':  # We found a convolutional layer\n",
    "        # Get the name of the weights tensor for this layer\n",
    "        weights_name = node.input[1]  # The weights tensor is usually the second input\n",
    "        # Now we look for this tensor in the initializers\n",
    "        for initializer in model.graph.initializer:\n",
    "            if initializer.name == weights_name:\n",
    "                # We found the weights tensor. Its shape gives us the number of filters\n",
    "                weights = numpy_helper.to_array(initializer)\n",
    "                print('Layer (node) name: ', node.name)\n",
    "                print('Number of filters: ', weights.shape[0])\n",
    "                break\n"
   ]
  },
  {
   "attachments": {},
   "cell_type": "markdown",
   "metadata": {},
   "source": [
    "##### KernelSize"
   ]
  },
  {
   "cell_type": "code",
   "execution_count": 171,
   "metadata": {},
   "outputs": [
    {
     "data": {
      "text/plain": [
       "(3, 3)"
      ]
     },
     "execution_count": 171,
     "metadata": {},
     "output_type": "execute_result"
    }
   ],
   "source": [
    "layer.kernel_size"
   ]
  },
  {
   "cell_type": "code",
   "execution_count": 179,
   "metadata": {},
   "outputs": [
    {
     "name": "stdout",
     "output_type": "stream",
     "text": [
      "Kernel shape:  [3, 3]\n"
     ]
    }
   ],
   "source": [
    "for attribute in node.attribute:\n",
    "    if attribute.name == 'kernel_shape':\n",
    "        kernel_shape = attribute.ints[1]\n",
    "        print('Kernel shape: ', [kernel_shape, kernel_shape])"
   ]
  },
  {
   "attachments": {},
   "cell_type": "markdown",
   "metadata": {},
   "source": [
    "##### Strides"
   ]
  },
  {
   "cell_type": "code",
   "execution_count": 182,
   "metadata": {},
   "outputs": [
    {
     "name": "stdout",
     "output_type": "stream",
     "text": [
      "Strides shape:  [1, 1]\n"
     ]
    }
   ],
   "source": [
    "for attribute in node.attribute:\n",
    "    if attribute.name == 'strides':\n",
    "        stride_shape = attribute.ints\n",
    "        print('Strides shape: ', stride_shape)"
   ]
  },
  {
   "attachments": {},
   "cell_type": "markdown",
   "metadata": {},
   "source": [
    "#### Dense layer"
   ]
  },
  {
   "cell_type": "code",
   "execution_count": 532,
   "metadata": {},
   "outputs": [],
   "source": [
    "layer = model_tf.layers[0]\n",
    "node_mat = model.graph.node[6]\n",
    "node_relu = model.graph.node[9]"
   ]
  },
  {
   "cell_type": "code",
   "execution_count": 611,
   "metadata": {},
   "outputs": [
    {
     "data": {
      "text/plain": [
       "'sequential_1/dense_3'"
      ]
     },
     "execution_count": 611,
     "metadata": {},
     "output_type": "execute_result"
    }
   ],
   "source": [
    "node  = model.graph.node[6]\n",
    "output_name = str(node.output[0])\n",
    "output_names = output_name.split('/')\n",
    "output_name = '/'.join(output_names[:2])\n",
    "output_name"
   ]
  },
  {
   "cell_type": "code",
   "execution_count": 599,
   "metadata": {},
   "outputs": [
    {
     "name": "stdout",
     "output_type": "stream",
     "text": [
      "dims: 1\n",
      "data_type: 6\n",
      "name: \"sequential_1/dense_3/Tensordot/axes:0\"\n",
      "raw_data: \"\\003\\000\\000\\000\"\n",
      "\n",
      "dims: 2\n",
      "data_type: 7\n",
      "name: \"sequential_1/dense_3/Tensordot/Reshape_shape__92\"\n",
      "raw_data: \"\\377\\377\\377\\377\\377\\377\\377\\377\\003\\000\\000\\000\\000\\000\\000\\000\"\n",
      "\n",
      "dims: 3\n",
      "dims: 8\n",
      "data_type: 1\n",
      "name: \"sequential_1/dense_3/Tensordot/ReadVariableOp:0\"\n",
      "raw_data: \"\\322?q\\276A\\311\\033\\276\\343:\\262>c\\322\\223\\276\\267/\\267\\276\\265\\366\\243>\\036\\254B\\276TE$?u\\335\\335>!\\277\\317\\276V\\320\\216\\276\\351\\267\\335>|\\326\\236\\276F[\\335>D  \\277\\214\\022!\\277q\\033\\333>\\346\\254\\312\\276\\370&8\\277\\320\\025.?~2\\037\\276A\\335\\n\\277C\\327\\200\\276\\236\\253e\\276\"\n",
      "\n",
      "dims: 1\n",
      "data_type: 6\n",
      "name: \"sequential_1/dense_3/Tensordot/Const_2:0\"\n",
      "raw_data: \"\\010\\000\\000\\000\"\n",
      "\n",
      "dims: 8\n",
      "data_type: 1\n",
      "name: \"sequential_1/dense_3/BiasAdd/ReadVariableOp:0\"\n",
      "raw_data: \"\\272_i\\274\\000\\000\\000\\000\\251k{\\273n~\\244;\\000\\000\\000\\000\\307\\360\\021\\274\\000\\000\\000\\000\\212|J\\273\"\n",
      "\n",
      "dims: 8\n",
      "data_type: 1\n",
      "name: \"sequential_1/dense_3/BiasAdd/ReadVariableOp:0\"\n",
      "raw_data: \"\\272_i\\274\\000\\000\\000\\000\\251k{\\273n~\\244;\\000\\000\\000\\000\\307\\360\\021\\274\\000\\000\\000\\000\\212|J\\273\"\n",
      "\n",
      "The number of neurons in the node is [8]\n"
     ]
    }
   ],
   "source": [
    "for value_info in model.graph.initializer:\n",
    "    if output_name in value_info.name:\n",
    "        last = value_info\n",
    "        print(value_info)\n",
    "num_neurons = last.dims\n",
    "print(f\"The number of neurons in the node is {num_neurons}\")\n",
    "\n",
    "    "
   ]
  },
  {
   "cell_type": "code",
   "execution_count": 602,
   "metadata": {},
   "outputs": [
    {
     "data": {
      "text/plain": [
       "(32, 32, 6)"
      ]
     },
     "execution_count": 602,
     "metadata": {},
     "output_type": "execute_result"
    }
   ],
   "source": [
    "input_shape = (32, 32, 3)\n",
    "input_shape[:-1] + (6,)"
   ]
  },
  {
   "attachments": {},
   "cell_type": "markdown",
   "metadata": {},
   "source": [
    "### Circuit Conv Creation"
   ]
  },
  {
   "cell_type": "code",
   "execution_count": 1,
   "metadata": {},
   "outputs": [],
   "source": [
    "from keras2circom.keras2circom.circom import Component, Circuit, Signal, Template\n",
    "import typing\n"
   ]
  },
  {
   "cell_type": "code",
   "execution_count": 2,
   "metadata": {},
   "outputs": [],
   "source": [
    "import os\n",
    "from os import path\n",
    "import re\n",
    "\n",
    "def dir_parse(dir_path, skips=[]):\n",
    "    '''parse circom files in a directory'''\n",
    "    names = os.listdir(dir_path)\n",
    "    for name in names:\n",
    "        if name in skips:\n",
    "            continue\n",
    "\n",
    "        fpath = path.join(dir_path, name)\n",
    "        if os.path.isdir(fpath):\n",
    "            dir_parse(fpath)\n",
    "        elif os.path.isfile(fpath):\n",
    "            if fpath.endswith('.circom'):\n",
    "                templates = file_parse(fpath)\n",
    "    print(templates)\n",
    "    return templates\n",
    "\n",
    "def file_parse(fpath):\n",
    "    '''parse circom file and register templates'''\n",
    "    with open(fpath, 'r') as f:\n",
    "        lines = f.read().split('\\n')\n",
    "\n",
    "    lines = [l for l in lines if not l.strip().startswith('//')]\n",
    "    lines = ' '.join(lines)\n",
    "\n",
    "    lines = re.sub('/\\*.*?\\*/', 'IGN', lines)\n",
    "\n",
    "    funcs = re.findall('template (\\w+) ?\\((.*?)\\) ?\\{(.*?)\\}', lines)\n",
    "    for func in funcs:\n",
    "        op_name = func[0].strip()\n",
    "        args = func[1].split(',')\n",
    "        main = func[2].strip()\n",
    "        assert op_name not in templates, \\\n",
    "            'duplicated template: {} in {} vs. {}'.format(\n",
    "                    op_name, templates[op_name].fpath, fpath)\n",
    "\n",
    "        signals = re.findall('signal (\\w+) (\\w+)(.*?);', main)\n",
    "        infos = [[] for i in range(4)]\n",
    "        for sig in signals:\n",
    "            sig_types = ['input', 'output']\n",
    "            assert sig[0] in sig_types, sig[1] + ' | ' + main\n",
    "            idx = sig_types.index(sig[0])\n",
    "            infos[idx*2+0].append(sig[1])\n",
    "\n",
    "            sig_dim = sig[2].count('[')\n",
    "            infos[idx*2+1].append(sig_dim)\n",
    "        templates[op_name] = Template(\n",
    "                op_name, fpath,\n",
    "                [a.strip() for a in args],\n",
    "                *infos)\n",
    "    return templates"
   ]
  },
  {
   "cell_type": "code",
   "execution_count": 3,
   "metadata": {},
   "outputs": [
    {
     "name": "stdout",
     "output_type": "stream",
     "text": [
      "{'ArgMax': Template(op_name='ArgMax', fpath='keras2circom/node_modules/circomlib-ml/circuits/ArgMax.circom', args=['n'], input_names=['in'], input_dims=[1], output_names=['out'], output_dims=[0]), 'AveragePooling2D': Template(op_name='AveragePooling2D', fpath='keras2circom/node_modules/circomlib-ml/circuits/AveragePooling2D.circom', args=['nRows', 'nCols', 'nChannels', 'poolSize', 'strides', 'scaledInvPoolSize'], input_names=['in'], input_dims=[3], output_names=['out'], output_dims=[3]), 'BatchNormalization2D': Template(op_name='BatchNormalization2D', fpath='keras2circom/node_modules/circomlib-ml/circuits/BatchNormalization2D.circom', args=['nRows', 'nCols', 'nChannels'], input_names=['in', 'a', 'b'], input_dims=[3, 1, 1], output_names=['out'], output_dims=[3]), 'Conv1D': Template(op_name='Conv1D', fpath='keras2circom/node_modules/circomlib-ml/circuits/Conv1D.circom', args=['nInputs', 'nChannels', 'nFilters', 'kernelSize', 'strides'], input_names=['in', 'weights', 'bias'], input_dims=[2, 3, 1], output_names=['out'], output_dims=[2]), 'Conv2D': Template(op_name='Conv2D', fpath='keras2circom/node_modules/circomlib-ml/circuits/Conv2D.circom', args=['nRows', 'nCols', 'nChannels', 'nFilters', 'kernelSize', 'strides'], input_names=['in', 'weights', 'bias'], input_dims=[3, 4, 1], output_names=['out'], output_dims=[3]), 'Dense': Template(op_name='Dense', fpath='keras2circom/node_modules/circomlib-ml/circuits/Dense.circom', args=['nInputs', 'nOutputs'], input_names=['in', 'weights', 'bias'], input_dims=[1, 2, 1], output_names=['out'], output_dims=[1]), 'Flatten2D': Template(op_name='Flatten2D', fpath='keras2circom/node_modules/circomlib-ml/circuits/Flatten2D.circom', args=['nRows', 'nCols', 'nChannels'], input_names=['in'], input_dims=[3], output_names=['out'], output_dims=[1]), 'GlobalAveragePooling2D': Template(op_name='GlobalAveragePooling2D', fpath='keras2circom/node_modules/circomlib-ml/circuits/GlobalAveragePooling2D.circom', args=['nRows', 'nCols', 'nChannels', 'scaledInv'], input_names=['in'], input_dims=[3], output_names=['out'], output_dims=[1]), 'GlobalMaxPooling2D': Template(op_name='GlobalMaxPooling2D', fpath='keras2circom/node_modules/circomlib-ml/circuits/GlobalMaxPooling2D.circom', args=['nRows', 'nCols', 'nChannels'], input_names=['in'], input_dims=[3], output_names=['out'], output_dims=[1]), 'GlobalSumPooling2D': Template(op_name='GlobalSumPooling2D', fpath='keras2circom/node_modules/circomlib-ml/circuits/GlobalSumPooling2D.circom', args=['nRows', 'nCols', 'nChannels'], input_names=['in'], input_dims=[3], output_names=['out'], output_dims=[1]), 'MaxPooling2D': Template(op_name='MaxPooling2D', fpath='keras2circom/node_modules/circomlib-ml/circuits/MaxPooling2D.circom', args=['nRows', 'nCols', 'nChannels', 'poolSize', 'strides'], input_names=['in'], input_dims=[3], output_names=['out'], output_dims=[3]), 'Poly': Template(op_name='Poly', fpath='keras2circom/node_modules/circomlib-ml/circuits/Poly.circom', args=['n'], input_names=['in'], input_dims=[0], output_names=['out'], output_dims=[0]), 'ReLU': Template(op_name='ReLU', fpath='keras2circom/node_modules/circomlib-ml/circuits/ReLU.circom', args=[''], input_names=['in'], input_dims=[0], output_names=['out'], output_dims=[0]), 'SumPooling2D': Template(op_name='SumPooling2D', fpath='keras2circom/node_modules/circomlib-ml/circuits/SumPooling2D.circom', args=['nRows', 'nCols', 'nChannels', 'poolSize', 'strides'], input_names=['in'], input_dims=[3], output_names=['out'], output_dims=[3])}\n"
     ]
    }
   ],
   "source": [
    "templates = {}\n",
    "templates = dir_parse('keras2circom/node_modules/circomlib-ml/circuits/', skips=['util.circom', 'circomlib-matrix', 'circomlib', 'crypto'])"
   ]
  },
  {
   "cell_type": "code",
   "execution_count": 4,
   "metadata": {},
   "outputs": [],
   "source": [
    "import numpy as np\n",
    "array = (np.random.random(1458) * 255).astype(np.uint8)"
   ]
  },
  {
   "attachments": {},
   "cell_type": "markdown",
   "metadata": {},
   "source": []
  },
  {
   "cell_type": "code",
   "execution_count": 5,
   "metadata": {},
   "outputs": [
    {
     "name": "stdout",
     "output_type": "stream",
     "text": [
      "[185, 70, 22, 30, 50, 165, 247, 200, 174, 242, 163, 155, 249, 148, 116, 146, 239, 1, 185, 76, 200, 190, 131, 122, 112, 218, 120, 165, 150, 116, 249, 55, 203, 100, 235, 4, 251, 56, 114, 109, 108, 110, 175, 186, 74, 220, 63, 69, 160, 163, 160, 189, 126, 210, 76, 71, 124, 190, 12, 63, 174, 66, 133, 74, 177, 168, 42, 83, 243, 27, 110, 201, 39, 30, 186, 119, 88, 96, 85, 118, 208, 64, 70, 227, 44, 138, 222, 142, 199, 246, 204, 118, 180, 65, 225, 226, 147, 30, 189, 141, 99, 129, 75, 132, 91, 203, 107, 35, 72, 241, 50, 107, 195, 116, 118, 227, 127, 119, 29, 75, 196, 227, 163, 44, 106, 88, 148, 72, 85, 38, 108, 33, 192, 122, 139, 24, 249, 136, 117, 179, 193, 115, 42, 13, 42, 132, 78, 127, 61, 77, 231, 120, 145, 7, 113, 79, 64, 40, 26, 134, 221, 197, 109, 220, 60, 222, 85, 87, 41, 144, 248, 4, 172, 188, 125, 135, 0, 75, 252, 175, 39, 194, 40, 155, 87, 52, 195, 40, 30, 48, 232, 104, 60, 62, 48, 235, 108, 111, 89, 37, 94, 177, 7, 39, 223, 30, 224, 189, 88, 223, 162, 177, 139, 239, 142, 189, 189, 224, 117, 39, 47, 78, 192, 169, 244, 172, 62, 122, 177, 177, 77, 228, 138, 116, 116, 197, 36, 10, 31, 119, 139, 218, 66, 155, 7, 169, 174, 232, 117, 217, 66, 248, 97, 132, 37, 133, 213, 188, 207, 40, 79, 177, 111, 137, 53, 70, 137, 84, 107, 218, 177, 235, 132, 46, 49, 28, 101, 42, 235, 66, 211, 7, 209, 200, 187, 150, 69, 10, 116, 252, 17, 232, 149, 36, 235, 34, 192, 63, 147, 31, 199, 109, 147, 26, 41, 12, 128, 119, 84, 186, 169, 88, 147, 120, 253, 30, 213, 34, 252, 166, 28, 18, 143, 163, 234, 105, 71, 237, 214, 109, 80, 17, 77, 131, 224, 28, 83, 151, 29, 138, 105, 178, 219, 180, 249, 35, 246, 53, 121, 186, 134, 19, 72, 119, 62, 36, 61, 11, 164, 185, 111, 42, 198, 112, 144, 218, 200, 225, 3, 44, 61, 70, 161, 146, 38, 216, 67, 222, 229, 207, 187, 131, 218, 220, 253, 204, 3, 235, 162, 126, 66, 132, 93, 50, 39, 83, 216, 70, 177, 187, 63, 203, 203, 183, 171, 244, 196, 3, 247, 129, 243, 56, 103, 125, 129, 199, 70, 153, 226, 90, 114, 161, 121, 165, 172, 241, 109, 84, 219, 150, 165, 199, 14, 55, 33, 183, 86, 171, 229, 131, 31, 32, 16, 20, 20, 213, 89, 148, 16, 191, 233, 182, 208, 198, 174, 147, 158, 231, 122, 96, 249, 74, 251, 69, 171, 18, 144, 133, 30, 186, 119, 96, 205, 137, 29, 141, 207, 85, 140, 197, 224, 238, 73, 210, 94, 160, 167, 89, 182, 231, 239, 104, 51, 89, 216, 7, 144, 16, 6, 81, 77, 51, 76, 114, 90, 162, 102, 234, 80, 167, 58, 55, 182, 103, 183, 225, 182, 67, 230, 1, 21, 219, 209, 208, 139, 201, 93, 17, 157, 251, 24, 30, 17, 123, 17, 42, 176, 23, 204, 222, 93, 158, 137, 46, 113, 109, 16, 195, 67, 125, 158, 71, 210, 75, 140, 116, 240, 252, 85, 104, 26, 122, 162, 6, 177, 119, 210, 33, 141, 154, 207, 110, 3, 209, 4, 100, 197, 94, 117, 146, 48, 193, 28, 74, 174, 38, 251, 156, 133, 77, 135, 102, 6, 27, 155, 109, 110, 152, 103, 51, 69, 248, 231, 254, 199, 3, 90, 95, 118, 181, 7, 200, 144, 98, 90, 174, 185, 210, 17, 30, 175, 224, 37, 24, 156, 201, 46, 21, 193, 13, 119, 198, 165, 215, 145, 132, 154, 9, 143, 205, 141, 225, 90, 23, 72, 225, 234, 237, 15, 183, 243, 112, 16, 222, 115, 37, 187, 101, 43, 134, 232, 229, 100, 130, 220, 162, 53, 38, 14, 67, 252, 6, 131, 247, 156, 14, 199, 8, 64, 89, 93, 155, 162, 128, 209, 98, 198, 192, 36, 207, 99, 164, 69, 111, 62, 40, 67, 207, 7, 22, 65, 0, 241, 52, 69, 182, 157, 206, 103, 210, 227, 116, 146, 32, 77, 207, 139, 134, 46, 48, 179, 131, 249, 197, 46, 72, 157, 62, 165, 56, 206, 205, 230, 101, 34, 5, 17, 247, 205, 190, 1, 163, 79, 212, 147, 185, 243, 42, 126, 150, 221, 36, 168, 214, 16, 138, 146, 247, 221, 199, 20, 99, 68, 31, 35, 105, 41, 89, 12, 223, 32, 105, 131, 222, 169, 174, 213, 52, 191, 100, 232, 93, 16, 71, 251, 22, 20, 82, 84, 162, 43, 122, 209, 96, 73, 224, 190, 226, 178, 94, 11, 224, 170, 109, 81, 162, 176, 192, 10, 161, 133, 170, 150, 94, 62, 83, 17, 157, 120, 97, 120, 166, 119, 226, 80, 97, 37, 125, 213, 81, 4, 82, 67, 24, 209, 34, 50, 105, 10, 102, 7, 48, 96, 119, 30, 47, 181, 192, 22, 227, 153, 162, 207, 117, 72, 220, 63, 200, 199, 197, 71, 231, 48, 70, 13, 220, 176, 83, 173, 151, 180, 180, 123, 27, 166, 9, 218, 241, 37, 126, 187, 174, 201, 18, 221, 96, 189, 179, 157, 109, 87, 248, 48, 223, 128, 145, 127, 204, 81, 135, 133, 38, 242, 184, 232, 66, 174, 216, 148, 209, 216, 2, 249, 50, 227, 161, 84, 245, 30, 115, 7, 224, 205, 226, 79, 104, 83, 108, 10, 82, 202, 108, 190, 233, 144, 139, 46, 30, 121, 107, 144, 135, 8, 73, 198, 37, 100, 153, 237, 175, 141, 194, 216, 4, 144, 24, 194, 89, 208, 210, 38, 21, 59, 175, 30, 162, 55, 176, 22, 218, 140, 0, 205, 102, 95, 238, 105, 195, 124, 64, 208, 233, 190, 14, 207, 190, 99, 135, 150, 208, 229, 105, 96, 119, 6, 126, 94, 144, 133, 132, 14, 3, 47, 65, 37, 29, 139, 10, 39, 146, 25, 9, 163, 106, 54, 143, 163, 212, 156, 94, 244, 92, 25, 25, 162, 244, 31, 96, 31, 62, 188, 3, 152, 22, 226, 14, 139, 46, 150, 226, 253, 129, 74, 233, 15, 15, 234, 186, 188, 69, 182, 187, 154, 88, 77, 50, 88, 242, 70, 65, 151, 119, 29, 15, 157, 32, 28, 33, 207, 16, 193, 45, 251, 63, 87, 159, 175, 102, 101, 72, 14, 116, 80, 231, 8, 114, 18, 43, 60, 163, 0, 247, 90, 110, 69, 156, 92, 157, 169, 21, 71, 209, 49, 83, 247, 73, 64, 111, 139, 49, 33, 182, 114, 197, 198, 133, 185, 170, 149, 225, 103, 20, 201, 36, 61, 66, 216, 112, 221, 116, 176, 49, 54, 237, 64, 60, 163, 184, 83, 186, 24, 118, 217, 233, 160, 173, 28, 9, 210, 90, 127, 32, 236, 14, 224, 177, 151, 190, 31, 161, 150, 19, 155, 185, 203, 173, 172, 141, 27, 185, 210, 181, 36, 254, 3, 228, 71, 221, 52, 135, 158, 32, 197, 11, 126, 70, 13, 41, 111, 125, 68, 136, 237, 150, 201, 118, 207, 75, 63, 154, 48, 123, 146, 167, 216, 98, 99, 59, 80, 217, 89, 183, 214, 251, 172, 247, 198, 150, 9, 107, 18, 68, 112, 38, 50, 139, 124, 67, 69, 68, 48, 124, 169, 238, 111, 179, 124, 106, 110, 63, 233, 185, 144, 55, 86, 113, 16, 162, 17, 93, 146, 120, 179, 27, 209, 204, 49, 212, 220, 39, 174, 138, 191, 98, 11, 128, 84, 7, 170, 33, 199, 157, 127, 121, 126, 228, 217, 51, 65, 235, 76, 154, 87, 151, 60, 183, 212, 233, 20, 18, 17, 33, 111, 218, 222, 97, 237, 45, 237, 76, 20, 43, 60, 239, 233, 223, 75, 200, 167, 71, 135, 40, 189, 186, 3, 194, 145, 47, 118, 233, 101, 229, 3, 211, 23, 165, 34, 21, 13, 30, 103, 21, 203, 221, 37, 189, 151, 214, 61, 38, 79, 243, 130, 215, 85, 190, 91, 184, 194, 157, 49, 5, 83, 221, 152, 66, 11, 235, 116, 189, 166, 37, 115, 39, 26, 158, 203, 244, 144, 93, 38, 204, 13, 195, 9, 115, 149, 48, 63, 78, 169, 90, 2, 74, 224, 202, 38, 65, 6, 77, 153, 54, 203, 95, 142, 98, 45, 71, 204, 232, 89, 226, 186, 146, 164, 38, 89, 78, 80, 38, 199, 178, 121, 12, 61, 80, 209, 216, 127, 238, 174, 163, 24, 229, 213, 131, 207, 243, 33, 82, 159, 26, 89, 137, 78, 49, 160, 193, 58, 8, 21, 77, 32, 173, 245, 59, 159, 189, 101, 10, 91, 63, 3, 206, 141, 29, 115, 43, ]\n"
     ]
    }
   ],
   "source": [
    "print(\"[\", end=\"\")\n",
    "for i in array.flatten():\n",
    "    print(str(i)+ \",\",  end=\" \")\n",
    "print(\"]\")"
   ]
  },
  {
   "cell_type": "code",
   "execution_count": 18,
   "metadata": {},
   "outputs": [
    {
     "data": {
      "text/plain": [
       "<KerasTensor: shape=(None, 32, 32, 3) dtype=float32 (created by layer 'dense_3_input')>"
      ]
     },
     "execution_count": 18,
     "metadata": {},
     "output_type": "execute_result"
    }
   ],
   "source": [
    "layer.input"
   ]
  },
  {
   "attachments": {},
   "cell_type": "markdown",
   "metadata": {},
   "source": [
    "### Translation"
   ]
  },
  {
   "cell_type": "code",
   "execution_count": 509,
   "metadata": {},
   "outputs": [],
   "source": [
    "circuit = Circuit()"
   ]
  },
  {
   "cell_type": "code",
   "execution_count": 519,
   "metadata": {},
   "outputs": [
    {
     "data": {
      "text/plain": [
       "list"
      ]
     },
     "execution_count": 519,
     "metadata": {},
     "output_type": "execute_result"
    }
   ],
   "source": [
    "input_name = model.graph.input[0].name\n",
    "input_shape = [dim.dim_value for dim in model.graph.input[0].type.tensor_type.shape.dim][1:]\n",
    "type(input_shape)"
   ]
  },
  {
   "cell_type": "code",
   "execution_count": 510,
   "metadata": {},
   "outputs": [],
   "source": [
    "layer_1 = model_tf.layers[0]"
   ]
  },
  {
   "cell_type": "code",
   "execution_count": 507,
   "metadata": {},
   "outputs": [
    {
     "data": {
      "text/plain": [
       "<KerasTensor: shape=(32, 32, 3) dtype=float32 (created by layer 'tf.__operators__.getitem_176')>"
      ]
     },
     "execution_count": 507,
     "metadata": {},
     "output_type": "execute_result"
    }
   ],
   "source": [
    "layer_1.input[0]"
   ]
  },
  {
   "cell_type": "code",
   "execution_count": 608,
   "metadata": {},
   "outputs": [
    {
     "data": {
      "text/plain": [
       "input: \"sequential_1/dense_3/Tensordot/Reshape:0\"\n",
       "input: \"sequential_1/dense_3/Tensordot/ReadVariableOp:0\"\n",
       "output: \"sequential_1/dense_3/Tensordot/MatMul:0\"\n",
       "name: \"sequential_1/dense_3/Tensordot/MatMul\"\n",
       "op_type: \"MatMul\""
      ]
     },
     "execution_count": 608,
     "metadata": {},
     "output_type": "execute_result"
    }
   ],
   "source": [
    "node"
   ]
  },
  {
   "cell_type": "code",
   "execution_count": 610,
   "metadata": {},
   "outputs": [
    {
     "data": {
      "text/plain": [
       "'sequential_1/dense_3/Tensordot/MatMul:0'"
      ]
     },
     "execution_count": 610,
     "metadata": {},
     "output_type": "execute_result"
    }
   ],
   "source": [
    "node.output[0]"
   ]
  },
  {
   "cell_type": "code",
   "execution_count": 511,
   "metadata": {},
   "outputs": [],
   "source": [
    "dense_1 = Component(layer_1.name, templates['Dense'], [\n",
    "    Signal('in', (32, 32, 3)),\n",
    "    Signal('weights', layer_1.weights[0].shape, array),\n",
    "    Signal('bias', layer_1.weights[1].shape, layer_1.weights[1]),\n",
    "    ],[Signal('out', (32, 32, 8))],{\n",
    "    'nInputs': 32 ,\n",
    "    'nOutputs': 32,\n",
    "    })\n",
    "\n",
    "circuit.add_component(dense_1)\n"
   ]
  },
  {
   "cell_type": "code",
   "execution_count": 512,
   "metadata": {},
   "outputs": [],
   "source": [
    "activation_1 = Component(layer_1.name+'_re_lu', templates['ReLU'], \n",
    "    [Signal('in', (32, 32, 8))], \n",
    "    [Signal('out', (32, 32, 8))])\n",
    "\n",
    "circuit.add_component(activation_1)"
   ]
  },
  {
   "cell_type": "code",
   "execution_count": 486,
   "metadata": {},
   "outputs": [],
   "source": [
    "layer_2 = model_tf.layers[1]"
   ]
  },
  {
   "cell_type": "code",
   "execution_count": 487,
   "metadata": {},
   "outputs": [],
   "source": [
    "gamma = layer_2.weights[0]\n",
    "beta = layer_2.weights[1]\n",
    "moving_mean = layer_2.weights[2]\n",
    "moving_var = layer_2.weights[3]\n",
    "epsilon = layer_2.epsilon\n",
    "\n",
    "a = gamma/(moving_var+epsilon)**.5\n",
    "b = beta-gamma*moving_mean/(moving_var+epsilon)**.5\n",
    "\n",
    "batch_1 = Component(layer_2.name, templates['BatchNormalization2D'], [\n",
    "        Signal('in', (32,32,8)),\n",
    "        Signal('a', a.shape, a),\n",
    "        Signal('b', b.shape, b),\n",
    "        ],[Signal('out',(32, 32, 8))],{\n",
    "        'nRows': 32,\n",
    "        'nCols': 32,\n",
    "        'nChannels': 3,\n",
    "        })\n",
    "\n",
    "circuit.add_component(batch_1)"
   ]
  },
  {
   "cell_type": "code",
   "execution_count": 488,
   "metadata": {},
   "outputs": [],
   "source": [
    "layer_3 = model_tf.layers[2]"
   ]
  },
  {
   "cell_type": "code",
   "execution_count": 489,
   "metadata": {},
   "outputs": [],
   "source": [
    "dense_2 = Component(layer_3.name, templates['Dense'], [\n",
    "    Signal('in', (32, 32, 8)),\n",
    "    Signal('weights', layer_3.weights[0].shape, layer_3.weights[0]),\n",
    "    Signal('bias', layer_3.weights[1].shape, layer_3.weights[1]),\n",
    "    ],[Signal('out', (32, 32, 12))],{\n",
    "    'nInputs': layer_3.input[0],\n",
    "    'nOutputs': layer_3.output[0],\n",
    "    })\n",
    "\n",
    "circuit.add_component(dense_2)"
   ]
  },
  {
   "cell_type": "code",
   "execution_count": 490,
   "metadata": {},
   "outputs": [],
   "source": [
    "activation_2 = Component(layer_3.name+'_re_lu', templates['ReLU'], \n",
    "    [Signal('in', (32, 32, 12))], \n",
    "    [Signal('out', (32, 32, 12))])\n",
    "\n",
    "circuit.add_component(activation_2)"
   ]
  },
  {
   "cell_type": "code",
   "execution_count": 491,
   "metadata": {},
   "outputs": [],
   "source": [
    "layer_4 = model_tf.layers[3]"
   ]
  },
  {
   "cell_type": "code",
   "execution_count": 492,
   "metadata": {},
   "outputs": [],
   "source": [
    "flatten = Component(layer_4.name, templates['Flatten2D'], [\n",
    "        Signal('in', (32, 32, 12)),\n",
    "        ],[Signal('out', (12288,))],{\n",
    "        'nRows': 32,\n",
    "        'nCols': 32,\n",
    "        'nChannels': 12,\n",
    "        })\n",
    "\n",
    "circuit.add_component(flatten)"
   ]
  },
  {
   "cell_type": "code",
   "execution_count": 493,
   "metadata": {},
   "outputs": [],
   "source": [
    "layer_5 = model_tf.layers[4]"
   ]
  },
  {
   "cell_type": "code",
   "execution_count": 494,
   "metadata": {},
   "outputs": [
    {
     "data": {
      "text/plain": [
       "<KerasTensor: shape=(None, 12288) dtype=float32 (created by layer 'layer_6')>"
      ]
     },
     "execution_count": 494,
     "metadata": {},
     "output_type": "execute_result"
    }
   ],
   "source": [
    "layer_5.input"
   ]
  },
  {
   "cell_type": "code",
   "execution_count": 495,
   "metadata": {},
   "outputs": [],
   "source": [
    "dense_3 = Component(layer_5.name, templates['Dense'], [\n",
    "    Signal('in', (12288,)),\n",
    "    Signal('weights', layer_5.weights[0].shape, layer_5.weights[0]),\n",
    "    Signal('bias', layer_5.weights[1].shape, layer_5.weights[1]),\n",
    "    ],[Signal('out', (4,))],{\n",
    "    'nInputs': 12288,\n",
    "    'nOutputs': 4,\n",
    "    })\n",
    "\n",
    "circuit.add_component(dense_3)"
   ]
  },
  {
   "cell_type": "code",
   "execution_count": 496,
   "metadata": {},
   "outputs": [],
   "source": [
    "activation_3 = Component(layer_5.name+'_softmax', templates['ArgMax'],\n",
    "    [Signal('in', (4,))],\n",
    "    [Signal('out', (1,))], {'n': 4})\n",
    "\n",
    "circuit.add_component(activation_3)"
   ]
  },
  {
   "cell_type": "code",
   "execution_count": 513,
   "metadata": {},
   "outputs": [],
   "source": [
    "with open('circuit.json', 'w') as f:\n",
    "    f.write(circuit.to_json())\n",
    "    \n",
    "with open('circuit.circom', 'w') as f:\n",
    "    f.write(circuit.to_circom())"
   ]
  }
 ],
 "metadata": {
  "kernelspec": {
   "display_name": "Python 3",
   "language": "python",
   "name": "python3"
  },
  "language_info": {
   "codemirror_mode": {
    "name": "ipython",
    "version": 3
   },
   "file_extension": ".py",
   "mimetype": "text/x-python",
   "name": "python",
   "nbconvert_exporter": "python",
   "pygments_lexer": "ipython3",
   "version": "3.8.16"
  },
  "orig_nbformat": 4
 },
 "nbformat": 4,
 "nbformat_minor": 2
}
