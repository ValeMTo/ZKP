{
 "cells": [
  {
   "attachments": {},
   "cell_type": "markdown",
   "metadata": {},
   "source": [
    "# Onnx to Circom"
   ]
  },
  {
   "attachments": {},
   "cell_type": "markdown",
   "metadata": {},
   "source": [
    "## Parameters extraction"
   ]
  },
  {
   "attachments": {},
   "cell_type": "markdown",
   "metadata": {},
   "source": [
    "### Onnx model"
   ]
  },
  {
   "cell_type": "code",
   "execution_count": 9,
   "metadata": {},
   "outputs": [
    {
     "ename": "NameError",
     "evalue": "name 'useful_operations' is not defined",
     "output_type": "error",
     "traceback": [
      "\u001b[1;31m---------------------------------------------------------------------------\u001b[0m",
      "\u001b[1;31mNameError\u001b[0m                                 Traceback (most recent call last)",
      "Cell \u001b[1;32mIn[9], line 14\u001b[0m\n\u001b[0;32m     12\u001b[0m \u001b[39mfor\u001b[39;00m node \u001b[39min\u001b[39;00m model\u001b[39m.\u001b[39mgraph\u001b[39m.\u001b[39mnode:\n\u001b[0;32m     13\u001b[0m     num\u001b[39m+\u001b[39m\u001b[39m=\u001b[39m\u001b[39m1\u001b[39m\n\u001b[1;32m---> 14\u001b[0m     \u001b[39mif\u001b[39;00m node\u001b[39m.\u001b[39mop_type \u001b[39min\u001b[39;00m useful_operations:\n\u001b[0;32m     15\u001b[0m         \u001b[39mbreak\u001b[39;00m\n",
      "\u001b[1;31mNameError\u001b[0m: name 'useful_operations' is not defined"
     ]
    }
   ],
   "source": [
    "import onnx\n",
    "import onnxruntime\n",
    "\n",
    "# Load the ONNX model\n",
    "model = onnx.load('model.onnx')\n",
    "\n",
    "# Create an inference session to compute the input size\n",
    "session = onnxruntime.InferenceSession('model.onnx')\n",
    "\n",
    "# Iterate over the nodes\n",
    "num = 0\n",
    "for node in model.graph.node:\n",
    "    num+=1\n",
    "    if node.op_type in useful_operations:\n",
    "        break"
   ]
  },
  {
   "attachments": {},
   "cell_type": "markdown",
   "metadata": {},
   "source": [
    "### Tensorflow model"
   ]
  },
  {
   "cell_type": "code",
   "execution_count": 8,
   "metadata": {},
   "outputs": [],
   "source": [
    "import tensorflow as tf\n",
    "\n",
    "# Create a simple model with a Dense layer\n",
    "model_tf = tf.keras.Sequential([\n",
    "    tf.keras.layers.Conv2D(filters=5, kernel_size=3, input_shape=(4, 10, 32)),\n",
    "    tf.keras.layers.BatchNormalization(),\n",
    "    tf.keras.layers.Conv2D(filters=30, kernel_size=2, ), \n",
    "    tf.keras.layers.BatchNormalization(),\n",
    "    tf.keras.layers.Dense(8, activation='relu', kernel_regularizer=tf.keras.regularizers.l2(0.01)),\n",
    "    tf.keras.layers.Dense(12, activation='relu'),\n",
    "    tf.keras.layers.Dense(4, activation='relu'),\n",
    "    #tf.keras.layers.AveragePooling2D(),\n",
    "    tf.keras.layers.MaxPooling2D(pool_size=(1, 1)),\n",
    "    #tf.keras.layers.GlobalMaxPool2D(),\n",
    "    #tf.keras.layers.GlobalAveragePooling2D(),\n",
    "    #tf.keras.layers.Flatten(name='layer_6'),\n",
    "    tf.keras.layers.Dense(4, activation='softmax'),\n",
    "])"
   ]
  },
  {
   "cell_type": "code",
   "execution_count": 158,
   "metadata": {},
   "outputs": [
    {
     "name": "stdout",
     "output_type": "stream",
     "text": [
      "Model: \"sequential_10\"\n",
      "_________________________________________________________________\n",
      " Layer (type)                Output Shape              Param #   \n",
      "=================================================================\n",
      " conv2d_13 (Conv2D)          (None, 2, 8, 5)           1445      \n",
      "                                                                 \n",
      " batch_normalization_18 (Bat  (None, 2, 8, 5)          20        \n",
      " chNormalization)                                                \n",
      "                                                                 \n",
      " conv2d_14 (Conv2D)          (None, 1, 7, 30)          630       \n",
      "                                                                 \n",
      " batch_normalization_19 (Bat  (None, 1, 7, 30)         120       \n",
      " chNormalization)                                                \n",
      "                                                                 \n",
      " dense_38 (Dense)            (None, 1, 7, 8)           248       \n",
      "                                                                 \n",
      " dense_39 (Dense)            (None, 1, 7, 12)          108       \n",
      "                                                                 \n",
      " dense_40 (Dense)            (None, 1, 7, 4)           52        \n",
      "                                                                 \n",
      " max_pooling2d_9 (MaxPooling  (None, 1, 7, 4)          0         \n",
      " 2D)                                                             \n",
      "                                                                 \n",
      " dense_41 (Dense)            (None, 1, 7, 4)           20        \n",
      "                                                                 \n",
      "=================================================================\n",
      "Total params: 2,643\n",
      "Trainable params: 2,573\n",
      "Non-trainable params: 70\n",
      "_________________________________________________________________\n"
     ]
    }
   ],
   "source": [
    "model_tf.summary()"
   ]
  },
  {
   "attachments": {},
   "cell_type": "markdown",
   "metadata": {},
   "source": [
    "#### First input shape"
   ]
  },
  {
   "cell_type": "code",
   "execution_count": 141,
   "metadata": {},
   "outputs": [
    {
     "name": "stdout",
     "output_type": "stream",
     "text": [
      "Input tensor name:  input\n",
      "Input tensor shape:  [0, 4, 10, 32]\n"
     ]
    }
   ],
   "source": [
    "# First input\n",
    "for input in model.graph.input:\n",
    "    print('Input tensor name: ', input.name)\n",
    "    print('Input tensor shape: ', [dim.dim_value for dim in input.type.tensor_type.shape.dim])"
   ]
  },
  {
   "cell_type": "code",
   "execution_count": 208,
   "metadata": {},
   "outputs": [],
   "source": [
    "node = model.graph.node[8]\n",
    "layer = model_tf.layers[0]"
   ]
  },
  {
   "attachments": {},
   "cell_type": "markdown",
   "metadata": {},
   "source": [
    "### Layer Traslation"
   ]
  },
  {
   "attachments": {},
   "cell_type": "markdown",
   "metadata": {},
   "source": [
    "#### Conv layer"
   ]
  },
  {
   "cell_type": "code",
   "execution_count": 10,
   "metadata": {},
   "outputs": [],
   "source": [
    "layer = model_tf.layers[0]\n",
    "node = model.graph.node[8]"
   ]
  },
  {
   "attachments": {},
   "cell_type": "markdown",
   "metadata": {},
   "source": [
    "##### Layer name"
   ]
  },
  {
   "cell_type": "code",
   "execution_count": 147,
   "metadata": {},
   "outputs": [
    {
     "data": {
      "text/plain": [
       "('conv2d_9', 'Conv')"
      ]
     },
     "execution_count": 147,
     "metadata": {},
     "output_type": "execute_result"
    }
   ],
   "source": [
    "layer.name, node.op_type"
   ]
  },
  {
   "attachments": {},
   "cell_type": "markdown",
   "metadata": {},
   "source": [
    "##### Input\n",
    "The input shape is the same of the previous layer's output shape or the first input calculated above"
   ]
  },
  {
   "cell_type": "code",
   "execution_count": 140,
   "metadata": {},
   "outputs": [
    {
     "data": {
      "text/plain": [
       "<KerasTensor: shape=(None, 4, 10, 32) dtype=float32 (created by layer 'conv2d_9_input')>"
      ]
     },
     "execution_count": 140,
     "metadata": {},
     "output_type": "execute_result"
    }
   ],
   "source": [
    "# It is the shape of the input tensor\n",
    "layer.input"
   ]
  },
  {
   "attachments": {},
   "cell_type": "markdown",
   "metadata": {},
   "source": [
    "##### Weights (Shape and values)\n",
    "To be given thanks to json file"
   ]
  },
  {
   "cell_type": "code",
   "execution_count": 160,
   "metadata": {},
   "outputs": [
    {
     "data": {
      "text/plain": [
       "TensorShape([3, 3, 32, 5])"
      ]
     },
     "execution_count": 160,
     "metadata": {},
     "output_type": "execute_result"
    }
   ],
   "source": [
    "layer.weights[0].shape\n",
    "\n",
    "#ONNX: load from json to security reasons"
   ]
  },
  {
   "attachments": {},
   "cell_type": "markdown",
   "metadata": {},
   "source": [
    "##### Bias (bias) (Shapes and values)\n",
    "To be given thanks to json file"
   ]
  },
  {
   "cell_type": "code",
   "execution_count": 183,
   "metadata": {},
   "outputs": [
    {
     "data": {
      "text/plain": [
       "TensorShape([5])"
      ]
     },
     "execution_count": 183,
     "metadata": {},
     "output_type": "execute_result"
    }
   ],
   "source": [
    "layer.weights[1].shape\n",
    "\n",
    "#ONNX: load from json to security reasons"
   ]
  },
  {
   "attachments": {},
   "cell_type": "markdown",
   "metadata": {},
   "source": [
    "##### Layer output\n",
    "To be calculated, in case of Conv layer:\n",
    "\n",
    "- H_out = [(H_in - F_height + 2 * Padding) / S_height] + 1\n",
    "\n",
    "- W_out = [(W_in - F_width + 2 * Padding) / S_width] + 1\n",
    "\n",
    "- C_out = Number of filters in the convolutional layer"
   ]
  },
  {
   "cell_type": "code",
   "execution_count": 184,
   "metadata": {},
   "outputs": [
    {
     "data": {
      "text/plain": [
       "<KerasTensor: shape=(None, 2, 8, 5) dtype=float32 (created by layer 'conv2d_13')>"
      ]
     },
     "execution_count": 184,
     "metadata": {},
     "output_type": "execute_result"
    }
   ],
   "source": [
    "layer.output #input: 4, 10, 32"
   ]
  },
  {
   "cell_type": "code",
   "execution_count": 189,
   "metadata": {},
   "outputs": [
    {
     "name": "stdout",
     "output_type": "stream",
     "text": [
      "Kernel shape:  [3, 3]\n"
     ]
    }
   ],
   "source": [
    "# (filter dim1, filter dim2, input channels, output channels)\n",
    "layer.get_weights()[0].shape, layer.padding"
   ]
  },
  {
   "cell_type": "code",
   "execution_count": 190,
   "metadata": {},
   "outputs": [
    {
     "name": "stdout",
     "output_type": "stream",
     "text": [
      "Kernel shape:  [3, 3]\n"
     ]
    }
   ],
   "source": [
    "# filter dim1, filter dim2\n",
    "for attribute in node.attribute:\n",
    "    if attribute.name == 'kernel_shape':\n",
    "        kernel_shape = attribute.ints[1]\n",
    "        print('Kernel shape: ', [kernel_shape, kernel_shape])"
   ]
  },
  {
   "attachments": {},
   "cell_type": "markdown",
   "metadata": {},
   "source": [
    "##### nRows"
   ]
  },
  {
   "cell_type": "code",
   "execution_count": 186,
   "metadata": {},
   "outputs": [
    {
     "data": {
      "text/plain": [
       "<KerasTensor: shape=(4, 10, 32) dtype=float32 (created by layer 'tf.__operators__.getitem_18')>"
      ]
     },
     "execution_count": 186,
     "metadata": {},
     "output_type": "execute_result"
    }
   ],
   "source": [
    "layer.input[0] # 4"
   ]
  },
  {
   "attachments": {},
   "cell_type": "markdown",
   "metadata": {},
   "source": [
    "##### nCol"
   ]
  },
  {
   "cell_type": "code",
   "execution_count": 146,
   "metadata": {},
   "outputs": [
    {
     "data": {
      "text/plain": [
       "<KerasTensor: shape=(4, 10, 32) dtype=float32 (created by layer 'tf.__operators__.getitem_16')>"
      ]
     },
     "execution_count": 146,
     "metadata": {},
     "output_type": "execute_result"
    }
   ],
   "source": [
    "layer.input[1] # 10"
   ]
  },
  {
   "attachments": {},
   "cell_type": "markdown",
   "metadata": {},
   "source": [
    "##### nChannels & nFilters"
   ]
  },
  {
   "cell_type": "code",
   "execution_count": 166,
   "metadata": {},
   "outputs": [
    {
     "data": {
      "text/plain": [
       "(5, 5)"
      ]
     },
     "execution_count": 166,
     "metadata": {},
     "output_type": "execute_result"
    }
   ],
   "source": [
    "# The number of channels is egual to the number of filters, \n",
    "# and it's egual to the number of dimensione 3 of wheits array\n",
    "layer.filters, layer.weights[0].shape[3]"
   ]
  },
  {
   "cell_type": "code",
   "execution_count": 169,
   "metadata": {},
   "outputs": [
    {
     "name": "stdout",
     "output_type": "stream",
     "text": [
      "Layer (node) name:  sequential/conv1d/Conv1D/Conv2D\n",
      "Number of filters:  5\n",
      "Layer (node) name:  sequential/conv2d/Conv2D\n",
      "Number of filters:  30\n"
     ]
    }
   ],
   "source": [
    "for node in model.graph.node:\n",
    "    if node.op_type == 'Conv':  # We found a convolutional layer\n",
    "        # Get the name of the weights tensor for this layer\n",
    "        weights_name = node.input[1]  # The weights tensor is usually the second input\n",
    "        # Now we look for this tensor in the initializers\n",
    "        for initializer in model.graph.initializer:\n",
    "            if initializer.name == weights_name:\n",
    "                # We found the weights tensor. Its shape gives us the number of filters\n",
    "                weights = numpy_helper.to_array(initializer)\n",
    "                print('Layer (node) name: ', node.name)\n",
    "                print('Number of filters: ', weights.shape[0])\n",
    "                break"
   ]
  },
  {
   "attachments": {},
   "cell_type": "markdown",
   "metadata": {},
   "source": [
    "##### KernelSize"
   ]
  },
  {
   "cell_type": "code",
   "execution_count": 171,
   "metadata": {},
   "outputs": [
    {
     "data": {
      "text/plain": [
       "(3, 3)"
      ]
     },
     "execution_count": 171,
     "metadata": {},
     "output_type": "execute_result"
    }
   ],
   "source": [
    "layer.kernel_size"
   ]
  },
  {
   "cell_type": "code",
   "execution_count": 179,
   "metadata": {},
   "outputs": [
    {
     "name": "stdout",
     "output_type": "stream",
     "text": [
      "Kernel shape:  [3, 3]\n"
     ]
    }
   ],
   "source": [
    "for attribute in node.attribute:\n",
    "    if attribute.name == 'kernel_shape':\n",
    "        kernel_shape = attribute.ints[1]\n",
    "        print('Kernel shape: ', [kernel_shape, kernel_shape])"
   ]
  },
  {
   "attachments": {},
   "cell_type": "markdown",
   "metadata": {},
   "source": [
    "##### Strides"
   ]
  },
  {
   "cell_type": "code",
   "execution_count": 182,
   "metadata": {},
   "outputs": [
    {
     "name": "stdout",
     "output_type": "stream",
     "text": [
      "Strides shape:  [1, 1]\n"
     ]
    }
   ],
   "source": [
    "for attribute in node.attribute:\n",
    "    if attribute.name == 'strides':\n",
    "        stride_shape = attribute.ints\n",
    "        print('Strides shape: ', stride_shape)"
   ]
  },
  {
   "attachments": {},
   "cell_type": "markdown",
   "metadata": {},
   "source": [
    "#### Circuit Conv Creation"
   ]
  },
  {
   "cell_type": "code",
   "execution_count": 1,
   "metadata": {},
   "outputs": [],
   "source": [
    "from keras2circom.keras2circom import circom\n",
    "from keras2circom.keras2circom.circom import Component, Circuit, Signal, Template\n",
    "import typing\n"
   ]
  },
  {
   "cell_type": "code",
   "execution_count": 2,
   "metadata": {},
   "outputs": [],
   "source": [
    "import os\n",
    "from os import path\n",
    "import re\n",
    "\n",
    "def dir_parse(dir_path, skips=[]):\n",
    "    '''parse circom files in a directory'''\n",
    "    names = os.listdir(dir_path)\n",
    "    for name in names:\n",
    "        if name in skips:\n",
    "            continue\n",
    "\n",
    "        fpath = path.join(dir_path, name)\n",
    "        if os.path.isdir(fpath):\n",
    "            dir_parse(fpath)\n",
    "        elif os.path.isfile(fpath):\n",
    "            if fpath.endswith('.circom'):\n",
    "                templates = file_parse(fpath)\n",
    "    print(templates)\n",
    "    return templates\n",
    "\n",
    "def file_parse(fpath):\n",
    "    '''parse circom file and register templates'''\n",
    "    with open(fpath, 'r') as f:\n",
    "        lines = f.read().split('\\n')\n",
    "\n",
    "    lines = [l for l in lines if not l.strip().startswith('//')]\n",
    "    lines = ' '.join(lines)\n",
    "\n",
    "    lines = re.sub('/\\*.*?\\*/', 'IGN', lines)\n",
    "\n",
    "    funcs = re.findall('template (\\w+) ?\\((.*?)\\) ?\\{(.*?)\\}', lines)\n",
    "    for func in funcs:\n",
    "        op_name = func[0].strip()\n",
    "        args = func[1].split(',')\n",
    "        main = func[2].strip()\n",
    "        assert op_name not in templates, \\\n",
    "            'duplicated template: {} in {} vs. {}'.format(\n",
    "                    op_name, templates[op_name].fpath, fpath)\n",
    "\n",
    "        signals = re.findall('signal (\\w+) (\\w+)(.*?);', main)\n",
    "        infos = [[] for i in range(4)]\n",
    "        for sig in signals:\n",
    "            sig_types = ['input', 'output']\n",
    "            assert sig[0] in sig_types, sig[1] + ' | ' + main\n",
    "            idx = sig_types.index(sig[0])\n",
    "            infos[idx*2+0].append(sig[1])\n",
    "\n",
    "            sig_dim = sig[2].count('[')\n",
    "            infos[idx*2+1].append(sig_dim)\n",
    "        templates[op_name] = Template(\n",
    "                op_name, fpath,\n",
    "                [a.strip() for a in args],\n",
    "                *infos)\n",
    "    return templates"
   ]
  },
  {
   "cell_type": "code",
   "execution_count": 3,
   "metadata": {},
   "outputs": [
    {
     "name": "stdout",
     "output_type": "stream",
     "text": [
      "{'ArgMax': Template(op_name='ArgMax', fpath='node_modules/circomlib-ml/circuits/ArgMax.circom', args=['n'], input_names=['in'], input_dims=[1], output_names=['out'], output_dims=[0]), 'AveragePooling2D': Template(op_name='AveragePooling2D', fpath='node_modules/circomlib-ml/circuits/AveragePooling2D.circom', args=['nRows', 'nCols', 'nChannels', 'poolSize', 'strides', 'scaledInvPoolSize'], input_names=['in'], input_dims=[3], output_names=['out'], output_dims=[3]), 'BatchNormalization2D': Template(op_name='BatchNormalization2D', fpath='node_modules/circomlib-ml/circuits/BatchNormalization2D.circom', args=['nRows', 'nCols', 'nChannels'], input_names=['in', 'a', 'b'], input_dims=[3, 1, 1], output_names=['out'], output_dims=[3]), 'Conv1D': Template(op_name='Conv1D', fpath='node_modules/circomlib-ml/circuits/Conv1D.circom', args=['nInputs', 'nChannels', 'nFilters', 'kernelSize', 'strides'], input_names=['in', 'weights', 'bias'], input_dims=[2, 3, 1], output_names=['out'], output_dims=[2]), 'Conv2D': Template(op_name='Conv2D', fpath='node_modules/circomlib-ml/circuits/Conv2D.circom', args=['nRows', 'nCols', 'nChannels', 'nFilters', 'kernelSize', 'strides'], input_names=['in', 'weights', 'bias'], input_dims=[3, 4, 1], output_names=['out'], output_dims=[3]), 'Dense': Template(op_name='Dense', fpath='node_modules/circomlib-ml/circuits/Dense.circom', args=['nInputs', 'nOutputs'], input_names=['in', 'weights', 'bias'], input_dims=[1, 2, 1], output_names=['out'], output_dims=[1]), 'Flatten2D': Template(op_name='Flatten2D', fpath='node_modules/circomlib-ml/circuits/Flatten2D.circom', args=['nRows', 'nCols', 'nChannels'], input_names=['in'], input_dims=[3], output_names=['out'], output_dims=[1]), 'GlobalAveragePooling2D': Template(op_name='GlobalAveragePooling2D', fpath='node_modules/circomlib-ml/circuits/GlobalAveragePooling2D.circom', args=['nRows', 'nCols', 'nChannels', 'scaledInv'], input_names=['in'], input_dims=[3], output_names=['out'], output_dims=[1]), 'GlobalMaxPooling2D': Template(op_name='GlobalMaxPooling2D', fpath='node_modules/circomlib-ml/circuits/GlobalMaxPooling2D.circom', args=['nRows', 'nCols', 'nChannels'], input_names=['in'], input_dims=[3], output_names=['out'], output_dims=[1]), 'GlobalSumPooling2D': Template(op_name='GlobalSumPooling2D', fpath='node_modules/circomlib-ml/circuits/GlobalSumPooling2D.circom', args=['nRows', 'nCols', 'nChannels'], input_names=['in'], input_dims=[3], output_names=['out'], output_dims=[1]), 'MaxPooling2D': Template(op_name='MaxPooling2D', fpath='node_modules/circomlib-ml/circuits/MaxPooling2D.circom', args=['nRows', 'nCols', 'nChannels', 'poolSize', 'strides'], input_names=['in'], input_dims=[3], output_names=['out'], output_dims=[3]), 'Poly': Template(op_name='Poly', fpath='node_modules/circomlib-ml/circuits/Poly.circom', args=['n'], input_names=['in'], input_dims=[0], output_names=['out'], output_dims=[0]), 'ReLU': Template(op_name='ReLU', fpath='node_modules/circomlib-ml/circuits/ReLU.circom', args=[''], input_names=['in'], input_dims=[0], output_names=['out'], output_dims=[0]), 'SumPooling2D': Template(op_name='SumPooling2D', fpath='node_modules/circomlib-ml/circuits/SumPooling2D.circom', args=['nRows', 'nCols', 'nChannels', 'poolSize', 'strides'], input_names=['in'], input_dims=[3], output_names=['out'], output_dims=[3])}\n"
     ]
    }
   ],
   "source": [
    "templates = {}\n",
    "templates = dir_parse('node_modules/circomlib-ml/circuits/', skips=['util.circom', 'circomlib-matrix', 'circomlib', 'crypto'])"
   ]
  },
  {
   "cell_type": "code",
   "execution_count": 4,
   "metadata": {},
   "outputs": [],
   "source": [
    "import numpy as np\n",
    "array = (np.random.random(1458) * 255).astype(np.uint8)"
   ]
  },
  {
   "attachments": {},
   "cell_type": "markdown",
   "metadata": {},
   "source": []
  },
  {
   "cell_type": "code",
   "execution_count": 5,
   "metadata": {},
   "outputs": [
    {
     "name": "stdout",
     "output_type": "stream",
     "text": [
      "[49, 191, 121, 157, 152, 181, 133, 47, 204, 128, 132, 85, 161, 16, 51, 18, 62, 105, 233, 208, 30, 183, 108, 143, 71, 144, 171, 39, 171, 103, 125, 39, 73, 117, 156, 161, 208, 161, 215, 62, 127, 230, 145, 244, 27, 63, 248, 106, 199, 10, 6, 208, 68, 138, 173, 86, 233, 177, 221, 109, 190, 143, 246, 186, 65, 180, 125, 108, 177, 217, 46, 144, 162, 57, 91, 121, 147, 29, 133, 59, 87, 158, 110, 6, 154, 222, 245, 97, 82, 70, 230, 108, 19, 165, 123, 139, 142, 80, 19, 222, 69, 155, 97, 128, 197, 203, 145, 207, 176, 159, 79, 79, 202, 15, 219, 128, 182, 22, 222, 127, 18, 181, 101, 159, 55, 161, 225, 192, 197, 180, 207, 207, 69, 65, 129, 74, 163, 4, 239, 83, 181, 208, 48, 104, 61, 99, 133, 141, 180, 237, 248, 57, 85, 180, 3, 100, 65, 186, 214, 228, 241, 7, 157, 191, 44, 213, 182, 229, 217, 58, 247, 69, 149, 62, 23, 167, 93, 25, 94, 22, 61, 6, 192, 56, 17, 54, 218, 226, 26, 236, 200, 108, 243, 32, 131, 233, 183, 222, 208, 88, 235, 85, 27, 59, 152, 139, 167, 103, 207, 94, 122, 68, 145, 1, 18, 13, 63, 208, 37, 237, 71, 219, 61, 217, 238, 221, 145, 233, 186, 242, 133, 217, 185, 15, 229, 216, 134, 88, 40, 179, 181, 187, 183, 115, 199, 92, 237, 97, 49, 107, 250, 55, 253, 164, 147, 213, 94, 12, 94, 115, 93, 14, 162, 70, 134, 186, 31, 88, 236, 204, 218, 163, 147, 170, 197, 250, 38, 187, 234, 217, 160, 159, 118, 31, 157, 134, 204, 141, 165, 126, 228, 15, 94, 186, 167, 181, 198, 56, 170, 74, 28, 12, 47, 244, 107, 28, 166, 36, 100, 238, 197, 240, 67, 5, 247, 50, 205, 33, 79, 81, 132, 70, 128, 164, 246, 58, 230, 235, 171, 254, 223, 13, 38, 71, 177, 20, 108, 18, 164, 237, 118, 27, 12, 206, 169, 204, 38, 13, 133, 124, 94, 120, 55, 217, 79, 19, 54, 2, 78, 62, 172, 180, 126, 43, 1, 184, 35, 52, 167, 229, 121, 139, 199, 200, 177, 79, 36, 155, 66, 111, 159, 132, 42, 111, 181, 219, 226, 97, 34, 14, 97, 31, 184, 84, 167, 250, 180, 211, 182, 153, 183, 224, 62, 80, 193, 113, 188, 97, 24, 115, 106, 143, 185, 123, 111, 158, 31, 235, 152, 10, 142, 24, 248, 21, 217, 237, 246, 25, 199, 145, 32, 43, 46, 171, 118, 224, 253, 236, 229, 167, 199, 181, 134, 161, 101, 38, 43, 231, 243, 158, 16, 191, 79, 57, 11, 233, 113, 21, 170, 214, 12, 182, 147, 239, 227, 110, 240, 57, 213, 179, 235, 171, 125, 171, 0, 233, 20, 1, 151, 31, 12, 92, 153, 234, 213, 154, 243, 227, 248, 106, 48, 101, 149, 102, 57, 204, 108, 231, 106, 40, 11, 21, 134, 194, 67, 5, 139, 33, 45, 183, 17, 173, 26, 198, 221, 57, 19, 27, 216, 65, 148, 6, 243, 67, 243, 143, 1, 150, 167, 218, 16, 74, 5, 223, 139, 192, 155, 215, 190, 211, 194, 42, 211, 164, 15, 199, 215, 197, 237, 235, 197, 142, 253, 52, 113, 167, 218, 76, 144, 11, 154, 86, 55, 60, 147, 77, 101, 71, 83, 159, 70, 189, 134, 116, 11, 105, 228, 161, 77, 181, 145, 193, 210, 2, 210, 115, 87, 32, 221, 105, 199, 87, 84, 173, 139, 172, 91, 78, 187, 244, 44, 149, 184, 236, 239, 98, 131, 186, 178, 208, 163, 4, 123, 89, 93, 127, 76, 23, 223, 119, 93, 149, 24, 172, 79, 192, 131, 245, 115, 38, 241, 143, 225, 105, 24, 31, 109, 121, 80, 177, 246, 88, 86, 214, 164, 244, 43, 127, 30, 48, 179, 176, 140, 80, 199, 124, 2, 219, 120, 128, 105, 52, 201, 191, 33, 14, 133, 73, 25, 21, 243, 171, 71, 187, 87, 238, 2, 17, 95, 10, 97, 88, 201, 131, 159, 79, 89, 10, 106, 27, 128, 197, 239, 138, 52, 177, 62, 189, 239, 53, 24, 216, 228, 163, 41, 66, 58, 35, 142, 184, 90, 164, 202, 13, 195, 136, 173, 201, 157, 10, 232, 18, 83, 138, 179, 16, 187, 122, 38, 225, 133, 234, 82, 55, 118, 83, 83, 141, 60, 23, 224, 231, 131, 103, 209, 19, 146, 145, 119, 59, 225, 162, 138, 184, 93, 114, 116, 75, 4, 33, 60, 66, 2, 228, 29, 212, 181, 167, 171, 186, 197, 72, 84, 3, 154, 183, 227, 244, 160, 253, 168, 119, 158, 108, 78, 76, 128, 92, 236, 87, 16, 92, 78, 133, 92, 15, 124, 161, 18, 84, 216, 173, 83, 162, 73, 2, 4, 208, 85, 53, 1, 169, 90, 87, 126, 76, 36, 194, 11, 253, 244, 97, 24, 9, 194, 39, 13, 44, 162, 93, 183, 182, 157, 232, 7, 197, 33, 233, 107, 106, 12, 3, 4, 25, 52, 173, 144, 173, 22, 246, 161, 73, 219, 182, 48, 119, 207, 80, 217, 251, 30, 30, 245, 214, 196, 189, 152, 142, 120, 175, 61, 82, 209, 229, 59, 173, 208, 121, 116, 83, 93, 29, 108, 140, 113, 97, 220, 63, 126, 100, 80, 123, 55, 194, 19, 81, 207, 39, 38, 76, 85, 21, 155, 25, 63, 157, 190, 0, 196, 160, 124, 77, 0, 158, 66, 134, 164, 128, 74, 156, 148, 220, 205, 55, 141, 149, 112, 46, 35, 230, 98, 251, 118, 59, 99, 113, 86, 93, 39, 142, 29, 244, 150, 201, 201, 193, 182, 156, 133, 35, 7, 228, 140, 62, 239, 165, 80, 75, 105, 209, 176, 55, 220, 107, 204, 214, 168, 121, 146, 68, 36, 203, 146, 99, 135, 61, 147, 8, 141, 241, 169, 34, 188, 192, 131, 233, 92, 52, 62, 29, 81, 65, 165, 131, 47, 7, 0, 97, 169, 239, 191, 228, 161, 136, 221, 75, 140, 84, 152, 232, 159, 1, 43, 119, 12, 91, 25, 39, 72, 92, 98, 169, 50, 180, 254, 184, 150, 137, 27, 253, 55, 72, 153, 183, 116, 9, 186, 151, 147, 102, 222, 180, 149, 156, 118, 197, 254, 20, 19, 115, 125, 37, 91, 213, 104, 220, 224, 145, 138, 83, 27, 94, 121, 204, 16, 128, 198, 196, 113, 212, 25, 137, 116, 103, 93, 29, 112, 75, 65, 63, 94, 75, 175, 137, 186, 151, 41, 249, 52, 149, 54, 223, 18, 8, 35, 160, 102, 49, 135, 239, 36, 112, 217, 122, 168, 104, 204, 205, 61, 169, 155, 221, 114, 144, 138, 163, 40, 82, 226, 169, 231, 15, 4, 137, 138, 122, 177, 132, 168, 15, 44, 2, 61, 99, 224, 59, 36, 196, 143, 78, 48, 157, 136, 51, 116, 102, 142, 220, 221, 122, 81, 157, 155, 51, 3, 43, 8, 80, 129, 132, 182, 160, 80, 100, 20, 246, 150, 254, 57, 155, 119, 97, 60, 154, 227, 149, 88, 172, 127, 187, 114, 235, 77, 194, 116, 252, 57, 102, 205, 34, 94, 18, 84, 52, 131, 241, 81, 121, 35, 100, 145, 221, 39, 250, 15, 17, 252, 106, 150, 111, 113, 93, 106, 58, 107, 77, 124, 97, 24, 110, 103, 36, 152, 40, 146, 206, 213, 136, 3, 100, 222, 218, 79, 86, 123, 96, 81, 249, 4, 181, 74, 160, 219, 1, 187, 247, 174, 205, 250, 90, 79, 75, 225, 135, 75, 77, 14, 117, 40, 94, 48, 148, 4, 130, 36, 56, 251, 206, 171, 58, 211, 179, 245, 59, 88, 151, 184, 161, 41, 110, 33, 161, 212, 235, 140, 48, 140, 71, 5, 246, 194, 202, 39, 165, 28, 133, 253, 226, 113, 88, 199, 33, 220, 110, 36, 249, 24, 55, 163, 245, 172, 170, 103, 105, 68, 106, 200, 129, 156, 107, 34, 76, 220, 49, 222, 226, 123, 80, 175, 171, 254, 94, 10, 242, 48, 8, 221, 228, 25, 97, 48, 235, 104, 80, 94, 99, 175, 182, 67, 36, 74, 16, 108, 24, 11, 147, 129, 28, 126, 113, 227, 114, 177, 176, 104, 165, 21, 60, 119, 215, 28, 19, 10, 128, 61, 8, 81, 239, 146, 89, 196, 197, 134, 128, 218, 16, 204, 171, 158, 101, 62, 239, 62, 3, 111, 33, 208, 58, 107, 169, 99, 21, 82, 200, 196, 119, 143, 157, 56, 96, 115, 246, 18, 180, 204, 105, 204, 197, 12, 167, 228, 33, 109, 205, 114, 170, 184, 31, 103, 196, 147, 237, 160, 42, 121, 73, 94, 144, 98, 195, 194, 210, 213, 92, 43, 149, 97, 92, 249, 122, 8, 151, 157, 17, 194, 42, 49, 87, ]\n"
     ]
    }
   ],
   "source": [
    "print(\"[\", end=\"\")\n",
    "for i in array.flatten():\n",
    "    print(str(i)+ \",\",  end=\" \")\n",
    "print(\"]\")"
   ]
  },
  {
   "cell_type": "code",
   "execution_count": 28,
   "metadata": {},
   "outputs": [
    {
     "data": {
      "text/plain": [
       "<KerasTensor: shape=(None, 4, 10, 32) dtype=float32 (created by layer 'conv2d_input')>"
      ]
     },
     "execution_count": 28,
     "metadata": {},
     "output_type": "execute_result"
    }
   ],
   "source": [
    "layer.input"
   ]
  },
  {
   "cell_type": "code",
   "execution_count": 37,
   "metadata": {},
   "outputs": [],
   "source": [
    "conv = Component(layer.name, templates['Conv2D'], [\n",
    "    Signal('in', layer.input[1]),\n",
    "    Signal('weights', layer.weights[0].shape, layer.weights[0]),\n",
    "    Signal('bias', layer.weights[1].shape, layer.weights[1]),\n",
    "    ],[Signal('out', layer.output)],{\n",
    "    'nRows': layer.input[0],\n",
    "    'nCols': layer.input[1],\n",
    "    'nChannels': layer.input[2],\n",
    "    'nFilters': layer.filters,\n",
    "    'kernelSize': layer.kernel_size,\n",
    "    'strides': layer.strides,\n",
    "    })\n"
   ]
  },
  {
   "cell_type": "code",
   "execution_count": 36,
   "metadata": {},
   "outputs": [
    {
     "data": {
      "text/plain": [
       "<KerasTensor: shape=(None, 4, 10, 32) dtype=float32 (created by layer 'conv2d_input')>"
      ]
     },
     "execution_count": 36,
     "metadata": {},
     "output_type": "execute_result"
    }
   ],
   "source": [
    "layer.input"
   ]
  },
  {
   "cell_type": "code",
   "execution_count": 38,
   "metadata": {},
   "outputs": [],
   "source": [
    "circuit = Circuit()\n",
    "circuit.add_components([conv])"
   ]
  },
  {
   "cell_type": "code",
   "execution_count": 45,
   "metadata": {},
   "outputs": [
    {
     "data": {
      "text/plain": [
       "keras.engine.keras_tensor.KerasTensor"
      ]
     },
     "execution_count": 45,
     "metadata": {},
     "output_type": "execute_result"
    }
   ],
   "source": [
    "type(layer.output)"
   ]
  },
  {
   "cell_type": "code",
   "execution_count": 50,
   "metadata": {},
   "outputs": [
    {
     "ename": "AttributeError",
     "evalue": "'tensorflow.python.framework.ops.EagerTensor' object has no attribute 'round'",
     "output_type": "error",
     "traceback": [
      "\u001b[1;31m---------------------------------------------------------------------------\u001b[0m",
      "\u001b[1;31mAttributeError\u001b[0m                            Traceback (most recent call last)",
      "Cell \u001b[1;32mIn[50], line 1\u001b[0m\n\u001b[1;32m----> 1\u001b[0m circuit\u001b[39m.\u001b[39;49mto_json()\n",
      "File \u001b[1;32mc:\\Progetto_Ing_Informatica\\Research_Project\\keras2circom\\keras2circom\\circom.py:387\u001b[0m, in \u001b[0;36mCircuit.to_json\u001b[1;34m(self)\u001b[0m\n\u001b[0;32m    384\u001b[0m json_dict \u001b[39m=\u001b[39m {}\n\u001b[0;32m    386\u001b[0m \u001b[39mfor\u001b[39;00m component \u001b[39min\u001b[39;00m \u001b[39mself\u001b[39m\u001b[39m.\u001b[39mcomponents:\n\u001b[1;32m--> 387\u001b[0m     json_dict\u001b[39m.\u001b[39mupdate(component\u001b[39m.\u001b[39;49mto_json(weight_scale, current_scale))\n\u001b[0;32m    388\u001b[0m     current_scale \u001b[39m=\u001b[39m component\u001b[39m.\u001b[39mcalc_bias_scale(weight_scale, current_scale)\n\u001b[0;32m    389\u001b[0m     \u001b[39m# print(component.name, current_scale)\u001b[39;00m\n",
      "File \u001b[1;32mc:\\Progetto_Ing_Informatica\\Research_Project\\keras2circom\\keras2circom\\circom.py:310\u001b[0m, in \u001b[0;36mComponent.to_json\u001b[1;34m(self, weight_scale, current_scale)\u001b[0m\n\u001b[0;32m    308\u001b[0m             json_dict\u001b[39m.\u001b[39mupdate({\u001b[39mf\u001b[39m\u001b[39m'\u001b[39m\u001b[39m{\u001b[39;00m\u001b[39mself\u001b[39m\u001b[39m.\u001b[39mname\u001b[39m}\u001b[39;00m\u001b[39m_\u001b[39m\u001b[39m{\u001b[39;00msignal\u001b[39m.\u001b[39mname\u001b[39m}\u001b[39;00m\u001b[39m'\u001b[39m: \u001b[39mlist\u001b[39m(\u001b[39mmap\u001b[39m(\u001b[39m'\u001b[39m\u001b[39m{:.0f}\u001b[39;00m\u001b[39m'\u001b[39m\u001b[39m.\u001b[39mformat, (signal\u001b[39m.\u001b[39mvalue\u001b[39m*\u001b[39m\u001b[39mself\u001b[39m\u001b[39m.\u001b[39mbias_scale)\u001b[39m.\u001b[39mround()\u001b[39m.\u001b[39mflatten()\u001b[39m.\u001b[39mtolist()))})\n\u001b[0;32m    309\u001b[0m         \u001b[39melse\u001b[39;00m:\n\u001b[1;32m--> 310\u001b[0m             json_dict\u001b[39m.\u001b[39mupdate({\u001b[39mf\u001b[39m\u001b[39m'\u001b[39m\u001b[39m{\u001b[39;00m\u001b[39mself\u001b[39m\u001b[39m.\u001b[39mname\u001b[39m}\u001b[39;00m\u001b[39m_\u001b[39m\u001b[39m{\u001b[39;00msignal\u001b[39m.\u001b[39mname\u001b[39m}\u001b[39;00m\u001b[39m'\u001b[39m: \u001b[39mlist\u001b[39m(\u001b[39mmap\u001b[39m(\u001b[39m'\u001b[39m\u001b[39m{:.0f}\u001b[39;00m\u001b[39m'\u001b[39m\u001b[39m.\u001b[39mformat, (signal\u001b[39m.\u001b[39;49mvalue\u001b[39m*\u001b[39;49m\u001b[39mself\u001b[39;49m\u001b[39m.\u001b[39;49mweight_scale)\u001b[39m.\u001b[39;49mround()\u001b[39m.\u001b[39mflatten()\u001b[39m.\u001b[39mtolist()))})\n\u001b[0;32m    311\u001b[0m \u001b[39mreturn\u001b[39;00m json_dict\n",
      "File \u001b[1;32mc:\\Users\\valer\\anaconda3\\envs\\ZKP\\lib\\site-packages\\tensorflow\\python\\framework\\ops.py:446\u001b[0m, in \u001b[0;36mTensor.__getattr__\u001b[1;34m(self, name)\u001b[0m\n\u001b[0;32m    437\u001b[0m \u001b[39mif\u001b[39;00m name \u001b[39min\u001b[39;00m {\u001b[39m\"\u001b[39m\u001b[39mT\u001b[39m\u001b[39m\"\u001b[39m, \u001b[39m\"\u001b[39m\u001b[39mastype\u001b[39m\u001b[39m\"\u001b[39m, \u001b[39m\"\u001b[39m\u001b[39mravel\u001b[39m\u001b[39m\"\u001b[39m, \u001b[39m\"\u001b[39m\u001b[39mtranspose\u001b[39m\u001b[39m\"\u001b[39m, \u001b[39m\"\u001b[39m\u001b[39mreshape\u001b[39m\u001b[39m\"\u001b[39m, \u001b[39m\"\u001b[39m\u001b[39mclip\u001b[39m\u001b[39m\"\u001b[39m, \u001b[39m\"\u001b[39m\u001b[39msize\u001b[39m\u001b[39m\"\u001b[39m,\n\u001b[0;32m    438\u001b[0m             \u001b[39m\"\u001b[39m\u001b[39mtolist\u001b[39m\u001b[39m\"\u001b[39m, \u001b[39m\"\u001b[39m\u001b[39mdata\u001b[39m\u001b[39m\"\u001b[39m}:\n\u001b[0;32m    439\u001b[0m   \u001b[39m# TODO(wangpeng): Export the enable_numpy_behavior knob\u001b[39;00m\n\u001b[0;32m    440\u001b[0m   \u001b[39mraise\u001b[39;00m \u001b[39mAttributeError\u001b[39;00m(\n\u001b[0;32m    441\u001b[0m       \u001b[39mf\u001b[39m\u001b[39m\"\u001b[39m\u001b[39m{\u001b[39;00m\u001b[39mtype\u001b[39m(\u001b[39mself\u001b[39m)\u001b[39m.\u001b[39m\u001b[39m__name__\u001b[39m\u001b[39m}\u001b[39;00m\u001b[39m object has no attribute \u001b[39m\u001b[39m'\u001b[39m\u001b[39m{\u001b[39;00mname\u001b[39m}\u001b[39;00m\u001b[39m'\u001b[39m\u001b[39m. \u001b[39m\u001b[39m\"\u001b[39m \u001b[39m+\u001b[39m \u001b[39m\"\"\"\u001b[39m\n\u001b[0;32m    442\u001b[0m \u001b[39m    If you are looking for numpy-related methods, please run the following:\u001b[39m\n\u001b[0;32m    443\u001b[0m \u001b[39m    from tensorflow.python.ops.numpy_ops import np_config\u001b[39m\n\u001b[0;32m    444\u001b[0m \u001b[39m    np_config.enable_numpy_behavior()\u001b[39m\n\u001b[0;32m    445\u001b[0m \u001b[39m  \u001b[39m\u001b[39m\"\"\"\u001b[39m)\n\u001b[1;32m--> 446\u001b[0m \u001b[39mself\u001b[39;49m\u001b[39m.\u001b[39;49m\u001b[39m__getattribute__\u001b[39;49m(name)\n",
      "\u001b[1;31mAttributeError\u001b[0m: 'tensorflow.python.framework.ops.EagerTensor' object has no attribute 'round'"
     ]
    }
   ],
   "source": [
    "circuit.to_json()"
   ]
  },
  {
   "cell_type": "code",
   "execution_count": 24,
   "metadata": {},
   "outputs": [
    {
     "ename": "AttributeError",
     "evalue": "'tensorflow.python.framework.ops.EagerTensor' object has no attribute 'round'",
     "output_type": "error",
     "traceback": [
      "\u001b[1;31m---------------------------------------------------------------------------\u001b[0m",
      "\u001b[1;31mAttributeError\u001b[0m                            Traceback (most recent call last)",
      "Cell \u001b[1;32mIn[24], line 2\u001b[0m\n\u001b[0;32m      1\u001b[0m \u001b[39mwith\u001b[39;00m \u001b[39mopen\u001b[39m(\u001b[39m'\u001b[39m\u001b[39m./circuit_conv.json\u001b[39m\u001b[39m'\u001b[39m, \u001b[39m'\u001b[39m\u001b[39mw\u001b[39m\u001b[39m'\u001b[39m) \u001b[39mas\u001b[39;00m f:\n\u001b[1;32m----> 2\u001b[0m     f\u001b[39m.\u001b[39mwrite(circuit\u001b[39m.\u001b[39;49mto_json())\n",
      "File \u001b[1;32mc:\\Progetto_Ing_Informatica\\Research_Project\\keras2circom\\keras2circom\\circom.py:387\u001b[0m, in \u001b[0;36mCircuit.to_json\u001b[1;34m(self)\u001b[0m\n\u001b[0;32m    384\u001b[0m json_dict \u001b[39m=\u001b[39m {}\n\u001b[0;32m    386\u001b[0m \u001b[39mfor\u001b[39;00m component \u001b[39min\u001b[39;00m \u001b[39mself\u001b[39m\u001b[39m.\u001b[39mcomponents:\n\u001b[1;32m--> 387\u001b[0m     json_dict\u001b[39m.\u001b[39mupdate(component\u001b[39m.\u001b[39;49mto_json(weight_scale, current_scale))\n\u001b[0;32m    388\u001b[0m     current_scale \u001b[39m=\u001b[39m component\u001b[39m.\u001b[39mcalc_bias_scale(weight_scale, current_scale)\n\u001b[0;32m    389\u001b[0m     \u001b[39m# print(component.name, current_scale)\u001b[39;00m\n",
      "File \u001b[1;32mc:\\Progetto_Ing_Informatica\\Research_Project\\keras2circom\\keras2circom\\circom.py:310\u001b[0m, in \u001b[0;36mComponent.to_json\u001b[1;34m(self, weight_scale, current_scale)\u001b[0m\n\u001b[0;32m    308\u001b[0m             json_dict\u001b[39m.\u001b[39mupdate({\u001b[39mf\u001b[39m\u001b[39m'\u001b[39m\u001b[39m{\u001b[39;00m\u001b[39mself\u001b[39m\u001b[39m.\u001b[39mname\u001b[39m}\u001b[39;00m\u001b[39m_\u001b[39m\u001b[39m{\u001b[39;00msignal\u001b[39m.\u001b[39mname\u001b[39m}\u001b[39;00m\u001b[39m'\u001b[39m: \u001b[39mlist\u001b[39m(\u001b[39mmap\u001b[39m(\u001b[39m'\u001b[39m\u001b[39m{:.0f}\u001b[39;00m\u001b[39m'\u001b[39m\u001b[39m.\u001b[39mformat, (signal\u001b[39m.\u001b[39mvalue\u001b[39m*\u001b[39m\u001b[39mself\u001b[39m\u001b[39m.\u001b[39mbias_scale)\u001b[39m.\u001b[39mround()\u001b[39m.\u001b[39mflatten()\u001b[39m.\u001b[39mtolist()))})\n\u001b[0;32m    309\u001b[0m         \u001b[39melse\u001b[39;00m:\n\u001b[1;32m--> 310\u001b[0m             json_dict\u001b[39m.\u001b[39mupdate({\u001b[39mf\u001b[39m\u001b[39m'\u001b[39m\u001b[39m{\u001b[39;00m\u001b[39mself\u001b[39m\u001b[39m.\u001b[39mname\u001b[39m}\u001b[39;00m\u001b[39m_\u001b[39m\u001b[39m{\u001b[39;00msignal\u001b[39m.\u001b[39mname\u001b[39m}\u001b[39;00m\u001b[39m'\u001b[39m: \u001b[39mlist\u001b[39m(\u001b[39mmap\u001b[39m(\u001b[39m'\u001b[39m\u001b[39m{:.0f}\u001b[39;00m\u001b[39m'\u001b[39m\u001b[39m.\u001b[39mformat, (signal\u001b[39m.\u001b[39;49mvalue\u001b[39m*\u001b[39;49m\u001b[39mself\u001b[39;49m\u001b[39m.\u001b[39;49mweight_scale)\u001b[39m.\u001b[39;49mround()\u001b[39m.\u001b[39mflatten()\u001b[39m.\u001b[39mtolist()))})\n\u001b[0;32m    311\u001b[0m \u001b[39mreturn\u001b[39;00m json_dict\n",
      "File \u001b[1;32mc:\\Users\\valer\\anaconda3\\envs\\ZKP\\lib\\site-packages\\tensorflow\\python\\framework\\ops.py:446\u001b[0m, in \u001b[0;36mTensor.__getattr__\u001b[1;34m(self, name)\u001b[0m\n\u001b[0;32m    437\u001b[0m \u001b[39mif\u001b[39;00m name \u001b[39min\u001b[39;00m {\u001b[39m\"\u001b[39m\u001b[39mT\u001b[39m\u001b[39m\"\u001b[39m, \u001b[39m\"\u001b[39m\u001b[39mastype\u001b[39m\u001b[39m\"\u001b[39m, \u001b[39m\"\u001b[39m\u001b[39mravel\u001b[39m\u001b[39m\"\u001b[39m, \u001b[39m\"\u001b[39m\u001b[39mtranspose\u001b[39m\u001b[39m\"\u001b[39m, \u001b[39m\"\u001b[39m\u001b[39mreshape\u001b[39m\u001b[39m\"\u001b[39m, \u001b[39m\"\u001b[39m\u001b[39mclip\u001b[39m\u001b[39m\"\u001b[39m, \u001b[39m\"\u001b[39m\u001b[39msize\u001b[39m\u001b[39m\"\u001b[39m,\n\u001b[0;32m    438\u001b[0m             \u001b[39m\"\u001b[39m\u001b[39mtolist\u001b[39m\u001b[39m\"\u001b[39m, \u001b[39m\"\u001b[39m\u001b[39mdata\u001b[39m\u001b[39m\"\u001b[39m}:\n\u001b[0;32m    439\u001b[0m   \u001b[39m# TODO(wangpeng): Export the enable_numpy_behavior knob\u001b[39;00m\n\u001b[0;32m    440\u001b[0m   \u001b[39mraise\u001b[39;00m \u001b[39mAttributeError\u001b[39;00m(\n\u001b[0;32m    441\u001b[0m       \u001b[39mf\u001b[39m\u001b[39m\"\u001b[39m\u001b[39m{\u001b[39;00m\u001b[39mtype\u001b[39m(\u001b[39mself\u001b[39m)\u001b[39m.\u001b[39m\u001b[39m__name__\u001b[39m\u001b[39m}\u001b[39;00m\u001b[39m object has no attribute \u001b[39m\u001b[39m'\u001b[39m\u001b[39m{\u001b[39;00mname\u001b[39m}\u001b[39;00m\u001b[39m'\u001b[39m\u001b[39m. \u001b[39m\u001b[39m\"\u001b[39m \u001b[39m+\u001b[39m \u001b[39m\"\"\"\u001b[39m\n\u001b[0;32m    442\u001b[0m \u001b[39m    If you are looking for numpy-related methods, please run the following:\u001b[39m\n\u001b[0;32m    443\u001b[0m \u001b[39m    from tensorflow.python.ops.numpy_ops import np_config\u001b[39m\n\u001b[0;32m    444\u001b[0m \u001b[39m    np_config.enable_numpy_behavior()\u001b[39m\n\u001b[0;32m    445\u001b[0m \u001b[39m  \u001b[39m\u001b[39m\"\"\"\u001b[39m)\n\u001b[1;32m--> 446\u001b[0m \u001b[39mself\u001b[39;49m\u001b[39m.\u001b[39;49m\u001b[39m__getattribute__\u001b[39;49m(name)\n",
      "\u001b[1;31mAttributeError\u001b[0m: 'tensorflow.python.framework.ops.EagerTensor' object has no attribute 'round'"
     ]
    }
   ],
   "source": [
    "with open('./circuit_conv.json', 'w') as f:\n",
    "    f.write(circuit.to_json())"
   ]
  },
  {
   "cell_type": "code",
   "execution_count": 25,
   "metadata": {},
   "outputs": [
    {
     "ename": "TypeError",
     "evalue": "Cannot iterate over a Tensor with unknown first dimension.",
     "output_type": "error",
     "traceback": [
      "\u001b[1;31m---------------------------------------------------------------------------\u001b[0m",
      "\u001b[1;31mTypeError\u001b[0m                                 Traceback (most recent call last)",
      "Cell \u001b[1;32mIn[25], line 2\u001b[0m\n\u001b[0;32m      1\u001b[0m \u001b[39mwith\u001b[39;00m \u001b[39mopen\u001b[39m(\u001b[39m'\u001b[39m\u001b[39m./circuit_conv.circom\u001b[39m\u001b[39m'\u001b[39m, \u001b[39m'\u001b[39m\u001b[39mw\u001b[39m\u001b[39m'\u001b[39m) \u001b[39mas\u001b[39;00m f:\n\u001b[1;32m----> 2\u001b[0m     f\u001b[39m.\u001b[39mwrite(circuit\u001b[39m.\u001b[39;49mto_circom())\n",
      "File \u001b[1;32mc:\\Progetto_Ing_Informatica\\Research_Project\\keras2circom\\keras2circom\\circom.py:373\u001b[0m, in \u001b[0;36mCircuit.to_circom\u001b[1;34m(self)\u001b[0m\n\u001b[0;32m    368\u001b[0m \u001b[39mdef\u001b[39;00m \u001b[39mto_circom\u001b[39m(\u001b[39mself\u001b[39m) \u001b[39m-\u001b[39m\u001b[39m>\u001b[39m \u001b[39mstr\u001b[39m:\n\u001b[0;32m    369\u001b[0m \u001b[39m    \u001b[39m\u001b[39m'''convert the circuit to a circom file'''\u001b[39;00m\n\u001b[0;32m    370\u001b[0m     \u001b[39mreturn\u001b[39;00m circom_template_string\u001b[39m.\u001b[39mformat(\u001b[39m*\u001b[39m\u001b[39m*\u001b[39m{\n\u001b[0;32m    371\u001b[0m         \u001b[39m'\u001b[39m\u001b[39minclude\u001b[39m\u001b[39m'\u001b[39m: \u001b[39mself\u001b[39m\u001b[39m.\u001b[39minject_include(),\n\u001b[0;32m    372\u001b[0m         \u001b[39m'\u001b[39m\u001b[39mbrace_left\u001b[39m\u001b[39m'\u001b[39m: \u001b[39m'\u001b[39m\u001b[39m{\u001b[39m\u001b[39m'\u001b[39m,\n\u001b[1;32m--> 373\u001b[0m         \u001b[39m'\u001b[39m\u001b[39msignal\u001b[39m\u001b[39m'\u001b[39m: \u001b[39mself\u001b[39;49m\u001b[39m.\u001b[39;49minject_signal(),\n\u001b[0;32m    374\u001b[0m         \u001b[39m'\u001b[39m\u001b[39mcomponent\u001b[39m\u001b[39m'\u001b[39m: \u001b[39mself\u001b[39m\u001b[39m.\u001b[39minject_component(),\n\u001b[0;32m    375\u001b[0m         \u001b[39m'\u001b[39m\u001b[39mmain\u001b[39m\u001b[39m'\u001b[39m: \u001b[39mself\u001b[39m\u001b[39m.\u001b[39minject_main(),\n\u001b[0;32m    376\u001b[0m         \u001b[39m'\u001b[39m\u001b[39mbrace_right\u001b[39m\u001b[39m'\u001b[39m: \u001b[39m'\u001b[39m\u001b[39m}\u001b[39m\u001b[39m'\u001b[39m,\n\u001b[0;32m    377\u001b[0m     })\n",
      "File \u001b[1;32mc:\\Progetto_Ing_Informatica\\Research_Project\\keras2circom\\keras2circom\\circom.py:349\u001b[0m, in \u001b[0;36mCircuit.inject_signal\u001b[1;34m(self)\u001b[0m\n\u001b[0;32m    347\u001b[0m \u001b[39mdef\u001b[39;00m \u001b[39minject_signal\u001b[39m(\u001b[39mself\u001b[39m) \u001b[39m-\u001b[39m\u001b[39m>\u001b[39m \u001b[39mstr\u001b[39m:\n\u001b[0;32m    348\u001b[0m \u001b[39m    \u001b[39m\u001b[39m'''inject the signal declarations'''\u001b[39;00m\n\u001b[1;32m--> 349\u001b[0m     inject_str \u001b[39m=\u001b[39m \u001b[39mself\u001b[39;49m\u001b[39m.\u001b[39;49mcomponents[\u001b[39m0\u001b[39;49m]\u001b[39m.\u001b[39;49minject_signal()\n\u001b[0;32m    350\u001b[0m     \u001b[39mfor\u001b[39;00m i \u001b[39min\u001b[39;00m \u001b[39mrange\u001b[39m(\u001b[39m1\u001b[39m, \u001b[39mlen\u001b[39m(\u001b[39mself\u001b[39m\u001b[39m.\u001b[39mcomponents)):\n\u001b[0;32m    351\u001b[0m         inject_str \u001b[39m+\u001b[39m\u001b[39m=\u001b[39m \u001b[39mself\u001b[39m\u001b[39m.\u001b[39mcomponents[i]\u001b[39m.\u001b[39minject_signal(\u001b[39mself\u001b[39m\u001b[39m.\u001b[39mcomponents[i\u001b[39m-\u001b[39m\u001b[39m1\u001b[39m], i\u001b[39m==\u001b[39m\u001b[39mlen\u001b[39m(\u001b[39mself\u001b[39m\u001b[39m.\u001b[39mcomponents)\u001b[39m-\u001b[39m\u001b[39m1\u001b[39m)\n",
      "File \u001b[1;32mc:\\Progetto_Ing_Informatica\\Research_Project\\keras2circom\\keras2circom\\circom.py:241\u001b[0m, in \u001b[0;36mComponent.inject_signal\u001b[1;34m(self, prev_comp, last_comp)\u001b[0m\n\u001b[0;32m    239\u001b[0m \u001b[39mfor\u001b[39;00m signal \u001b[39min\u001b[39;00m \u001b[39mself\u001b[39m\u001b[39m.\u001b[39minputs:\n\u001b[0;32m    240\u001b[0m     \u001b[39mif\u001b[39;00m signal\u001b[39m.\u001b[39mvalue \u001b[39mis\u001b[39;00m \u001b[39mNone\u001b[39;00m \u001b[39mand\u001b[39;00m prev_comp \u001b[39mis\u001b[39;00m \u001b[39mNone\u001b[39;00m:\n\u001b[1;32m--> 241\u001b[0m         inject_str \u001b[39m+\u001b[39m\u001b[39m=\u001b[39m signal\u001b[39m.\u001b[39;49minject_input_signal()\n\u001b[0;32m    242\u001b[0m     \u001b[39melif\u001b[39;00m signal\u001b[39m.\u001b[39mvalue \u001b[39mis\u001b[39;00m \u001b[39mnot\u001b[39;00m \u001b[39mNone\u001b[39;00m:\n\u001b[0;32m    243\u001b[0m         inject_str \u001b[39m+\u001b[39m\u001b[39m=\u001b[39m signal\u001b[39m.\u001b[39minject_signal(\u001b[39mself\u001b[39m\u001b[39m.\u001b[39mname)\n",
      "File \u001b[1;32mc:\\Progetto_Ing_Informatica\\Research_Project\\keras2circom\\keras2circom\\circom.py:172\u001b[0m, in \u001b[0;36mSignal.inject_input_signal\u001b[1;34m(self)\u001b[0m\n\u001b[0;32m    170\u001b[0m \u001b[39mif\u001b[39;00m \u001b[39mself\u001b[39m\u001b[39m.\u001b[39mvalue \u001b[39mis\u001b[39;00m \u001b[39mnot\u001b[39;00m \u001b[39mNone\u001b[39;00m:\n\u001b[0;32m    171\u001b[0m     \u001b[39mraise\u001b[39;00m \u001b[39mValueError\u001b[39;00m(\u001b[39m'\u001b[39m\u001b[39minput signal should not have value\u001b[39m\u001b[39m'\u001b[39m)\n\u001b[1;32m--> 172\u001b[0m \u001b[39mreturn\u001b[39;00m \u001b[39m'\u001b[39m\u001b[39msignal input in\u001b[39m\u001b[39m{}\u001b[39;00m\u001b[39m;\u001b[39m\u001b[39m\\n\u001b[39;00m\u001b[39m'\u001b[39m\u001b[39m.\u001b[39mformat(parse_shape(\u001b[39mself\u001b[39;49m\u001b[39m.\u001b[39;49mshape))\n",
      "File \u001b[1;32mc:\\Progetto_Ing_Informatica\\Research_Project\\keras2circom\\keras2circom\\circom.py:39\u001b[0m, in \u001b[0;36mparse_shape\u001b[1;34m(shape)\u001b[0m\n\u001b[0;32m     37\u001b[0m \u001b[39m\u001b[39m\u001b[39m'''parse shape to integers enclosed by []'''\u001b[39;00m\n\u001b[0;32m     38\u001b[0m shape_str \u001b[39m=\u001b[39m \u001b[39m'\u001b[39m\u001b[39m'\u001b[39m\n\u001b[1;32m---> 39\u001b[0m \u001b[39mfor\u001b[39;00m dim \u001b[39min\u001b[39;00m shape:\n\u001b[0;32m     40\u001b[0m     shape_str \u001b[39m+\u001b[39m\u001b[39m=\u001b[39m \u001b[39m'\u001b[39m\u001b[39m[\u001b[39m\u001b[39m{}\u001b[39;00m\u001b[39m]\u001b[39m\u001b[39m'\u001b[39m\u001b[39m.\u001b[39mformat(dim)\n\u001b[0;32m     41\u001b[0m \u001b[39mreturn\u001b[39;00m shape_str\n",
      "File \u001b[1;32mc:\\Users\\valer\\anaconda3\\envs\\ZKP\\lib\\site-packages\\keras\\engine\\keras_tensor.py:411\u001b[0m, in \u001b[0;36mKerasTensor.__iter__\u001b[1;34m(self)\u001b[0m\n\u001b[0;32m    409\u001b[0m     \u001b[39mraise\u001b[39;00m \u001b[39mTypeError\u001b[39;00m(\u001b[39m\"\u001b[39m\u001b[39mCannot iterate over a scalar.\u001b[39m\u001b[39m\"\u001b[39m)\n\u001b[0;32m    410\u001b[0m \u001b[39mif\u001b[39;00m shape[\u001b[39m0\u001b[39m] \u001b[39mis\u001b[39;00m \u001b[39mNone\u001b[39;00m:\n\u001b[1;32m--> 411\u001b[0m     \u001b[39mraise\u001b[39;00m \u001b[39mTypeError\u001b[39;00m(\n\u001b[0;32m    412\u001b[0m         \u001b[39m\"\u001b[39m\u001b[39mCannot iterate over a Tensor with unknown first dimension.\u001b[39m\u001b[39m\"\u001b[39m\n\u001b[0;32m    413\u001b[0m     )\n\u001b[0;32m    414\u001b[0m \u001b[39mreturn\u001b[39;00m _KerasTensorIterator(\u001b[39mself\u001b[39m, shape[\u001b[39m0\u001b[39m])\n",
      "\u001b[1;31mTypeError\u001b[0m: Cannot iterate over a Tensor with unknown first dimension."
     ]
    }
   ],
   "source": [
    "with open('./circuit_conv.circom', 'w') as f:\n",
    "    f.write(circuit.to_circom())"
   ]
  }
 ],
 "metadata": {
  "kernelspec": {
   "display_name": "Python 3",
   "language": "python",
   "name": "python3"
  },
  "language_info": {
   "codemirror_mode": {
    "name": "ipython",
    "version": 3
   },
   "file_extension": ".py",
   "mimetype": "text/x-python",
   "name": "python",
   "nbconvert_exporter": "python",
   "pygments_lexer": "ipython3",
   "version": "3.8.16"
  },
  "orig_nbformat": 4
 },
 "nbformat": 4,
 "nbformat_minor": 2
}
