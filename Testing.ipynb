{
 "cells": [
  {
   "attachments": {},
   "cell_type": "markdown",
   "metadata": {},
   "source": [
    "# Onnx to Circom"
   ]
  },
  {
   "attachments": {},
   "cell_type": "markdown",
   "metadata": {},
   "source": [
    "## Parameters extraction"
   ]
  },
  {
   "attachments": {},
   "cell_type": "markdown",
   "metadata": {},
   "source": [
    "### Onnx model"
   ]
  },
  {
   "cell_type": "code",
   "execution_count": 82,
   "metadata": {},
   "outputs": [],
   "source": [
    "import onnx\n",
    "import onnxruntime\n",
    "\n",
    "# Load the ONNX model\n",
    "model = onnx.load('model.onnx')\n",
    "\n",
    "# Create an inference session to compute the input size\n",
    "session = onnxruntime.InferenceSession('model.onnx')\n",
    "\n",
    "# Iterate over the nodes\n",
    "num = 0\n",
    "for node in model.graph.node:\n",
    "    num+=1\n",
    "    if node.op_type in useful_operations:\n",
    "        break"
   ]
  },
  {
   "attachments": {},
   "cell_type": "markdown",
   "metadata": {},
   "source": [
    "### Tensorflow model"
   ]
  },
  {
   "cell_type": "code",
   "execution_count": 157,
   "metadata": {},
   "outputs": [],
   "source": [
    "import tensorflow as tf\n",
    "\n",
    "# Create a simple model with a Dense layer\n",
    "model_tf = tf.keras.Sequential([\n",
    "    tf.keras.layers.Conv2D(filters=5, kernel_size=3, input_shape=(4, 10, 32)),\n",
    "    tf.keras.layers.BatchNormalization(),\n",
    "    tf.keras.layers.Conv2D(filters=30, kernel_size=2, ), \n",
    "    tf.keras.layers.BatchNormalization(),\n",
    "    tf.keras.layers.Dense(8, activation='relu', kernel_regularizer=tf.keras.regularizers.l2(0.01)),\n",
    "    tf.keras.layers.Dense(12, activation='relu'),\n",
    "    tf.keras.layers.Dense(4, activation='relu'),\n",
    "    #tf.keras.layers.AveragePooling2D(),\n",
    "    tf.keras.layers.MaxPooling2D(pool_size=(1, 1)),\n",
    "    #tf.keras.layers.GlobalMaxPool2D(),\n",
    "    #tf.keras.layers.GlobalAveragePooling2D(),\n",
    "    #tf.keras.layers.Flatten(name='layer_6'),\n",
    "    tf.keras.layers.Dense(4, activation='softmax'),\n",
    "])"
   ]
  },
  {
   "cell_type": "code",
   "execution_count": 158,
   "metadata": {},
   "outputs": [
    {
     "name": "stdout",
     "output_type": "stream",
     "text": [
      "Model: \"sequential_10\"\n",
      "_________________________________________________________________\n",
      " Layer (type)                Output Shape              Param #   \n",
      "=================================================================\n",
      " conv2d_13 (Conv2D)          (None, 2, 8, 5)           1445      \n",
      "                                                                 \n",
      " batch_normalization_18 (Bat  (None, 2, 8, 5)          20        \n",
      " chNormalization)                                                \n",
      "                                                                 \n",
      " conv2d_14 (Conv2D)          (None, 1, 7, 30)          630       \n",
      "                                                                 \n",
      " batch_normalization_19 (Bat  (None, 1, 7, 30)         120       \n",
      " chNormalization)                                                \n",
      "                                                                 \n",
      " dense_38 (Dense)            (None, 1, 7, 8)           248       \n",
      "                                                                 \n",
      " dense_39 (Dense)            (None, 1, 7, 12)          108       \n",
      "                                                                 \n",
      " dense_40 (Dense)            (None, 1, 7, 4)           52        \n",
      "                                                                 \n",
      " max_pooling2d_9 (MaxPooling  (None, 1, 7, 4)          0         \n",
      " 2D)                                                             \n",
      "                                                                 \n",
      " dense_41 (Dense)            (None, 1, 7, 4)           20        \n",
      "                                                                 \n",
      "=================================================================\n",
      "Total params: 2,643\n",
      "Trainable params: 2,573\n",
      "Non-trainable params: 70\n",
      "_________________________________________________________________\n"
     ]
    }
   ],
   "source": [
    "model_tf.summary()"
   ]
  },
  {
   "attachments": {},
   "cell_type": "markdown",
   "metadata": {},
   "source": [
    "#### First input shape"
   ]
  },
  {
   "cell_type": "code",
   "execution_count": 141,
   "metadata": {},
   "outputs": [
    {
     "name": "stdout",
     "output_type": "stream",
     "text": [
      "Input tensor name:  input\n",
      "Input tensor shape:  [0, 4, 10, 32]\n"
     ]
    }
   ],
   "source": [
    "# First input\n",
    "for input in model.graph.input:\n",
    "    print('Input tensor name: ', input.name)\n",
    "    print('Input tensor shape: ', [dim.dim_value for dim in input.type.tensor_type.shape.dim])"
   ]
  },
  {
   "cell_type": "code",
   "execution_count": 208,
   "metadata": {},
   "outputs": [],
   "source": [
    "node = model.graph.node[8]\n",
    "layer = model_tf.layers[0]"
   ]
  },
  {
   "attachments": {},
   "cell_type": "markdown",
   "metadata": {},
   "source": [
    "### Layer Traslation"
   ]
  },
  {
   "attachments": {},
   "cell_type": "markdown",
   "metadata": {},
   "source": [
    "#### Conv layer"
   ]
  },
  {
   "cell_type": "code",
   "execution_count": 173,
   "metadata": {},
   "outputs": [],
   "source": [
    "layer = model_tf.layers[0]\n",
    "node = model.graph.node[8]"
   ]
  },
  {
   "attachments": {},
   "cell_type": "markdown",
   "metadata": {},
   "source": [
    "##### Layer name"
   ]
  },
  {
   "cell_type": "code",
   "execution_count": 147,
   "metadata": {},
   "outputs": [
    {
     "data": {
      "text/plain": [
       "('conv2d_9', 'Conv')"
      ]
     },
     "execution_count": 147,
     "metadata": {},
     "output_type": "execute_result"
    }
   ],
   "source": [
    "layer.name, node.op_type"
   ]
  },
  {
   "attachments": {},
   "cell_type": "markdown",
   "metadata": {},
   "source": [
    "##### Input\n",
    "The input shape is the same of the previous layer's output shape or the first input calculated above"
   ]
  },
  {
   "cell_type": "code",
   "execution_count": 140,
   "metadata": {},
   "outputs": [
    {
     "data": {
      "text/plain": [
       "<KerasTensor: shape=(None, 4, 10, 32) dtype=float32 (created by layer 'conv2d_9_input')>"
      ]
     },
     "execution_count": 140,
     "metadata": {},
     "output_type": "execute_result"
    }
   ],
   "source": [
    "# It is the shape of the input tensor\n",
    "layer.input"
   ]
  },
  {
   "attachments": {},
   "cell_type": "markdown",
   "metadata": {},
   "source": [
    "##### Weights (Shape and values)\n",
    "To be given thanks to json file"
   ]
  },
  {
   "cell_type": "code",
   "execution_count": 160,
   "metadata": {},
   "outputs": [
    {
     "data": {
      "text/plain": [
       "TensorShape([3, 3, 32, 5])"
      ]
     },
     "execution_count": 160,
     "metadata": {},
     "output_type": "execute_result"
    }
   ],
   "source": [
    "layer.weights[0].shape\n",
    "\n",
    "#ONNX: load from json to security reasons"
   ]
  },
  {
   "attachments": {},
   "cell_type": "markdown",
   "metadata": {},
   "source": [
    "##### Bias (bias) (Shapes and values)\n",
    "To be given thanks to json file"
   ]
  },
  {
   "cell_type": "code",
   "execution_count": 183,
   "metadata": {},
   "outputs": [
    {
     "data": {
      "text/plain": [
       "TensorShape([5])"
      ]
     },
     "execution_count": 183,
     "metadata": {},
     "output_type": "execute_result"
    }
   ],
   "source": [
    "layer.weights[1].shape\n",
    "\n",
    "#ONNX: load from json to security reasons"
   ]
  },
  {
   "attachments": {},
   "cell_type": "markdown",
   "metadata": {},
   "source": [
    "##### Layer output\n",
    "To be calculated, in case of Conv layer:\n",
    "\n",
    "- H_out = [(H_in - F_height + 2 * Padding) / S_height] + 1\n",
    "\n",
    "- W_out = [(W_in - F_width + 2 * Padding) / S_width] + 1\n",
    "\n",
    "- C_out = Number of filters in the convolutional layer"
   ]
  },
  {
   "cell_type": "code",
   "execution_count": 184,
   "metadata": {},
   "outputs": [
    {
     "data": {
      "text/plain": [
       "<KerasTensor: shape=(None, 2, 8, 5) dtype=float32 (created by layer 'conv2d_13')>"
      ]
     },
     "execution_count": 184,
     "metadata": {},
     "output_type": "execute_result"
    }
   ],
   "source": [
    "layer.output #input: 4, 10, 32"
   ]
  },
  {
   "cell_type": "code",
   "execution_count": 189,
   "metadata": {},
   "outputs": [
    {
     "name": "stdout",
     "output_type": "stream",
     "text": [
      "Kernel shape:  [3, 3]\n"
     ]
    }
   ],
   "source": [
    "# (filter dim1, filter dim2, input channels, output channels)\n",
    "layer.get_weights()[0].shape, layer.padding"
   ]
  },
  {
   "cell_type": "code",
   "execution_count": 190,
   "metadata": {},
   "outputs": [
    {
     "name": "stdout",
     "output_type": "stream",
     "text": [
      "Kernel shape:  [3, 3]\n"
     ]
    }
   ],
   "source": [
    "# filter dim1, filter dim2\n",
    "for attribute in node.attribute:\n",
    "    if attribute.name == 'kernel_shape':\n",
    "        kernel_shape = attribute.ints[1]\n",
    "        print('Kernel shape: ', [kernel_shape, kernel_shape])"
   ]
  },
  {
   "attachments": {},
   "cell_type": "markdown",
   "metadata": {},
   "source": [
    "##### nRows"
   ]
  },
  {
   "cell_type": "code",
   "execution_count": 186,
   "metadata": {},
   "outputs": [
    {
     "data": {
      "text/plain": [
       "<KerasTensor: shape=(4, 10, 32) dtype=float32 (created by layer 'tf.__operators__.getitem_18')>"
      ]
     },
     "execution_count": 186,
     "metadata": {},
     "output_type": "execute_result"
    }
   ],
   "source": [
    "layer.input[0] # 4"
   ]
  },
  {
   "attachments": {},
   "cell_type": "markdown",
   "metadata": {},
   "source": [
    "##### nCol"
   ]
  },
  {
   "cell_type": "code",
   "execution_count": 146,
   "metadata": {},
   "outputs": [
    {
     "data": {
      "text/plain": [
       "<KerasTensor: shape=(4, 10, 32) dtype=float32 (created by layer 'tf.__operators__.getitem_16')>"
      ]
     },
     "execution_count": 146,
     "metadata": {},
     "output_type": "execute_result"
    }
   ],
   "source": [
    "layer.input[1] # 10"
   ]
  },
  {
   "attachments": {},
   "cell_type": "markdown",
   "metadata": {},
   "source": [
    "##### nChannels & nFilters"
   ]
  },
  {
   "cell_type": "code",
   "execution_count": 166,
   "metadata": {},
   "outputs": [
    {
     "data": {
      "text/plain": [
       "(5, 5)"
      ]
     },
     "execution_count": 166,
     "metadata": {},
     "output_type": "execute_result"
    }
   ],
   "source": [
    "# The number of channels is egual to the number of filters, \n",
    "# and it's egual to the number of dimensione 3 of wheits array\n",
    "layer.filters, layer.weights[0].shape[3]"
   ]
  },
  {
   "cell_type": "code",
   "execution_count": 169,
   "metadata": {},
   "outputs": [
    {
     "name": "stdout",
     "output_type": "stream",
     "text": [
      "Layer (node) name:  sequential/conv1d/Conv1D/Conv2D\n",
      "Number of filters:  5\n",
      "Layer (node) name:  sequential/conv2d/Conv2D\n",
      "Number of filters:  30\n"
     ]
    }
   ],
   "source": [
    "for node in model.graph.node:\n",
    "    if node.op_type == 'Conv':  # We found a convolutional layer\n",
    "        # Get the name of the weights tensor for this layer\n",
    "        weights_name = node.input[1]  # The weights tensor is usually the second input\n",
    "        # Now we look for this tensor in the initializers\n",
    "        for initializer in model.graph.initializer:\n",
    "            if initializer.name == weights_name:\n",
    "                # We found the weights tensor. Its shape gives us the number of filters\n",
    "                weights = numpy_helper.to_array(initializer)\n",
    "                print('Layer (node) name: ', node.name)\n",
    "                print('Number of filters: ', weights.shape[0])\n",
    "                break"
   ]
  },
  {
   "attachments": {},
   "cell_type": "markdown",
   "metadata": {},
   "source": [
    "##### KernelSize"
   ]
  },
  {
   "cell_type": "code",
   "execution_count": 171,
   "metadata": {},
   "outputs": [
    {
     "data": {
      "text/plain": [
       "(3, 3)"
      ]
     },
     "execution_count": 171,
     "metadata": {},
     "output_type": "execute_result"
    }
   ],
   "source": [
    "layer.kernel_size"
   ]
  },
  {
   "cell_type": "code",
   "execution_count": 179,
   "metadata": {},
   "outputs": [
    {
     "name": "stdout",
     "output_type": "stream",
     "text": [
      "Kernel shape:  [3, 3]\n"
     ]
    }
   ],
   "source": [
    "for attribute in node.attribute:\n",
    "    if attribute.name == 'kernel_shape':\n",
    "        kernel_shape = attribute.ints[1]\n",
    "        print('Kernel shape: ', [kernel_shape, kernel_shape])"
   ]
  },
  {
   "attachments": {},
   "cell_type": "markdown",
   "metadata": {},
   "source": [
    "##### Strides"
   ]
  },
  {
   "cell_type": "code",
   "execution_count": 182,
   "metadata": {},
   "outputs": [
    {
     "name": "stdout",
     "output_type": "stream",
     "text": [
      "Strides shape:  [1, 1]\n"
     ]
    }
   ],
   "source": [
    "for attribute in node.attribute:\n",
    "    if attribute.name == 'strides':\n",
    "        stride_shape = attribute.ints\n",
    "        print('Strides shape: ', stride_shape)"
   ]
  },
  {
   "attachments": {},
   "cell_type": "markdown",
   "metadata": {},
   "source": [
    "#### Circuit Conv Creation"
   ]
  },
  {
   "cell_type": "code",
   "execution_count": 247,
   "metadata": {},
   "outputs": [],
   "source": [
    "from keras2circom.keras2circom import circom\n",
    "from keras2circom.keras2circom.circom import Component, Circuit, Signal\n",
    "import typing\n"
   ]
  },
  {
   "cell_type": "code",
   "execution_count": 243,
   "metadata": {},
   "outputs": [],
   "source": [
    "import os\n",
    "from os import path\n",
    "import re\n",
    "\n",
    "def dir_parse(dir_path, skips=[]):\n",
    "    '''parse circom files in a directory'''\n",
    "    names = os.listdir(dir_path)\n",
    "    for name in names:\n",
    "        if name in skips:\n",
    "            continue\n",
    "\n",
    "        fpath = path.join(dir_path, name)\n",
    "        if os.path.isdir(fpath):\n",
    "            dir_parse(fpath)\n",
    "        elif os.path.isfile(fpath):\n",
    "            if fpath.endswith('.circom'):\n",
    "                templates = file_parse(fpath)\n",
    "    print(templates)\n",
    "    return templates\n",
    "\n",
    "def file_parse(fpath):\n",
    "    '''parse circom file and register templates'''\n",
    "    with open(fpath, 'r') as f:\n",
    "        lines = f.read().split('\\n')\n",
    "\n",
    "    lines = [l for l in lines if not l.strip().startswith('//')]\n",
    "    lines = ' '.join(lines)\n",
    "\n",
    "    lines = re.sub('/\\*.*?\\*/', 'IGN', lines)\n",
    "\n",
    "    funcs = re.findall('template (\\w+) ?\\((.*?)\\) ?\\{(.*?)\\}', lines)\n",
    "    for func in funcs:\n",
    "        op_name = func[0].strip()\n",
    "        args = func[1].split(',')\n",
    "        main = func[2].strip()\n",
    "        assert op_name not in templates, \\\n",
    "            'duplicated template: {} in {} vs. {}'.format(\n",
    "                    op_name, templates[op_name].fpath, fpath)\n",
    "\n",
    "        signals = re.findall('signal (\\w+) (\\w+)(.*?);', main)\n",
    "        infos = [[] for i in range(4)]\n",
    "        for sig in signals:\n",
    "            sig_types = ['input', 'output']\n",
    "            assert sig[0] in sig_types, sig[1] + ' | ' + main\n",
    "            idx = sig_types.index(sig[0])\n",
    "            infos[idx*2+0].append(sig[1])\n",
    "\n",
    "            sig_dim = sig[2].count('[')\n",
    "            infos[idx*2+1].append(sig_dim)\n",
    "        templates[op_name] = Template(\n",
    "                op_name, fpath,\n",
    "                [a.strip() for a in args],\n",
    "                *infos)\n",
    "    return templates"
   ]
  },
  {
   "cell_type": "code",
   "execution_count": 244,
   "metadata": {},
   "outputs": [
    {
     "name": "stdout",
     "output_type": "stream",
     "text": [
      "{'ArgMax': Template(op_name='ArgMax', fpath='node_modules/circomlib-ml/circuits/ArgMax.circom', args=['n'], input_names=['in'], input_dims=[1], output_names=['out'], output_dims=[0]), 'AveragePooling2D': Template(op_name='AveragePooling2D', fpath='node_modules/circomlib-ml/circuits/AveragePooling2D.circom', args=['nRows', 'nCols', 'nChannels', 'poolSize', 'strides', 'scaledInvPoolSize'], input_names=['in'], input_dims=[3], output_names=['out'], output_dims=[3]), 'BatchNormalization2D': Template(op_name='BatchNormalization2D', fpath='node_modules/circomlib-ml/circuits/BatchNormalization2D.circom', args=['nRows', 'nCols', 'nChannels'], input_names=['in', 'a', 'b'], input_dims=[3, 1, 1], output_names=['out'], output_dims=[3]), 'Conv1D': Template(op_name='Conv1D', fpath='node_modules/circomlib-ml/circuits/Conv1D.circom', args=['nInputs', 'nChannels', 'nFilters', 'kernelSize', 'strides'], input_names=['in', 'weights', 'bias'], input_dims=[2, 3, 1], output_names=['out'], output_dims=[2]), 'Conv2D': Template(op_name='Conv2D', fpath='node_modules/circomlib-ml/circuits/Conv2D.circom', args=['nRows', 'nCols', 'nChannels', 'nFilters', 'kernelSize', 'strides'], input_names=['in', 'weights', 'bias'], input_dims=[3, 4, 1], output_names=['out'], output_dims=[3]), 'Dense': Template(op_name='Dense', fpath='node_modules/circomlib-ml/circuits/Dense.circom', args=['nInputs', 'nOutputs'], input_names=['in', 'weights', 'bias'], input_dims=[1, 2, 1], output_names=['out'], output_dims=[1]), 'Flatten2D': Template(op_name='Flatten2D', fpath='node_modules/circomlib-ml/circuits/Flatten2D.circom', args=['nRows', 'nCols', 'nChannels'], input_names=['in'], input_dims=[3], output_names=['out'], output_dims=[1]), 'GlobalAveragePooling2D': Template(op_name='GlobalAveragePooling2D', fpath='node_modules/circomlib-ml/circuits/GlobalAveragePooling2D.circom', args=['nRows', 'nCols', 'nChannels', 'scaledInv'], input_names=['in'], input_dims=[3], output_names=['out'], output_dims=[1]), 'GlobalMaxPooling2D': Template(op_name='GlobalMaxPooling2D', fpath='node_modules/circomlib-ml/circuits/GlobalMaxPooling2D.circom', args=['nRows', 'nCols', 'nChannels'], input_names=['in'], input_dims=[3], output_names=['out'], output_dims=[1]), 'GlobalSumPooling2D': Template(op_name='GlobalSumPooling2D', fpath='node_modules/circomlib-ml/circuits/GlobalSumPooling2D.circom', args=['nRows', 'nCols', 'nChannels'], input_names=['in'], input_dims=[3], output_names=['out'], output_dims=[1]), 'MaxPooling2D': Template(op_name='MaxPooling2D', fpath='node_modules/circomlib-ml/circuits/MaxPooling2D.circom', args=['nRows', 'nCols', 'nChannels', 'poolSize', 'strides'], input_names=['in'], input_dims=[3], output_names=['out'], output_dims=[3]), 'Poly': Template(op_name='Poly', fpath='node_modules/circomlib-ml/circuits/Poly.circom', args=['n'], input_names=['in'], input_dims=[0], output_names=['out'], output_dims=[0]), 'ReLU': Template(op_name='ReLU', fpath='node_modules/circomlib-ml/circuits/ReLU.circom', args=[''], input_names=['in'], input_dims=[0], output_names=['out'], output_dims=[0]), 'SumPooling2D': Template(op_name='SumPooling2D', fpath='node_modules/circomlib-ml/circuits/SumPooling2D.circom', args=['nRows', 'nCols', 'nChannels', 'poolSize', 'strides'], input_names=['in'], input_dims=[3], output_names=['out'], output_dims=[3])}\n"
     ]
    }
   ],
   "source": [
    "templates = {}\n",
    "templates = dir_parse('node_modules/circomlib-ml/circuits/', skips=['util.circom', 'circomlib-matrix', 'circomlib', 'crypto'])"
   ]
  },
  {
   "cell_type": "code",
   "execution_count": 269,
   "metadata": {},
   "outputs": [],
   "source": [
    "import numpy as np\n",
    "array = (np.random.random(1458) * 255).astype(np.uint8)"
   ]
  },
  {
   "attachments": {},
   "cell_type": "markdown",
   "metadata": {},
   "source": []
  },
  {
   "cell_type": "code",
   "execution_count": 270,
   "metadata": {},
   "outputs": [
    {
     "name": "stdout",
     "output_type": "stream",
     "text": [
      "[53, 0, 67, 24, 134, 246, 40, 113, 243, 77, 244, 213, 229, 62, 239, 59, 148, 197, 33, 66, 3, 81, 59, 213, 4, 20, 132, 222, 131, 193, 154, 223, 225, 204, 237, 95, 58, 168, 5, 28, 51, 239, 96, 153, 147, 46, 34, 181, 49, 105, 220, 36, 215, 163, 42, 78, 114, 240, 20, 80, 80, 55, 97, 162, 111, 205, 72, 3, 49, 227, 77, 28, 92, 91, 6, 75, 121, 238, 228, 66, 17, 173, 109, 220, 91, 196, 133, 66, 26, 211, 236, 109, 202, 241, 5, 234, 34, 76, 6, 116, 112, 228, 211, 90, 12, 143, 37, 100, 234, 144, 239, 21, 55, 123, 62, 121, 195, 93, 74, 52, 121, 134, 235, 96, 23, 127, 176, 116, 153, 34, 44, 80, 158, 212, 114, 226, 95, 14, 171, 101, 24, 38, 6, 223, 237, 222, 72, 41, 186, 193, 206, 87, 111, 160, 143, 224, 8, 152, 191, 113, 91, 248, 4, 93, 78, 151, 153, 187, 151, 109, 134, 158, 51, 173, 16, 210, 232, 246, 146, 3, 221, 185, 244, 114, 51, 35, 81, 61, 209, 95, 62, 9, 116, 252, 23, 180, 65, 165, 241, 200, 87, 212, 35, 72, 230, 197, 43, 244, 150, 193, 17, 237, 70, 20, 68, 79, 204, 31, 245, 205, 94, 189, 150, 91, 24, 91, 172, 193, 167, 32, 116, 226, 161, 240, 72, 169, 58, 34, 237, 178, 66, 16, 135, 231, 189, 38, 236, 219, 233, 183, 137, 78, 7, 99, 245, 63, 21, 149, 184, 136, 148, 118, 100, 104, 143, 178, 86, 49, 238, 179, 196, 13, 19, 72, 90, 156, 238, 238, 139, 226, 8, 243, 65, 231, 234, 205, 81, 155, 183, 99, 252, 194, 130, 116, 56, 34, 44, 40, 79, 219, 26, 236, 147, 28, 45, 86, 61, 146, 136, 155, 51, 128, 140, 108, 85, 79, 197, 152, 209, 68, 108, 191, 246, 128, 171, 180, 173, 146, 37, 87, 16, 47, 170, 87, 244, 40, 221, 128, 185, 133, 13, 228, 112, 53, 120, 42, 148, 125, 161, 77, 185, 189, 128, 60, 188, 58, 24, 201, 102, 25, 94, 217, 189, 33, 27, 79, 117, 178, 29, 223, 244, 62, 96, 46, 152, 79, 241, 191, 115, 239, 112, 82, 123, 154, 63, 41, 208, 24, 167, 169, 118, 80, 193, 41, 108, 111, 219, 49, 153, 111, 89, 118, 231, 199, 114, 101, 149, 39, 97, 130, 72, 46, 12, 59, 232, 182, 11, 117, 188, 12, 184, 160, 107, 43, 242, 96, 211, 206, 248, 188, 46, 102, 52, 129, 167, 17, 107, 135, 65, 74, 90, 124, 137, 122, 217, 121, 221, 240, 181, 23, 108, 231, 99, 50, 254, 64, 106, 89, 84, 207, 202, 163, 62, 123, 231, 253, 186, 248, 90, 83, 244, 193, 249, 60, 2, 111, 139, 237, 159, 248, 222, 85, 40, 53, 88, 253, 130, 79, 118, 3, 15, 47, 220, 141, 206, 246, 217, 173, 97, 198, 37, 176, 216, 36, 207, 162, 208, 252, 111, 109, 111, 242, 135, 133, 127, 7, 245, 64, 222, 253, 225, 69, 141, 25, 191, 60, 148, 62, 246, 135, 50, 57, 108, 232, 114, 98, 29, 59, 93, 38, 122, 79, 249, 251, 87, 157, 105, 191, 233, 163, 189, 145, 8, 183, 169, 6, 237, 174, 196, 11, 146, 152, 16, 39, 201, 79, 100, 83, 113, 7, 185, 111, 124, 76, 205, 55, 61, 84, 80, 42, 21, 30, 31, 228, 188, 118, 238, 48, 112, 198, 229, 169, 153, 128, 160, 196, 164, 198, 165, 207, 1, 123, 100, 97, 105, 87, 170, 228, 245, 146, 52, 222, 244, 254, 73, 200, 143, 12, 182, 186, 179, 226, 103, 190, 198, 82, 196, 83, 113, 47, 164, 231, 131, 208, 76, 14, 103, 21, 54, 202, 225, 42, 125, 8, 10, 145, 133, 27, 69, 216, 67, 37, 157, 217, 254, 236, 47, 7, 67, 103, 179, 142, 16, 234, 200, 73, 226, 126, 222, 25, 81, 103, 35, 62, 112, 172, 207, 67, 70, 188, 165, 182, 156, 172, 157, 235, 237, 180, 125, 156, 80, 240, 92, 23, 123, 200, 50, 227, 51, 34, 91, 118, 236, 241, 43, 227, 236, 181, 126, 156, 137, 14, 22, 52, 90, 173, 13, 36, 100, 173, 226, 254, 18, 152, 17, 137, 230, 240, 51, 42, 125, 136, 139, 66, 107, 106, 56, 118, 238, 160, 172, 6, 251, 33, 107, 80, 43, 111, 134, 35, 32, 71, 25, 2, 138, 94, 122, 93, 251, 189, 55, 75, 0, 119, 209, 165, 23, 208, 126, 217, 217, 118, 215, 171, 232, 225, 88, 9, 103, 11, 191, 78, 183, 120, ]\n"
     ]
    }
   ],
   "source": [
    "print(\"[\", end=\"\")\n",
    "for i in array.flatten():\n",
    "    print(str(i)+ \",\",  end=\" \")\n",
    "print(\"]\")"
   ]
  },
  {
   "cell_type": "code",
   "execution_count": 248,
   "metadata": {},
   "outputs": [
    {
     "ename": "AttributeError",
     "evalue": "'Conv2D' object has no attribute 'config'",
     "output_type": "error",
     "traceback": [
      "\u001b[1;31m---------------------------------------------------------------------------\u001b[0m",
      "\u001b[1;31mAttributeError\u001b[0m                            Traceback (most recent call last)",
      "Cell \u001b[1;32mIn[248], line 9\u001b[0m\n\u001b[0;32m      1\u001b[0m conv \u001b[39m=\u001b[39m Component(layer\u001b[39m.\u001b[39mname, templates[\u001b[39m'\u001b[39m\u001b[39mConv2D\u001b[39m\u001b[39m'\u001b[39m], [\n\u001b[0;32m      2\u001b[0m     Signal(\u001b[39m'\u001b[39m\u001b[39min\u001b[39m\u001b[39m'\u001b[39m, layer\u001b[39m.\u001b[39minput),\n\u001b[0;32m      3\u001b[0m     Signal(\u001b[39m'\u001b[39m\u001b[39mweights\u001b[39m\u001b[39m'\u001b[39m, layer\u001b[39m.\u001b[39mweights[\u001b[39m0\u001b[39m]\u001b[39m.\u001b[39mshape, layer\u001b[39m.\u001b[39mweights[\u001b[39m0\u001b[39m]),\n\u001b[0;32m      4\u001b[0m     Signal(\u001b[39m'\u001b[39m\u001b[39mbias\u001b[39m\u001b[39m'\u001b[39m, layer\u001b[39m.\u001b[39mweights[\u001b[39m1\u001b[39m]\u001b[39m.\u001b[39mshape, layer\u001b[39m.\u001b[39mweights[\u001b[39m1\u001b[39m]),\n\u001b[0;32m      5\u001b[0m     ],[Signal(\u001b[39m'\u001b[39m\u001b[39mout\u001b[39m\u001b[39m'\u001b[39m, layer\u001b[39m.\u001b[39moutput)],{\n\u001b[0;32m      6\u001b[0m     \u001b[39m'\u001b[39m\u001b[39mnRows\u001b[39m\u001b[39m'\u001b[39m: layer\u001b[39m.\u001b[39minput[\u001b[39m0\u001b[39m],\n\u001b[0;32m      7\u001b[0m     \u001b[39m'\u001b[39m\u001b[39mnCols\u001b[39m\u001b[39m'\u001b[39m: layer\u001b[39m.\u001b[39minput[\u001b[39m1\u001b[39m],\n\u001b[0;32m      8\u001b[0m     \u001b[39m'\u001b[39m\u001b[39mnChannels\u001b[39m\u001b[39m'\u001b[39m: layer\u001b[39m.\u001b[39minput[\u001b[39m2\u001b[39m],\n\u001b[1;32m----> 9\u001b[0m     \u001b[39m'\u001b[39m\u001b[39mnFilters\u001b[39m\u001b[39m'\u001b[39m: layer\u001b[39m.\u001b[39;49mconfig[\u001b[39m'\u001b[39m\u001b[39mfilters\u001b[39m\u001b[39m'\u001b[39m],\n\u001b[0;32m     10\u001b[0m     \u001b[39m'\u001b[39m\u001b[39mkernelSize\u001b[39m\u001b[39m'\u001b[39m: layer\u001b[39m.\u001b[39mconfig[\u001b[39m'\u001b[39m\u001b[39mkernel_size\u001b[39m\u001b[39m'\u001b[39m][\u001b[39m0\u001b[39m],\n\u001b[0;32m     11\u001b[0m     \u001b[39m'\u001b[39m\u001b[39mstrides\u001b[39m\u001b[39m'\u001b[39m: layer\u001b[39m.\u001b[39mconfig[\u001b[39m'\u001b[39m\u001b[39mstrides\u001b[39m\u001b[39m'\u001b[39m][\u001b[39m0\u001b[39m],\n\u001b[0;32m     12\u001b[0m     })\n",
      "\u001b[1;31mAttributeError\u001b[0m: 'Conv2D' object has no attribute 'config'"
     ]
    }
   ],
   "source": [
    "conv = Component(layer.name, templates['Conv2D'], [\n",
    "    Signal('in', layer.input),\n",
    "    Signal('weights', layer.weights[0].shape, layer.weights[0]),\n",
    "    Signal('bias', layer.weights[1].shape, layer.weights[1]),\n",
    "    ],[Signal('out', layer.output)],{\n",
    "    'nRows': layer.input[0],\n",
    "    'nCols': layer.input[1],\n",
    "    'nChannels': layer.input[2],\n",
    "    'nFilters': layer.config['filters'],\n",
    "    'kernelSize': layer.config['kernel_size'][0],\n",
    "    'strides': layer.config['strides'][0],\n",
    "    })\n"
   ]
  }
 ],
 "metadata": {
  "kernelspec": {
   "display_name": "Python 3",
   "language": "python",
   "name": "python3"
  },
  "language_info": {
   "codemirror_mode": {
    "name": "ipython",
    "version": 3
   },
   "file_extension": ".py",
   "mimetype": "text/x-python",
   "name": "python",
   "nbconvert_exporter": "python",
   "pygments_lexer": "ipython3",
   "version": "3.8.16"
  },
  "orig_nbformat": 4
 },
 "nbformat": 4,
 "nbformat_minor": 2
}
